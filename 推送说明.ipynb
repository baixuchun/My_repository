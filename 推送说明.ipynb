{
 "cells": [
  {
   "cell_type": "markdown",
   "metadata": {},
   "source": [
    "# 推送代码到github"
   ]
  },
  {
   "cell_type": "markdown",
   "metadata": {},
   "source": [
    "在源代码管理界面提交暂存，然后提交，提交之后会弹出一个界面，输入更新信息的介绍信息，然后点击右边的对号。  \n",
    "点击同步就可以了\n",
    "我用的是ssh，只要提交之后，输入git push就可以了"
   ]
  }
 ],
 "metadata": {
  "kernelspec": {
   "display_name": "base",
   "language": "python",
   "name": "python3"
  },
  "language_info": {
   "codemirror_mode": {
    "name": "ipython",
    "version": 3
   },
   "file_extension": ".py",
   "mimetype": "text/x-python",
   "name": "python",
   "nbconvert_exporter": "python",
   "pygments_lexer": "ipython3",
   "version": "3.12.4"
  }
 },
 "nbformat": 4,
 "nbformat_minor": 2
}
