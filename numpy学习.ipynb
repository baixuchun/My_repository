{
 "cells": [
  {
   "cell_type": "markdown",
   "metadata": {},
   "source": [
    "# numpy学习"
   ]
  },
  {
   "cell_type": "markdown",
   "metadata": {},
   "source": [
    "## numpy.array() 的认识以及shape，len(),ndim和size的认识"
   ]
  },
  {
   "cell_type": "markdown",
   "metadata": {},
   "source": [
    "numpy.array(object,dtype)  \n",
    "ocject转换为数组的输入数据，可以是列表、元组、其他数组或类似序列的对象。  \n",
    "dtype参数用于指定数组的数据类型。如果不置顶dtype参数，则numpy会自动推断数组的数据类型。"
   ]
  },
  {
   "cell_type": "code",
   "execution_count": 37,
   "metadata": {},
   "outputs": [
    {
     "name": "stdout",
     "output_type": "stream",
     "text": [
      "[1 2 3 4]\n",
      "[1. 2. 3. 4.]\n",
      "[[1 2 3]\n",
      " [4 5 6]]\n",
      "[1 2 3 4]\n"
     ]
    }
   ],
   "source": [
    "import numpy as np\n",
    "# 从列表中创建一位数组\n",
    "arr1=np.array([1,2,3,4])\n",
    "print(arr1)\n",
    "#指定数组的数据类型\n",
    "arr2=np.array([1,2,3,4],dtype=float)\n",
    "print(arr2)\n",
    "#从元组中创建二维数组\n",
    "arr3=np.array([(1,2,3),(4,5,6)])\n",
    "print(arr3)\n",
    "# 指定最小维度\n",
    "arr4=np.array([1,2,3,4],ndmin=1)\n",
    "print(arr4)"
   ]
  },
  {
   "cell_type": "code",
   "execution_count": null,
   "metadata": {},
   "outputs": [],
   "source": [
    "import numpy as np\n",
    "import seaborn as sns \n",
    "import matplotlib.pyplot as plt\n",
    "import math \n",
    "from matplotlib import cm\n",
    "\n",
    "def visualize_2D(array,title,vmax,vmin):\n",
    "    fig_width =math.ceil(array.shape[1]*0.5)\n",
    "    fig_length =math.ceil(array.shape[0]*0.5)\n",
    "\n",
    "    fig,ax =plt.subplots(figsize=(fig_width,fig_length))\n",
    "\n",
    "    sns.heatmap(array,\n",
    "                vmax=vmax,\n",
    "                vmin=vmin,\n",
    "                annot=True,\n",
    "                fmt='.0f',\n",
    "                square=True,\n",
    "                cmap='RdYlBu_r',\n",
    "                linewidths=.5,\n",
    "                cbar=False,\n",
    "                yticklabels=False,\n",
    "                xticklabels=False,\n",
    "                ax=ax)\n",
    "    \n",
    "def visualize_1D(array,title):\n",
    "    fig,ax=plt.subplots()\n",
    "    colors = cm.RdYlBu_r(np.linspace(0,1,len(array)))\n",
    "    for idx in range(len(array)):\n",
    "        circle_idx = plt.Circle((idx,0),0.5,\n",
    "                                facecolor=colors[idx],\n",
    "                                edgecolor=\"w\")\n",
    "        ax.add_patch(circle_idx)\n",
    "        ax.text(idx,0,s = str(array[idx]),\n",
    "                horizontalalignment='center',\n",
    "                verticalalignment='center')\n",
    "    ax.set_xlim(-0.6,0.6+len(array))\n",
    "    ax.set_ylim(-0.6,0.6)\n",
    "    ax.set_aspect('equal',adjustable='box')\n",
    "    ax.axis('off')\n",
    "\n"
   ]
  },
  {
   "cell_type": "code",
   "execution_count": null,
   "metadata": {},
   "outputs": [
    {
     "name": "stdout",
     "output_type": "stream",
     "text": [
      "[-3 -2 -1  0  1  2  3]\n",
      "(7,)\n",
      "7\n",
      "1\n",
      "7\n"
     ]
    },
    {
     "data": {
      "image/png": "[encoded data removed]",
      "text/plain": [
       "<Figure size 640x480 with 1 Axes>"
      ]
     },
     "metadata": {},
     "output_type": "display_data"
    }
   ],
   "source": [
    "a_1D=np.array([-3,-2,-1,0,1,2,3]) #生成一个一位数组\n",
    "\n",
    "print(a_1D) #生成数组\n",
    "print(a_1D.shape) #生成形状\n",
    "print(len(a_1D)) #生成长度\n",
    "print(a_1D.ndim) # 生成维度\n",
    "print(a_1D.size)# 生成大小\n",
    "\n",
    "visualize_1D(a_1D,'手动,一维')\n"
   ]
  },
  {
   "cell_type": "code",
   "execution_count": 41,
   "metadata": {},
   "outputs": [
    {
     "name": "stdout",
     "output_type": "stream",
     "text": [
      "[[-3 -2 -1]\n",
      " [ 0  1  2]]\n",
      "(2, 3)\n",
      "2\n",
      "3\n",
      "2\n",
      "6\n",
      "2\n"
     ]
    },
    {
     "data": {
      "image/png": "[encoded data removed]",
      "text/plain": [
       "<Figure size 200x100 with 1 Axes>"
      ]
     },
     "metadata": {},
     "output_type": "display_data"
    }
   ],
   "source": [
    "a_2D=np.array([[-3,-2,-1],\n",
    "               [0,1,2]])\n",
    "print(a_2D)\n",
    "print(a_2D.shape)\n",
    "print(a_2D.shape[0])\n",
    "print(a_2D.shape[1])\n",
    "print(a_2D.ndim)\n",
    "print(a_2D.size)\n",
    "print(len(a_2D))\n",
    "visualize_2D(a_2D,'手动，二维',3,-3)"
   ]
  },
  {
   "cell_type": "code",
   "execution_count": 42,
   "metadata": {},
   "outputs": [
    {
     "name": "stdout",
     "output_type": "stream",
     "text": [
      "(1, 7)\n",
      "2\n"
     ]
    },
    {
     "data": {
      "image/png": "[encoded data removed]",
      "text/plain": [
       "<Figure size 400x100 with 1 Axes>"
      ]
     },
     "metadata": {},
     "output_type": "display_data"
    }
   ],
   "source": [
    "a_row_vector=np.array([[-3,-2,-1,0,1,2,3]])\n",
    "\n",
    "visualize_2D(a_row_vector,'手动，行向量',3,-3)\n",
    "print(a_row_vector.shape)\n",
    "print(a_row_vector.ndim)\n"
   ]
  },
  {
   "cell_type": "code",
   "execution_count": 44,
   "metadata": {},
   "outputs": [
    {
     "name": "stdout",
     "output_type": "stream",
     "text": [
      "(7, 1)\n",
      "2\n"
     ]
    },
    {
     "data": {
      "image/png": "[encoded data removed]",
      "text/plain": [
       "<Figure size 100x400 with 1 Axes>"
      ]
     },
     "metadata": {},
     "output_type": "display_data"
    }
   ],
   "source": [
    "a_col_vector=np.array([[-3],[-2],[-1],[0],[1],[2],[3]])\n",
    "\n",
    "visualize_2D(a_col_vector,'手动，列向量',3,-3)\n",
    "print(a_col_vector.shape)\n",
    "print(a_col_vector.ndim)"
   ]
  },
  {
   "cell_type": "code",
   "execution_count": 68,
   "metadata": {},
   "outputs": [
    {
     "name": "stdout",
     "output_type": "stream",
     "text": [
      "(2, 3, 4)\n",
      "3\n",
      "2\n",
      "(3, 4)\n"
     ]
    },
    {
     "data": {
      "image/png": "[encoded data removed]",
      "text/plain": [
       "<Figure size 200x200 with 1 Axes>"
      ]
     },
     "metadata": {},
     "output_type": "display_data"
    },
    {
     "data": {
      "image/png": "[encoded data removed]",
      "text/plain": [
       "<Figure size 200x200 with 1 Axes>"
      ]
     },
     "metadata": {},
     "output_type": "display_data"
    }
   ],
   "source": [
    "a_3D=np.array([[[-12,-11,-10,-9],\n",
    "                [-8,-7,-6,-5],\n",
    "                [-4,-3,-2,-1]],\n",
    "                [[0,1,2,3],\n",
    "                 [4,5,6,7],\n",
    "                 [8,9,10,11]]])\n",
    "print(a_3D.shape) #(2,3,3)\n",
    "print(a_3D.ndim) #3\n",
    "print(len(a_3D))\n",
    "visualize_2D(a_3D[0],'手动，三维，第一页',12,-12)\n",
    "print(a_3D[0].shape)\n",
    "visualize_2D(a_3D[1],'手动，三维，第二页',12,-12)\n"
   ]
  },
  {
   "cell_type": "code",
   "execution_count": 70,
   "metadata": {},
   "outputs": [
    {
     "name": "stdout",
     "output_type": "stream",
     "text": [
      "(5,)\n"
     ]
    }
   ],
   "source": [
    "list_1D=[1,2,3,4,5]\n",
    "array1=np.array(list_1D)\n",
    "print(array1.shape)"
   ]
  },
  {
   "cell_type": "markdown",
   "metadata": {},
   "source": [
    "## 生成数列（一维数组）"
   ]
  },
  {
   "cell_type": "markdown",
   "metadata": {},
   "source": [
    "`按步长生成等差数列`：  \n",
    "numpy.arange(start,stop,step)  \n",
    "生成一个从start开始，步长为step的`等差数列`,`不包括stop值`。  \n",
    "`取值范围：[start,end]`(end值小于stop)"
   ]
  },
  {
   "cell_type": "code",
   "execution_count": 72,
   "metadata": {},
   "outputs": [
    {
     "name": "stdout",
     "output_type": "stream",
     "text": [
      "[ 1  5  9 13 17 21]\n"
     ]
    }
   ],
   "source": [
    "a=np.arange(1,23,4)\n",
    "print(a)"
   ]
  },
  {
   "cell_type": "markdown",
   "metadata": {},
   "source": [
    "`按数量生成等差数列`：  \n",
    "numpy.linspace(start,stop,num，endpoint)  \n",
    "生成一个从start开始，个数为num（默认50）的`等差数列`,`默认包括stop值`。  \n",
    "`取值范围：[start,stop]`"
   ]
  },
  {
   "cell_type": "code",
   "execution_count": 77,
   "metadata": {},
   "outputs": [
    {
     "name": "stdout",
     "output_type": "stream",
     "text": [
      "[1.   1.25 1.5  1.75 2.  ]\n"
     ]
    }
   ],
   "source": [
    "b=np.linspace(1,2,5)\n",
    "print(b)"
   ]
  },
  {
   "cell_type": "markdown",
   "metadata": {},
   "source": [
    "`按数量生成等比数列`  \n",
    "\n",
    "numpy.logspace(start,stop,num,base)   \n",
    "从base 的start 次幂开始，到base 的stop 次幂结束，num 指定数列的长度，默认为50。  \n",
    "取值范围：[base<sup>start</sup>,base<sup>stop</sup>]"
   ]
  },
  {
   "cell_type": "code",
   "execution_count": 80,
   "metadata": {},
   "outputs": [
    {
     "name": "stdout",
     "output_type": "stream",
     "text": [
      "[  1.   4.  16.  64. 256.]\n"
     ]
    }
   ],
   "source": [
    "c=np.logspace(0,4,5,base=4)\n",
    "print(c)"
   ]
  }
 ],
 "metadata": {
  "kernelspec": {
   "display_name": "base",
   "language": "python",
   "name": "python3"
  },
  "language_info": {
   "codemirror_mode": {
    "name": "ipython",
    "version": 3
   },
   "file_extension": ".py",
   "mimetype": "text/x-python",
   "name": "python",
   "nbconvert_exporter": "python",
   "pygments_lexer": "ipython3",
   "version": "3.12.4"
  }
 },
 "nbformat": 4,
 "nbformat_minor": 2
}
