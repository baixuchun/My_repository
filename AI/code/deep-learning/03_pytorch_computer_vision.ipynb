{
 "cells": [
  {
   "cell_type": "markdown",
   "id": "63f954a8",
   "metadata": {},
   "source": [
    "# 03. PyTorch 计算机视觉\n",
    "\n",
    "[计算机视觉](https://en.wikipedia.org/wiki/Computer_vision) 是教计算机“看”的艺术。\n",
    "\n",
    "例如，它可以涉及构建一个模型来分类一张照片是猫还是狗（[二分类](https://developers.google.com/machine-learning/glossary#binary-classification)）。\n",
    "\n",
    "或者分类一张照片是猫、狗还是鸡（[多分类](https://developers.google.com/machine-learning/glossary#multi-class-classification)）。\n",
    "\n",
    "或者识别视频帧中汽车的位置（[目标检测](https://en.wikipedia.org/wiki/Object_detection)）。\n",
    "\n",
    "或者找出图像中不同物体可以分离的地方（[全景分割](https://arxiv.org/abs/1801.00868)）。\n",
    "\n",
    "![计算机视觉问题示例](https://raw.githubusercontent.com/mrdbourke/pytorch-deep-learning/main/images/03-computer-vision-problems.png)\n",
    "*二分类、多分类、目标检测和分割的计算机视觉问题示例。*"
   ]
  },
  {
   "cell_type": "markdown",
   "id": "19179a39-0c6c-40f7-9891-09e17d107ecf",
   "metadata": {
    "id": "19179a39-0c6c-40f7-9891-09e17d107ecf"
   },
   "source": [
    "## 计算机视觉应用在哪些地方？\n",
    "\n",
    "如果你使用智能手机，你已经在使用计算机视觉了。\n",
    "\n",
    "相机和照片应用使用[计算机视觉来增强](https://machinelearning.apple.com/research/panoptic-segmentation)和排序图像。\n",
    "\n",
    "现代汽车使用[计算机视觉](https://youtu.be/j0z4FweCy4M?t=2989)来避免与其他汽车碰撞，并保持在车道线内行驶。\n",
    "\n",
    "制造商使用计算机视觉来识别各种产品中的缺陷。\n",
    "\n",
    "监控摄像头使用计算机视觉来检测潜在的入侵者。\n",
    "\n",
    "本质上，任何可以用视觉方式描述的事物都可能成为计算机视觉问题。"
   ]
  },
  {
   "cell_type": "markdown",
   "id": "412e8bd1-0e6b-4ad6-8506-b28a8f669dc1",
   "metadata": {
    "id": "412e8bd1-0e6b-4ad6-8506-b28a8f669dc1"
   },
   "source": [
    "## 我们将要覆盖的内容\n",
    "\n",
    "我们将把过去几节课中学习的 PyTorch 工作流程应用到计算机视觉中。\n",
    "\n",
    "![计算机视觉相关的 PyTorch 工作流程](https://raw.githubusercontent.com/mrdbourke/pytorch-deep-learning/main/images/03-pytorch-computer-vision-workflow.png)\n",
    "\n",
    "具体来说，我们将覆盖以下内容：\n",
    "\n",
    "| **主题** | **内容** |\n",
    "| ----- | ----- |\n",
    "| **0. PyTorch 中的计算机视觉库** | PyTorch 提供了一些内建的计算机视觉库，来让我们更轻松地进行计算机视觉任务，来一起看看吧。 |\n",
    "| **1. 加载数据** | 为了进行计算机视觉的练习，我们将从 [FashionMNIST](https://github.com/zalandoresearch/fashion-mnist) 中加载一些不同服装的图像。 |\n",
    "| **2. 准备数据** | 我们有一些图像了，接下来使用 [PyTorch `DataLoader`](https://pytorch.org/docs/stable/data.html) 将它们加载进来，以便在训练循环中使用。 |\n",
    "| **3. 模型 0: 构建基准模型** | 在这里，我们将创建一个多类别分类模型来学习数据中的模式，同时选择一个 **损失函数**、**优化器**，并构建 **训练循环**。 |\n",
    "| **4. 做预测并评估模型 0** | 使用我们的基准模型进行预测并评估其表现。 |\n",
    "| **5. 设置设备无关的代码** | 写设备无关的代码是最佳实践，因此我们将进行设置。 |\n",
    "| **6. 模型 1: 添加非线性** | 实验是机器学习中的一个重要部分，我们将尝试通过添加非线性层来改进我们的基准模型。 |\n",
    "| **7. 模型 2: 卷积神经网络 (CNN)** | 是时候深入计算机视觉领域，引入强大的卷积神经网络架构了。 |\n",
    "| **8. 比较我们的模型** | 我们构建了三个不同的模型，接下来让我们来比较它们。 |\n",
    "| **9. 评估我们最好的模型** | 使用随机图像进行预测并评估我们最好的模型。 |\n",
    "| **10. 创建混淆矩阵** | 混淆矩阵是评估分类模型的好方法，让我们看看如何生成一个混淆矩阵。 |\n",
    "| **11. 保存和加载表现最好的模型** | 由于我们可能希望稍后使用我们的模型，因此我们将保存它并确保它能够正确加载。 |"
   ]
  },
  {
   "cell_type": "markdown",
   "id": "a0bedcfc-e12a-4a81-9913-84c6a888742a",
   "metadata": {
    "id": "a0bedcfc-e12a-4a81-9913-84c6a888742a"
   },
   "source": [
    "## 0. PyTorch 中的计算机视觉库\n",
    "\n",
    "在我们开始编写代码之前，让我们先了解一些你应该知道的 PyTorch 计算机视觉库。\n",
    "\n",
    "| PyTorch 模块 | 功能 |\n",
    "| ----- | ----- |\n",
    "| [`torchvision`](https://pytorch.org/vision/stable/index.html) | 包含常用于计算机视觉问题的数据集、模型架构和图像转换功能。 |\n",
    "| [`torchvision.datasets`](https://pytorch.org/vision/stable/datasets.html) | 在这里你可以找到许多示例计算机视觉数据集，涵盖图像分类、物体检测、图像标注、视频分类等问题。它还包含了[用于制作自定义数据集的基础类](https://pytorch.org/vision/stable/datasets.html#base-classes-for-custom-datasets)。 |\n",
    "| [`torchvision.models`](https://pytorch.org/vision/stable/models.html) | 该模块包含了许多在 PyTorch 中实现的高效且常用的计算机视觉模型架构，你可以将它们用于自己的问题。 |\n",
    "| [`torchvision.transforms`](https://pytorch.org/vision/stable/transforms.html) | 图像通常需要在与模型一起使用之前进行转换（转换为数字、处理、增强等），常见的图像转换功能可以在此找到。 |\n",
    "| [`torch.utils.data.Dataset`](https://pytorch.org/docs/stable/data.html#torch.utils.data.Dataset) | PyTorch 的基础数据集类。 |\n",
    "| [`torch.utils.data.DataLoader`](https://pytorch.org/docs/stable/data.html#module-torch.utils.data) | 创建一个 Python 可迭代对象，遍历一个数据集（使用 `torch.utils.data.Dataset` 创建）。 |\n",
    "\n",
    "> **注意：** `torch.utils.data.Dataset` 和 `torch.utils.data.DataLoader` 类不仅限于计算机视觉，在 PyTorch 中，它们可以处理多种不同类型的数据。\n",
    "\n",
    "现在我们已经介绍了一些最重要的 PyTorch 计算机视觉库，接下来让我们导入相关的依赖项。"
   ]
  },
  {
   "cell_type": "code",
   "execution_count": 2,
   "id": "c263a60d-d788-482f-b9e7-9cab4f6b1f72",
   "metadata": {
    "colab": {
     "base_uri": "https://localhost:8080/"
    },
    "id": "c263a60d-d788-482f-b9e7-9cab4f6b1f72",
    "outputId": "20ba933b-6026-475f-a8d9-12cf416aff74"
   },
   "outputs": [
    {
     "name": "stdout",
     "output_type": "stream",
     "text": [
      "PyTorch version: 2.5.1\n",
      "torchvision version: 0.20.1\n"
     ]
    }
   ],
   "source": [
    "# 导入 PyTorch\n",
    "import torch\n",
    "from torch import nn\n",
    "\n",
    "# 导入 torchvision\n",
    "import torchvision\n",
    "from torchvision import datasets\n",
    "from torchvision.transforms import ToTensor\n",
    "\n",
    "# 导入 matplotlib 用于可视化\n",
    "import matplotlib.pyplot as plt\n",
    "\n",
    "# 检查版本\n",
    "# 注意：你的 PyTorch 版本不应低于 1.10.0，torchvision 版本不应低于 0.11\n",
    "print(f\"PyTorch version: {torch.__version__}\\ntorchvision version: {torchvision.__version__}\")"
   ]
  },
  {
   "cell_type": "markdown",
   "id": "48d6bfe7-91da-44eb-9ab6-7c41c1e9fa8e",
   "metadata": {
    "id": "48d6bfe7-91da-44eb-9ab6-7c41c1e9fa8e"
   },
   "source": [
    "## 1. 获取数据集\n",
    "\n",
    "为了开始处理计算机视觉问题，我们需要获取一个计算机视觉数据集。\n",
    "\n",
    "我们将从 **FashionMNIST** 开始。\n",
    "\n",
    "**MNIST** 代表“修改版国家标准与技术研究院数据集”。\n",
    "\n",
    "[原始 MNIST 数据集](https://en.wikipedia.org/wiki/MNIST_database)包含了成千上万的手写数字样本（从 0 到 9），该数据集曾用于构建计算机视觉模型，用于邮政服务的数字识别。\n",
    "\n",
    "**FashionMNIST**（由 Zalando Research 创建）是一个类似的设置。\n",
    "\n",
    "不同之处在于，它包含了 10 种不同类型衣物的灰度图像。\n",
    "\n",
    "![FashionMNIST 示例图片](https://raw.githubusercontent.com/mrdbourke/pytorch-deep-learning/main/images/03-fashion-mnist-slide.png)\n",
    "*`torchvision.datasets` 包含了很多示例数据集，你可以用来练习编写计算机视觉代码。FashionMNIST 就是其中之一。由于它包含 10 个不同的图像类别（不同类型的衣物），因此它是一个多类别分类问题。*\n",
    "\n",
    "稍后，我们将构建一个计算机视觉神经网络，用于识别这些图像中的不同款式的衣物。\n",
    "\n",
    "PyTorch 提供了很多常见的计算机视觉数据集，这些数据集存储在 `torchvision.datasets` 中。\n",
    "\n",
    "其中包括 FashionMNIST，可以通过 [`torchvision.datasets.FashionMNIST()`](https://pytorch.org/vision/main/generated/torchvision.datasets.FashionMNIST.html) 获取。\n",
    "\n",
    "要下载数据集，我们提供以下参数：\n",
    "* `root: str` - 你希望将数据下载到哪个文件夹？\n",
    "* `train: Bool` - 你想要训练集还是测试集？\n",
    "* `download: Bool` - 是否需要下载数据？\n",
    "* `transform: torchvision.transforms` - 你希望对数据进行哪些转换？\n",
    "* `target_transform` - 如果需要，你也可以对标签（目标）进行转换。\n",
    "\n",
    "`torchvision` 中的许多其他数据集也支持这些参数选项。"
   ]
  },
  {
   "cell_type": "code",
   "execution_count": 3,
   "id": "486f8377-6810-4367-859d-69dccc7aef95",
   "metadata": {
    "colab": {
     "base_uri": "https://localhost:8080/"
    },
    "id": "486f8377-6810-4367-859d-69dccc7aef95",
    "outputId": "877f93b2-12c5-477e-92bf-3ec3f1449282"
   },
   "outputs": [],
   "source": [
    "# 设置训练数据\n",
    "train_data = datasets.FashionMNIST(\n",
    "    root=\"data\", # 数据下载保存的位置\n",
    "    train=True, # 获取训练数据\n",
    "    download=True, # 如果数据不存在，则下载数据\n",
    "    transform=ToTensor(), # 图片是以 PIL 格式存储的，我们将其转换为 Torch 张量\n",
    "    target_transform=None # 你也可以转换标签（如果需要）\n",
    ")\n",
    "\n",
    "# 设置测试数据\n",
    "test_data = datasets.FashionMNIST(\n",
    "    root=\"data\",\n",
    "    train=False, # 获取测试数据\n",
    "    download=True,\n",
    "    transform=ToTensor() # 将图片转换为张量\n",
    ")"
   ]
  },
  {
   "cell_type": "markdown",
   "id": "a63246f6-3645-49de-88fe-ec18e78bfbaf",
   "metadata": {
    "id": "a63246f6-3645-49de-88fe-ec18e78bfbaf"
   },
   "source": [
    "Let's check out the first sample of the training data."
   ]
  },
  {
   "cell_type": "code",
   "execution_count": 4,
   "id": "43bfd3d9-a132-41e8-8ccd-5ae25a7da59a",
   "metadata": {
    "colab": {
     "base_uri": "https://localhost:8080/"
    },
    "id": "43bfd3d9-a132-41e8-8ccd-5ae25a7da59a",
    "outputId": "1595e80b-6a3f-4171-a128-ec506b4d8326"
   },
   "outputs": [
    {
     "data": {
      "text/plain": [
       "(tensor([[[0.0000, 0.0000, 0.0000, 0.0000, 0.0000, 0.0000, 0.0000, 0.0000,\n",
       "           0.0000, 0.0000, 0.0000, 0.0000, 0.0000, 0.0000, 0.0000, 0.0000,\n",
       "           0.0000, 0.0000, 0.0000, 0.0000, 0.0000, 0.0000, 0.0000, 0.0000,\n",
       "           0.0000, 0.0000, 0.0000, 0.0000],\n",
       "          [0.0000, 0.0000, 0.0000, 0.0000, 0.0000, 0.0000, 0.0000, 0.0000,\n",
       "           0.0000, 0.0000, 0.0000, 0.0000, 0.0000, 0.0000, 0.0000, 0.0000,\n",
       "           0.0000, 0.0000, 0.0000, 0.0000, 0.0000, 0.0000, 0.0000, 0.0000,\n",
       "           0.0000, 0.0000, 0.0000, 0.0000],\n",
       "          [0.0000, 0.0000, 0.0000, 0.0000, 0.0000, 0.0000, 0.0000, 0.0000,\n",
       "           0.0000, 0.0000, 0.0000, 0.0000, 0.0000, 0.0000, 0.0000, 0.0000,\n",
       "           0.0000, 0.0000, 0.0000, 0.0000, 0.0000, 0.0000, 0.0000, 0.0000,\n",
       "           0.0000, 0.0000, 0.0000, 0.0000],\n",
       "          [0.0000, 0.0000, 0.0000, 0.0000, 0.0000, 0.0000, 0.0000, 0.0000,\n",
       "           0.0000, 0.0000, 0.0000, 0.0000, 0.0039, 0.0000, 0.0000, 0.0510,\n",
       "           0.2863, 0.0000, 0.0000, 0.0039, 0.0157, 0.0000, 0.0000, 0.0000,\n",
       "           0.0000, 0.0039, 0.0039, 0.0000],\n",
       "          [0.0000, 0.0000, 0.0000, 0.0000, 0.0000, 0.0000, 0.0000, 0.0000,\n",
       "           0.0000, 0.0000, 0.0000, 0.0000, 0.0118, 0.0000, 0.1412, 0.5333,\n",
       "           0.4980, 0.2431, 0.2118, 0.0000, 0.0000, 0.0000, 0.0039, 0.0118,\n",
       "           0.0157, 0.0000, 0.0000, 0.0118],\n",
       "          [0.0000, 0.0000, 0.0000, 0.0000, 0.0000, 0.0000, 0.0000, 0.0000,\n",
       "           0.0000, 0.0000, 0.0000, 0.0000, 0.0235, 0.0000, 0.4000, 0.8000,\n",
       "           0.6902, 0.5255, 0.5647, 0.4824, 0.0902, 0.0000, 0.0000, 0.0000,\n",
       "           0.0000, 0.0471, 0.0392, 0.0000],\n",
       "          [0.0000, 0.0000, 0.0000, 0.0000, 0.0000, 0.0000, 0.0000, 0.0000,\n",
       "           0.0000, 0.0000, 0.0000, 0.0000, 0.0000, 0.0000, 0.6078, 0.9255,\n",
       "           0.8118, 0.6980, 0.4196, 0.6118, 0.6314, 0.4275, 0.2510, 0.0902,\n",
       "           0.3020, 0.5098, 0.2824, 0.0588],\n",
       "          [0.0000, 0.0000, 0.0000, 0.0000, 0.0000, 0.0000, 0.0000, 0.0000,\n",
       "           0.0000, 0.0000, 0.0000, 0.0039, 0.0000, 0.2706, 0.8118, 0.8745,\n",
       "           0.8549, 0.8471, 0.8471, 0.6392, 0.4980, 0.4745, 0.4784, 0.5725,\n",
       "           0.5529, 0.3451, 0.6745, 0.2588],\n",
       "          [0.0000, 0.0000, 0.0000, 0.0000, 0.0000, 0.0000, 0.0000, 0.0000,\n",
       "           0.0000, 0.0039, 0.0039, 0.0039, 0.0000, 0.7843, 0.9098, 0.9098,\n",
       "           0.9137, 0.8980, 0.8745, 0.8745, 0.8431, 0.8353, 0.6431, 0.4980,\n",
       "           0.4824, 0.7686, 0.8980, 0.0000],\n",
       "          [0.0000, 0.0000, 0.0000, 0.0000, 0.0000, 0.0000, 0.0000, 0.0000,\n",
       "           0.0000, 0.0000, 0.0000, 0.0000, 0.0000, 0.7176, 0.8824, 0.8471,\n",
       "           0.8745, 0.8941, 0.9216, 0.8902, 0.8784, 0.8706, 0.8784, 0.8667,\n",
       "           0.8745, 0.9608, 0.6784, 0.0000],\n",
       "          [0.0000, 0.0000, 0.0000, 0.0000, 0.0000, 0.0000, 0.0000, 0.0000,\n",
       "           0.0000, 0.0000, 0.0000, 0.0000, 0.0000, 0.7569, 0.8941, 0.8549,\n",
       "           0.8353, 0.7765, 0.7059, 0.8314, 0.8235, 0.8275, 0.8353, 0.8745,\n",
       "           0.8627, 0.9529, 0.7922, 0.0000],\n",
       "          [0.0000, 0.0000, 0.0000, 0.0000, 0.0000, 0.0000, 0.0000, 0.0000,\n",
       "           0.0000, 0.0039, 0.0118, 0.0000, 0.0471, 0.8588, 0.8627, 0.8314,\n",
       "           0.8549, 0.7529, 0.6627, 0.8902, 0.8157, 0.8549, 0.8784, 0.8314,\n",
       "           0.8863, 0.7725, 0.8196, 0.2039],\n",
       "          [0.0000, 0.0000, 0.0000, 0.0000, 0.0000, 0.0000, 0.0000, 0.0000,\n",
       "           0.0000, 0.0000, 0.0235, 0.0000, 0.3882, 0.9569, 0.8706, 0.8627,\n",
       "           0.8549, 0.7961, 0.7765, 0.8667, 0.8431, 0.8353, 0.8706, 0.8627,\n",
       "           0.9608, 0.4667, 0.6549, 0.2196],\n",
       "          [0.0000, 0.0000, 0.0000, 0.0000, 0.0000, 0.0000, 0.0000, 0.0000,\n",
       "           0.0000, 0.0157, 0.0000, 0.0000, 0.2157, 0.9255, 0.8941, 0.9020,\n",
       "           0.8941, 0.9412, 0.9098, 0.8353, 0.8549, 0.8745, 0.9176, 0.8510,\n",
       "           0.8510, 0.8196, 0.3608, 0.0000],\n",
       "          [0.0000, 0.0000, 0.0039, 0.0157, 0.0235, 0.0275, 0.0078, 0.0000,\n",
       "           0.0000, 0.0000, 0.0000, 0.0000, 0.9294, 0.8863, 0.8510, 0.8745,\n",
       "           0.8706, 0.8588, 0.8706, 0.8667, 0.8471, 0.8745, 0.8980, 0.8431,\n",
       "           0.8549, 1.0000, 0.3020, 0.0000],\n",
       "          [0.0000, 0.0118, 0.0000, 0.0000, 0.0000, 0.0000, 0.0000, 0.0000,\n",
       "           0.0000, 0.2431, 0.5686, 0.8000, 0.8941, 0.8118, 0.8353, 0.8667,\n",
       "           0.8549, 0.8157, 0.8275, 0.8549, 0.8784, 0.8745, 0.8588, 0.8431,\n",
       "           0.8784, 0.9569, 0.6235, 0.0000],\n",
       "          [0.0000, 0.0000, 0.0000, 0.0000, 0.0706, 0.1725, 0.3216, 0.4196,\n",
       "           0.7412, 0.8941, 0.8627, 0.8706, 0.8510, 0.8863, 0.7843, 0.8039,\n",
       "           0.8275, 0.9020, 0.8784, 0.9176, 0.6902, 0.7373, 0.9804, 0.9725,\n",
       "           0.9137, 0.9333, 0.8431, 0.0000],\n",
       "          [0.0000, 0.2235, 0.7333, 0.8157, 0.8784, 0.8667, 0.8784, 0.8157,\n",
       "           0.8000, 0.8392, 0.8157, 0.8196, 0.7843, 0.6235, 0.9608, 0.7569,\n",
       "           0.8078, 0.8745, 1.0000, 1.0000, 0.8667, 0.9176, 0.8667, 0.8275,\n",
       "           0.8627, 0.9098, 0.9647, 0.0000],\n",
       "          [0.0118, 0.7922, 0.8941, 0.8784, 0.8667, 0.8275, 0.8275, 0.8392,\n",
       "           0.8039, 0.8039, 0.8039, 0.8627, 0.9412, 0.3137, 0.5882, 1.0000,\n",
       "           0.8980, 0.8667, 0.7373, 0.6039, 0.7490, 0.8235, 0.8000, 0.8196,\n",
       "           0.8706, 0.8941, 0.8824, 0.0000],\n",
       "          [0.3843, 0.9137, 0.7765, 0.8235, 0.8706, 0.8980, 0.8980, 0.9176,\n",
       "           0.9765, 0.8627, 0.7608, 0.8431, 0.8510, 0.9451, 0.2549, 0.2863,\n",
       "           0.4157, 0.4588, 0.6588, 0.8588, 0.8667, 0.8431, 0.8510, 0.8745,\n",
       "           0.8745, 0.8784, 0.8980, 0.1137],\n",
       "          [0.2941, 0.8000, 0.8314, 0.8000, 0.7569, 0.8039, 0.8275, 0.8824,\n",
       "           0.8471, 0.7255, 0.7725, 0.8078, 0.7765, 0.8353, 0.9412, 0.7647,\n",
       "           0.8902, 0.9608, 0.9373, 0.8745, 0.8549, 0.8314, 0.8196, 0.8706,\n",
       "           0.8627, 0.8667, 0.9020, 0.2627],\n",
       "          [0.1882, 0.7961, 0.7176, 0.7608, 0.8353, 0.7725, 0.7255, 0.7451,\n",
       "           0.7608, 0.7529, 0.7922, 0.8392, 0.8588, 0.8667, 0.8627, 0.9255,\n",
       "           0.8824, 0.8471, 0.7804, 0.8078, 0.7294, 0.7098, 0.6941, 0.6745,\n",
       "           0.7098, 0.8039, 0.8078, 0.4510],\n",
       "          [0.0000, 0.4784, 0.8588, 0.7569, 0.7020, 0.6706, 0.7176, 0.7686,\n",
       "           0.8000, 0.8235, 0.8353, 0.8118, 0.8275, 0.8235, 0.7843, 0.7686,\n",
       "           0.7608, 0.7490, 0.7647, 0.7490, 0.7765, 0.7529, 0.6902, 0.6118,\n",
       "           0.6549, 0.6941, 0.8235, 0.3608],\n",
       "          [0.0000, 0.0000, 0.2902, 0.7412, 0.8314, 0.7490, 0.6863, 0.6745,\n",
       "           0.6863, 0.7098, 0.7255, 0.7373, 0.7412, 0.7373, 0.7569, 0.7765,\n",
       "           0.8000, 0.8196, 0.8235, 0.8235, 0.8275, 0.7373, 0.7373, 0.7608,\n",
       "           0.7529, 0.8471, 0.6667, 0.0000],\n",
       "          [0.0078, 0.0000, 0.0000, 0.0000, 0.2588, 0.7843, 0.8706, 0.9294,\n",
       "           0.9373, 0.9490, 0.9647, 0.9529, 0.9569, 0.8667, 0.8627, 0.7569,\n",
       "           0.7490, 0.7020, 0.7137, 0.7137, 0.7098, 0.6902, 0.6510, 0.6588,\n",
       "           0.3882, 0.2275, 0.0000, 0.0000],\n",
       "          [0.0000, 0.0000, 0.0000, 0.0000, 0.0000, 0.0000, 0.0000, 0.1569,\n",
       "           0.2392, 0.1725, 0.2824, 0.1608, 0.1373, 0.0000, 0.0000, 0.0000,\n",
       "           0.0000, 0.0000, 0.0000, 0.0000, 0.0000, 0.0000, 0.0000, 0.0000,\n",
       "           0.0000, 0.0000, 0.0000, 0.0000],\n",
       "          [0.0000, 0.0000, 0.0000, 0.0000, 0.0000, 0.0000, 0.0000, 0.0000,\n",
       "           0.0000, 0.0000, 0.0000, 0.0000, 0.0000, 0.0000, 0.0000, 0.0000,\n",
       "           0.0000, 0.0000, 0.0000, 0.0000, 0.0000, 0.0000, 0.0000, 0.0000,\n",
       "           0.0000, 0.0000, 0.0000, 0.0000],\n",
       "          [0.0000, 0.0000, 0.0000, 0.0000, 0.0000, 0.0000, 0.0000, 0.0000,\n",
       "           0.0000, 0.0000, 0.0000, 0.0000, 0.0000, 0.0000, 0.0000, 0.0000,\n",
       "           0.0000, 0.0000, 0.0000, 0.0000, 0.0000, 0.0000, 0.0000, 0.0000,\n",
       "           0.0000, 0.0000, 0.0000, 0.0000]]]),\n",
       " 9)"
      ]
     },
     "execution_count": 4,
     "metadata": {},
     "output_type": "execute_result"
    }
   ],
   "source": [
    "# 查看第一个训练样本\n",
    "image, label = train_data[0]\n",
    "image, label"
   ]
  },
  {
   "cell_type": "markdown",
   "id": "9ad9d782-06cb-4591-ae3c-3a8b2389a1b2",
   "metadata": {
    "id": "9ad9d782-06cb-4591-ae3c-3a8b2389a1b2"
   },
   "source": [
    "### 1.1 计算机视觉模型的输入和输出形状\n",
    "\n",
    "我们有一个大的张量（图像），它对应一个目标的单一值（标签）。\n",
    "\n",
    "让我们来看一下图像的形状。"
   ]
  },
  {
   "cell_type": "code",
   "execution_count": 5,
   "id": "c2997d9f-b574-4d23-aa34-1a4df1751226",
   "metadata": {
    "colab": {
     "base_uri": "https://localhost:8080/"
    },
    "id": "c2997d9f-b574-4d23-aa34-1a4df1751226",
    "outputId": "d9c4283b-aab8-410f-dd7f-03f08d943366"
   },
   "outputs": [
    {
     "data": {
      "text/plain": [
       "torch.Size([1, 28, 28])"
      ]
     },
     "execution_count": 5,
     "metadata": {},
     "output_type": "execute_result"
    }
   ],
   "source": [
    "# 图像的形状是什么？\n",
    "image.shape"
   ]
  },
  {
   "cell_type": "markdown",
   "id": "b5326a05-f807-448d-99a3-6d03fc8739f8",
   "metadata": {
    "id": "b5326a05-f807-448d-99a3-6d03fc8739f8"
   },
   "source": [
    "图像张量的形状是 `[1, 28, 28]`，或者更具体地说：\n",
    "\n",
    "```\n",
    "[color_channels=1, height=28, width=28]\n",
    "```\n",
    "\n",
    "`color_channels=1` 表示图像是灰度图像。\n",
    "\n",
    "![fashionMNIST问题的输入和输出形状示例](https://raw.githubusercontent.com/mrdbourke/pytorch-deep-learning/main/images/03-computer-vision-input-and-output-shapes.png)\n",
    "*不同的问题会有不同的输入和输出形状，但前提是：将数据编码为数字，构建模型来发现这些数字中的模式，然后将这些模式转换为有意义的东西。*\n",
    "\n",
    "如果 `color_channels=3`，则图像包含红、绿、蓝三种颜色通道的像素值（这也被称为 [RGB 颜色模型](https://en.wikipedia.org/wiki/RGB_color_model)）。\n",
    "\n",
    "当前张量的顺序通常被称为 `CHW`（颜色通道，高度，宽度）。\n",
    "\n",
    "关于图像是否应表示为 `CHW`（颜色通道在前）或 `HWC`（颜色通道在后）有争议。\n",
    "\n",
    "> **注意：**你还会看到 `NCHW` 和 `NHWC` 格式，其中 `N` 表示*图像的数量*。例如，如果你的 `batch_size=32`，则张量的形状可能是 `[32, 1, 28, 28]`。稍后我们将讨论批量大小。\n",
    "\n",
    "PyTorch 通常接受 `NCHW`（通道优先）作为许多操作的默认格式。\n",
    "\n",
    "然而，PyTorch 也解释说 `NHWC`（通道最后）性能更好，并被认为是 [最佳实践](https://pytorch.org/blog/tensor-memory-format-matters/#pytorch-best-practice)。\n",
    "\n",
    "目前，由于我们的数据集和模型相对较小，这个差异不会太大。\n",
    "\n",
    "但请记住，当你处理更大的图像数据集并使用卷积神经网络时（稍后会介绍），这个问题会更为重要。\n",
    "\n",
    "现在，让我们查看更多数据的形状。"
   ]
  },
  {
   "cell_type": "code",
   "execution_count": 6,
   "id": "fc4f768c-c3f6-454d-a633-673ad1d6eca0",
   "metadata": {
    "colab": {
     "base_uri": "https://localhost:8080/"
    },
    "id": "fc4f768c-c3f6-454d-a633-673ad1d6eca0",
    "outputId": "fcac1ff4-5b9a-4459-a05e-77482f0e6776"
   },
   "outputs": [
    {
     "data": {
      "text/plain": [
       "(60000, 60000, 10000, 10000)"
      ]
     },
     "execution_count": 6,
     "metadata": {},
     "output_type": "execute_result"
    }
   ],
   "source": [
    "# 一共有多少样本？\n",
    "len(train_data.data), len(train_data.targets), len(test_data.data), len(test_data.targets)"
   ]
  },
  {
   "cell_type": "markdown",
   "id": "6e0267d5-946b-4c53-af69-61acd3527972",
   "metadata": {
    "id": "6e0267d5-946b-4c53-af69-61acd3527972"
   },
   "source": [
    "我们有 60,000 个训练样本和 10,000 个测试样本。\n",
    "\n",
    "有哪些类别呢？\n",
    "\n",
    "我们可以通过 `.classes` 属性找到这些类别。"
   ]
  },
  {
   "cell_type": "code",
   "execution_count": 7,
   "id": "e22849c6-d93f-4b38-8403-5ebf0deaf008",
   "metadata": {
    "colab": {
     "base_uri": "https://localhost:8080/"
    },
    "id": "e22849c6-d93f-4b38-8403-5ebf0deaf008",
    "outputId": "6e18aa0f-b8a0-45ee-9f4e-8931bcdfbec0"
   },
   "outputs": [
    {
     "data": {
      "text/plain": [
       "['T-shirt/top',\n",
       " 'Trouser',\n",
       " 'Pullover',\n",
       " 'Dress',\n",
       " 'Coat',\n",
       " 'Sandal',\n",
       " 'Shirt',\n",
       " 'Sneaker',\n",
       " 'Bag',\n",
       " 'Ankle boot']"
      ]
     },
     "execution_count": 7,
     "metadata": {},
     "output_type": "execute_result"
    }
   ],
   "source": [
    "# 查看类别\n",
    "class_names = train_data.classes\n",
    "class_names"
   ]
  },
  {
   "cell_type": "markdown",
   "id": "abdd225c-5742-4d9c-8e8d-fb30a9c3cb6e",
   "metadata": {
    "id": "abdd225c-5742-4d9c-8e8d-fb30a9c3cb6e"
   },
   "source": [
    "太棒了！看起来我们正在处理10种不同的衣物。\n",
    "\n",
    "由于我们有10个不同的类别，这意味着我们的问题是**多类分类**。\n",
    "\n",
    "接下来，让我们进行可视化。"
   ]
  },
  {
   "cell_type": "markdown",
   "id": "fb625d80-6a98-471e-a758-4de0ce0f3a64",
   "metadata": {
    "id": "fb625d80-6a98-471e-a758-4de0ce0f3a64"
   },
   "source": [
    "### 1.2 可视化我们的数据"
   ]
  },
  {
   "cell_type": "code",
   "execution_count": 8,
   "id": "b1df1f2c-28c9-43bf-aaef-cf996c9ae1c5",
   "metadata": {
    "colab": {
     "base_uri": "https://localhost:8080/",
     "height": 469
    },
    "id": "b1df1f2c-28c9-43bf-aaef-cf996c9ae1c5",
    "outputId": "9bbdbb0d-eed3-408a-bd7b-03aa22cb35bb"
   },
   "outputs": [
    {
     "name": "stdout",
     "output_type": "stream",
     "text": [
      "Image shape: torch.Size([1, 28, 28])\n"
     ]
    },
    {
     "data": {
      "image/png": "[encoded data removed]",
      "text/plain": [
       "<Figure size 640x480 with 1 Axes>"
      ]
     },
     "metadata": {},
     "output_type": "display_data"
    }
   ],
   "source": [
    "import matplotlib.pyplot as plt\n",
    "image, label = train_data[0]\n",
    "print(f\"Image shape: {image.shape}\")\n",
    "plt.imshow(image.squeeze()) # 图像的形状是 [1, 28, 28]（颜色通道，高度，宽度）\n",
    "plt.title(label);"
   ]
  },
  {
   "cell_type": "markdown",
   "id": "adb19c5c-2f2b-4aaf-8300-256f3594e2db",
   "metadata": {
    "id": "adb19c5c-2f2b-4aaf-8300-256f3594e2db"
   },
   "source": [
    "我们可以使用 `plt.imshow()` 的 `cmap` 参数将图像转换为灰度图。"
   ]
  },
  {
   "cell_type": "code",
   "execution_count": 9,
   "id": "92f09917-88f7-4446-b65f-baae586914c9",
   "metadata": {
    "colab": {
     "base_uri": "https://localhost:8080/",
     "height": 452
    },
    "id": "92f09917-88f7-4446-b65f-baae586914c9",
    "outputId": "c702456b-607c-4214-8e03-4bd0b22b097f"
   },
   "outputs": [
    {
     "data": {
      "image/png": "[encoded data removed]",
      "text/plain": [
       "<Figure size 640x480 with 1 Axes>"
      ]
     },
     "metadata": {},
     "output_type": "display_data"
    }
   ],
   "source": [
    "plt.imshow(image.squeeze(), cmap=\"gray\")\n",
    "plt.title(class_names[label]);"
   ]
  },
  {
   "cell_type": "markdown",
   "id": "9a09388a-d754-485f-aa26-4e7a0f782967",
   "metadata": {
    "id": "9a09388a-d754-485f-aa26-4e7a0f782967"
   },
   "source": [
    "很漂亮，尽管这只是一个像素化的灰度图踝靴，已经算是相当不错了。\n",
    "\n",
    "让我们再看看几个图像。"
   ]
  },
  {
   "cell_type": "code",
   "execution_count": 10,
   "id": "7188ed7a-5959-48c4-ac7f-19129a2adc83",
   "metadata": {
    "colab": {
     "base_uri": "https://localhost:8080/",
     "height": 752
    },
    "id": "7188ed7a-5959-48c4-ac7f-19129a2adc83",
    "outputId": "98d50938-b984-4725-8949-d85bf3143555"
   },
   "outputs": [
    {
     "data": {
      "image/png": "[encoded data removed]",
      "text/plain": [
       "<Figure size 900x900 with 16 Axes>"
      ]
     },
     "metadata": {},
     "output_type": "display_data"
    }
   ],
   "source": [
    "# 画出更多的图\n",
    "torch.manual_seed(42)\n",
    "fig = plt.figure(figsize=(9, 9))\n",
    "rows, cols = 4, 4\n",
    "for i in range(1, rows * cols + 1):\n",
    "    random_idx = torch.randint(0, len(train_data), size=[1]).item()\n",
    "    img, label = train_data[random_idx]\n",
    "    fig.add_subplot(rows, cols, i)\n",
    "    plt.imshow(img.squeeze(), cmap=\"gray\")\n",
    "    plt.title(class_names[label])\n",
    "    plt.axis(False);"
   ]
  },
  {
   "cell_type": "markdown",
   "id": "f356fbe9-95b1-4f81-a82d-dc15b3adc06a",
   "metadata": {
    "id": "f356fbe9-95b1-4f81-a82d-dc15b3adc06a"
   },
   "source": [
    "嗯，这个数据集看起来不太美观。\n",
    "\n",
    "但我们将在这个数据集上学习到的构建模型的原则，实际上适用于各种计算机视觉问题。\n",
    "\n",
    "本质上，就是通过将像素值输入模型，并找到其中的模式，然后使用这些模式来处理未来的像素值。\n",
    "\n",
    "此外，即使是这个小数据集（是的，60,000张图片在深度学习中也算小），你能编写一个程序来分类每一张图片吗？\n",
    "\n",
    "你可能能做到。\n",
    "\n",
    "不过，我认为在 PyTorch 中编写一个模型会更快。\n",
    "\n",
    "> **问题：** 你认为以上数据仅用直线（线性模型）就能建模吗？还是你认为也需要非直线（非线性模型）呢？"
   ]
  },
  {
   "cell_type": "markdown",
   "id": "43cdd23d-bd1f-4e8c-ba20-22d2b6ac14b1",
   "metadata": {
    "id": "43cdd23d-bd1f-4e8c-ba20-22d2b6ac14b1"
   },
   "source": [
    "## 2. 准备 DataLoader\n",
    "\n",
    "现在我们已经有了一个准备好的数据集。\n",
    "\n",
    "下一步是使用 [`torch.utils.data.DataLoader`](https://pytorch.org/docs/stable/data.html#torch.utils.data.Dataset) 或简称 `DataLoader` 来准备数据。\n",
    "\n",
    "`DataLoader` 做的事情正如你所想的那样。\n",
    "\n",
    "它帮助将数据加载到模型中。\n",
    "\n",
    "无论是训练还是推理。\n",
    "\n",
    "它将一个大型的 `Dataset` 转换成一个较小的数据块的 Python 可迭代对象。\n",
    "\n",
    "这些较小的块被称为 **批次** 或 **小批次**，批次大小可以通过 `batch_size` 参数设置。\n",
    "\n",
    "为什么要这么做？\n",
    "\n",
    "因为这样做在计算上更高效。\n",
    "\n",
    "在理想的世界中，你可以一次性对所有数据进行前向和反向传播。\n",
    "\n",
    "但一旦你开始使用非常大的数据集，除非你有无限的计算能力，否则将数据分成小批次会更容易。\n",
    "\n",
    "它还给你的模型提供了更多改进的机会。\n",
    "\n",
    "使用 **小批次**（数据的较小部分）时，每个 epoch 进行多次梯度下降（每个小批次一次，而不是每个 epoch 一次）。\n",
    "\n",
    "什么是一个合适的批次大小？\n",
    "\n",
    "对于许多问题，[32 是一个不错的起点](https://twitter.com/ylecun/status/989610208497360896?s=20&t=N96J_jotN--PYuJk2WcjMw)。\n",
    "\n",
    "但由于这是一个可以设置的 **超参数**，你可以尝试不同的值，通常使用的值是 2 的幂（例如 32、64、128、256、512）。\n",
    "\n",
    "![批次化 FashionMNIST，批次大小为 32，且启用了打乱。类似的批次化过程也适用于其他数据集，但会根据批次大小有所不同。](https://raw.githubusercontent.com/mrdbourke/pytorch-deep-learning/main/images/03-batching-fashionmnist.png)\n",
    "\n",
    "让我们为训练集和测试集创建 `DataLoader`。"
   ]
  },
  {
   "cell_type": "code",
   "execution_count": 11,
   "id": "bb2dbf90-a326-43cb-b25b-71af142fafeb",
   "metadata": {
    "colab": {
     "base_uri": "https://localhost:8080/"
    },
    "id": "bb2dbf90-a326-43cb-b25b-71af142fafeb",
    "outputId": "1f563408-3f50-4e8c-a15f-53e2f918b1ac"
   },
   "outputs": [
    {
     "name": "stdout",
     "output_type": "stream",
     "text": [
      "Dataloaders: (<torch.utils.data.dataloader.DataLoader object at 0x14ddb57c0>, <torch.utils.data.dataloader.DataLoader object at 0x14d883da0>)\n",
      "Length of train dataloader: 1875 batches of 32\n",
      "Length of test dataloader: 313 batches of 32\n"
     ]
    }
   ],
   "source": [
    "from torch.utils.data import DataLoader\n",
    "\n",
    "# 设置批次大小超参数\n",
    "BATCH_SIZE = 32\n",
    "\n",
    "# 将数据集转换为可迭代对象（批次）\n",
    "train_dataloader = DataLoader(train_data,  # 要转换为可迭代对象的数据集\n",
    "    batch_size=BATCH_SIZE,  # 每个批次有多少样本？\n",
    "    shuffle=True  # 是否在每个 epoch 后打乱数据？\n",
    ")\n",
    "\n",
    "test_dataloader = DataLoader(test_data,\n",
    "    batch_size=BATCH_SIZE,\n",
    "    shuffle=False  # 测试数据不需要打乱\n",
    ")\n",
    "\n",
    "# 查看我们创建的内容\n",
    "print(f\"Dataloaders: {train_dataloader, test_dataloader}\") \n",
    "print(f\"Length of train dataloader: {len(train_dataloader)} batches of {BATCH_SIZE}\")\n",
    "print(f\"Length of test dataloader: {len(test_dataloader)} batches of {BATCH_SIZE}\")"
   ]
  },
  {
   "cell_type": "code",
   "execution_count": 12,
   "id": "7a925ee7-484b-4149-be8f-3ad790172a5f",
   "metadata": {
    "colab": {
     "base_uri": "https://localhost:8080/"
    },
    "id": "7a925ee7-484b-4149-be8f-3ad790172a5f",
    "outputId": "85815bd7-39e9-44ed-b974-9e30fff5b5ad"
   },
   "outputs": [
    {
     "data": {
      "text/plain": [
       "(torch.Size([32, 1, 28, 28]), torch.Size([32]))"
      ]
     },
     "execution_count": 12,
     "metadata": {},
     "output_type": "execute_result"
    }
   ],
   "source": [
    "# 查看训练数据加载器中的内容\n",
    "train_features_batch, train_labels_batch = next(iter(train_dataloader))\n",
    "train_features_batch.shape, train_labels_batch.shape"
   ]
  },
  {
   "cell_type": "markdown",
   "id": "4fee4cf8-ab73-4c81-8e5e-3c81691e799c",
   "metadata": {
    "id": "4fee4cf8-ab73-4c81-8e5e-3c81691e799c"
   },
   "source": [
    "我们可以通过检查单个样本，看到数据没有改变。"
   ]
  },
  {
   "cell_type": "code",
   "execution_count": 13,
   "id": "c863d66a-49be-43be-84dc-372a5d6fc2c2",
   "metadata": {
    "colab": {
     "base_uri": "https://localhost:8080/",
     "height": 463
    },
    "id": "c863d66a-49be-43be-84dc-372a5d6fc2c2",
    "outputId": "1052cbcb-6186-4dfe-b5f0-6968bde9fb21"
   },
   "outputs": [
    {
     "name": "stdout",
     "output_type": "stream",
     "text": [
      "Image size: torch.Size([1, 28, 28])\n",
      "Label: 6, label size: torch.Size([])\n"
     ]
    },
    {
     "data": {
      "image/png": "[encoded data removed]",
      "text/plain": [
       "<Figure size 640x480 with 1 Axes>"
      ]
     },
     "metadata": {},
     "output_type": "display_data"
    }
   ],
   "source": [
    "# 展示一个样本\n",
    "torch.manual_seed(42)\n",
    "random_idx = torch.randint(0, len(train_features_batch), size=[1]).item()\n",
    "img, label = train_features_batch[random_idx], train_labels_batch[random_idx]\n",
    "plt.imshow(img.squeeze(), cmap=\"gray\")\n",
    "plt.title(class_names[label])\n",
    "plt.axis(\"Off\");\n",
    "print(f\"Image size: {img.shape}\")\n",
    "print(f\"Label: {label}, label size: {label.shape}\")"
   ]
  },
  {
   "cell_type": "markdown",
   "id": "db1695cf-f53d-4c7c-ad39-dfed76533125",
   "metadata": {
    "id": "db1695cf-f53d-4c7c-ad39-dfed76533125"
   },
   "source": [
    "## 3. 模型 0：构建基线模型\n",
    "\n",
    "数据已经加载并准备好了！\n",
    "\n",
    "接下来，我们将通过子类化 `nn.Module` 来构建一个 **基线模型**。\n",
    "\n",
    "**基线模型** 是最简单的模型之一。\n",
    "\n",
    "你将基线模型作为起点，并尝试通过后续更复杂的模型进行改进。\n",
    "\n",
    "我们的基线模型将包含两个 [`nn.Linear()`](https://pytorch.org/docs/stable/generated/torch.nn.Linear.html) 层。\n",
    "\n",
    "我们在之前的章节中做过类似的操作，但这次会有一个小差异。\n",
    "\n",
    "因为我们正在处理图像数据，所以我们将使用不同的层来开始。\n",
    "\n",
    "那就是 [`nn.Flatten()`](https://pytorch.org/docs/stable/generated/torch.nn.Flatten.html) 层。\n",
    "\n",
    "`nn.Flatten()` 会将一个张量的多个维度压缩成一个单一的向量。\n",
    "\n",
    "看到具体代码后，你会更容易理解这个概念。"
   ]
  },
  {
   "cell_type": "code",
   "execution_count": 14,
   "id": "405319f1-f242-4bd9-90f5-3abdc50782ac",
   "metadata": {
    "colab": {
     "base_uri": "https://localhost:8080/"
    },
    "id": "405319f1-f242-4bd9-90f5-3abdc50782ac",
    "outputId": "742cd0fe-c95f-4201-a469-f12733625784"
   },
   "outputs": [
    {
     "name": "stdout",
     "output_type": "stream",
     "text": [
      "Shape before flattening: torch.Size([1, 28, 28]) -> [color_channels, height, width]\n",
      "Shape after flattening: torch.Size([1, 784]) -> [color_channels, height*width]\n"
     ]
    }
   ],
   "source": [
    "# 创建一个 flatten 层\n",
    "flatten_model = nn.Flatten()  # 所有 nn 模块都可以作为模型使用（可以进行前向传递）\n",
    "\n",
    "# 获取一个样本\n",
    "x = train_features_batch[0]\n",
    "\n",
    "# 对样本进行展平\n",
    "output = flatten_model(x)  # 执行前向传递\n",
    "\n",
    "# 打印发生了什么\n",
    "print(f\"Shape before flattening: {x.shape} -> [color_channels, height, width]\")\n",
    "print(f\"Shape after flattening: {output.shape} -> [color_channels, height*width]\")\n",
    "\n",
    "# 尝试取消下面的注释并查看会发生什么\n",
    "#print(x)\n",
    "#print(output)"
   ]
  },
  {
   "cell_type": "markdown",
   "id": "86bb7806-fca6-45af-8111-3e00e38f5be9",
   "metadata": {
    "id": "86bb7806-fca6-45af-8111-3e00e38f5be9"
   },
   "source": [
    "`nn.Flatten()` 层将我们的形状从 `[色彩通道, 高度, 宽度]` 转换为 `[色彩通道, 高度*宽度]`。\n",
    "\n",
    "为什么要这样做？\n",
    "\n",
    "因为我们现在将像素数据从高度和宽度的维度转换为一个长的 **特征向量**。\n",
    "\n",
    "而 `nn.Linear()` 层喜欢其输入以特征向量的形式出现。\n",
    "\n",
    "接下来，我们将创建我们的第一个模型，使用 `nn.Flatten()` 作为第一层。"
   ]
  },
  {
   "cell_type": "code",
   "execution_count": 15,
   "id": "1449f427-6859-41ae-8133-50b58ffbce72",
   "metadata": {
    "id": "1449f427-6859-41ae-8133-50b58ffbce72"
   },
   "outputs": [],
   "source": [
    "from torch import nn\n",
    "\n",
    "class FashionMNISTModelV0(nn.Module):\n",
    "    def __init__(self, input_shape: int, hidden_units: int, output_shape: int):\n",
    "        super().__init__()\n",
    "        self.layer_stack = nn.Sequential(\n",
    "            nn.Flatten(),  # 神经网络喜欢其输入为向量形式\n",
    "            nn.Linear(in_features=input_shape, out_features=hidden_units),  # in_features = 数据样本中的特征数 (784个像素)\n",
    "            nn.Linear(in_features=hidden_units, out_features=output_shape)\n",
    "        )\n",
    "    \n",
    "    def forward(self, x):\n",
    "        return self.layer_stack(x)"
   ]
  },
  {
   "cell_type": "markdown",
   "id": "4d1b50bf-d00b-485c-be00-b3e4de156fab",
   "metadata": {
    "id": "4d1b50bf-d00b-485c-be00-b3e4de156fab"
   },
   "source": [
    "我们已经有了一个基线模型类，现在让我们实例化一个模型。\n",
    "\n",
    "我们需要设置以下参数：\n",
    "* `input_shape=784` - 这是输入到模型中的特征数量，在我们的案例中，这就是目标图像的每个像素（28像素高 × 28像素宽 = 784个特征）。\n",
    "* `hidden_units=10` - 隐藏层中的单元数/神经元数，这个数字可以是任何你想要的，但为了保持模型简单，我们从 `10` 开始。\n",
    "* `output_shape=len(class_names)` - 由于我们正在处理一个多类别分类问题，我们需要为数据集中每个类别创建一个输出神经元。\n",
    "\n",
    "让我们创建模型的一个实例，并将其发送到CPU上运行（我们稍后将进行一次小的测试，比较在CPU和GPU上运行 `model_0` 和类似模型的表现）。"
   ]
  },
  {
   "cell_type": "code",
   "execution_count": 16,
   "id": "dd18384a-76f9-4b5a-a013-fda077f16865",
   "metadata": {
    "colab": {
     "base_uri": "https://localhost:8080/"
    },
    "id": "dd18384a-76f9-4b5a-a013-fda077f16865",
    "outputId": "e4b63839-d012-40db-a7f7-967a146fe566"
   },
   "outputs": [
    {
     "data": {
      "text/plain": [
       "FashionMNISTModelV0(\n",
       "  (layer_stack): Sequential(\n",
       "    (0): Flatten(start_dim=1, end_dim=-1)\n",
       "    (1): Linear(in_features=784, out_features=10, bias=True)\n",
       "    (2): Linear(in_features=10, out_features=10, bias=True)\n",
       "  )\n",
       ")"
      ]
     },
     "execution_count": 16,
     "metadata": {},
     "output_type": "execute_result"
    }
   ],
   "source": [
    "torch.manual_seed(42)  # 设置随机种子，确保结果可复现\n",
    "\n",
    "# 需要使用输入参数设置模型\n",
    "model_0 = FashionMNISTModelV0(\n",
    "    input_shape=784,  # 每个像素一个特征（28x28）\n",
    "    hidden_units=10,  # 隐藏层中的单元数\n",
    "    output_shape=len(class_names)  # 每个类别一个输出神经元\n",
    ")\n",
    "model_0.to(\"cpu\")  # 初始时将模型保持在CPU上"
   ]
  },
  {
   "cell_type": "markdown",
   "id": "03243179-1cdc-45d9-8b8c-82538ac02e9c",
   "metadata": {
    "id": "03243179-1cdc-45d9-8b8c-82538ac02e9c"
   },
   "source": [
    "### 3.1 设置损失函数、优化器和评估指标\n",
    "\n",
    "由于我们在处理分类问题，让我们引入我们的 [`helper_functions.py`](https://github.com/mrdbourke/pytorch-deep-learning/blob/main/helper_functions.py) 脚本，并使用我们在 [笔记本 02](https://www.learnpytorch.io/02_pytorch_classification/) 中定义的 `accuracy_fn()` 函数。\n",
    "\n",
    "> **注意：** 如果不想使用我们自己的准确度函数或评估指标，你可以从 [TorchMetrics 包](https://torchmetrics.readthedocs.io/en/latest/) 导入多种评估指标。"
   ]
  },
  {
   "cell_type": "code",
   "execution_count": 17,
   "id": "31c91f17-d810-46a4-97c3-c734f93430b1",
   "metadata": {
    "colab": {
     "base_uri": "https://localhost:8080/"
    },
    "id": "31c91f17-d810-46a4-97c3-c734f93430b1",
    "outputId": "d2333811-f5fa-426f-90a7-c884fe2493df"
   },
   "outputs": [
    {
     "name": "stdout",
     "output_type": "stream",
     "text": [
      "helper_functions.py already exists, skipping download\n"
     ]
    }
   ],
   "source": [
    "import requests\n",
    "from pathlib import Path \n",
    "\n",
    "# 下载 Learn PyTorch 仓库中的辅助函数（如果尚未下载）\n",
    "if Path(\"helper_functions.py\").is_file():\n",
    "  print(\"helper_functions.py already exists, skipping download\")\n",
    "else:\n",
    "  print(\"正在下载 helper_functions.py\")\n",
    "  # 注意：你需要使用 GitHub 的 \"raw\" URL 才能使这个方法生效\n",
    "  request = requests.get(\"https://raw.githubusercontent.com/mrdbourke/pytorch-deep-learning/main/helper_functions.py\")\n",
    "  with open(\"helper_functions.py\", \"wb\") as f:\n",
    "    f.write(request.content)"
   ]
  },
  {
   "cell_type": "code",
   "execution_count": 18,
   "id": "ce3d13b8-f018-4b44-8bba-375074dc4c5f",
   "metadata": {
    "id": "ce3d13b8-f018-4b44-8bba-375074dc4c5f"
   },
   "outputs": [],
   "source": [
    "# 导入准确率评估指标\n",
    "from helper_functions import accuracy_fn  # 注意：也可以使用 torchmetrics.Accuracy(task = 'multiclass', num_classes=len(class_names)).to(device)\n",
    "\n",
    "# 设置损失函数和优化器\n",
    "loss_fn = nn.CrossEntropyLoss()  # 这个也被称为 \"criterion\"（损失函数）或 \"cost function\"（代价函数）\n",
    "optimizer = torch.optim.SGD(params=model_0.parameters(), lr=0.1)  # 设置优化器为随机梯度下降（SGD），学习率为 0.1"
   ]
  },
  {
   "cell_type": "markdown",
   "id": "4109f867-83f2-4394-a925-8acdc63ccffe",
   "metadata": {
    "id": "4109f867-83f2-4394-a925-8acdc63ccffe"
   },
   "source": [
    "### 3.2 创建一个函数来计时我们的实验\n",
    "\n",
    "损失函数和优化器已准备好！\n",
    "\n",
    "是时候开始训练模型了。\n",
    "\n",
    "但在训练时，我们可以做一个小实验。\n",
    "\n",
    "我们可以创建一个计时函数，来测量我们的模型在 CPU 上和 GPU 上训练所需的时间。\n",
    "\n",
    "我们将把这个模型训练在 CPU 上，但下一个模型训练时将使用 GPU，看看会发生什么。\n",
    "\n",
    "我们的计时函数将从 Python 的 [`timeit` 模块](https://docs.python.org/3/library/timeit.html) 中导入 [`timeit.default_timer()`](https://docs.python.org/3/library/timeit.html#timeit.default_timer) 函数。"
   ]
  },
  {
   "cell_type": "code",
   "execution_count": 19,
   "id": "31adc3fe-ce90-4b4e-b0d4-3613abae5714",
   "metadata": {
    "id": "31adc3fe-ce90-4b4e-b0d4-3613abae5714"
   },
   "outputs": [],
   "source": [
    "from timeit import default_timer as timer \n",
    "\n",
    "def print_train_time(start: float, end: float, device: torch.device = None):\n",
    "    \"\"\"打印开始时间和结束时间之间的差值。\n",
    "\n",
    "    参数:\n",
    "        start (float): 计算开始时间（建议使用 timeit 格式）。 \n",
    "        end (float): 计算结束时间。\n",
    "        device ([type], 可选): 计算运行所在的设备。默认为 None。\n",
    "\n",
    "    返回:\n",
    "        float: 从开始到结束的时间，单位为秒（值越大表示训练时间越长）。\n",
    "    \"\"\"\n",
    "    total_time = end - start\n",
    "    print(f\"Train time on {device}: {total_time:.3f} seconds\")\n",
    "    return total_time\n"
   ]
  },
  {
   "cell_type": "markdown",
   "id": "07b9560e-f5dc-45d6-b3b2-ddae17a71b34",
   "metadata": {
    "id": "07b9560e-f5dc-45d6-b3b2-ddae17a71b34"
   },
   "source": [
    "### 3.3 创建训练循环并在数据批次上训练模型\n",
    "\n",
    "太好了！\n",
    "\n",
    "看起来我们已经准备好了所有的部分：计时器、损失函数、优化器、模型，最重要的是，数据。\n",
    "\n",
    "现在，让我们创建一个训练循环和一个测试循环，用来训练和评估我们的模型。\n",
    "\n",
    "我们将使用与之前笔记本中相同的步骤，尽管由于我们的数据现在是批次形式，我们将增加一个循环来遍历数据批次。\n",
    "\n",
    "我们的数据批次包含在 `DataLoader` 中，分别为训练数据集 `train_dataloader` 和测试数据集 `test_dataloader`。\n",
    "\n",
    "一个批次包含 `BATCH_SIZE` 个样本的 `X`（特征）和 `y`（标签），由于我们设置了 `BATCH_SIZE=32`，每个批次有 32 个样本的图像和目标。\n",
    "\n",
    "因为我们在数据批次上进行计算，所以我们的损失和评估指标将是 **每个批次** 计算的，而不是跨整个数据集计算的。\n",
    "\n",
    "这意味着我们必须将每个数据集相应数据加载器中的损失和准确率值除以批次数量。\n",
    "\n",
    "让我们一步步来：\n",
    "1. 循环遍历 epoch（训练轮次）。\n",
    "2. 遍历训练批次，执行训练步骤，计算 **每个批次** 的训练损失。\n",
    "3. 遍历测试批次，执行测试步骤，计算 **每个批次** 的测试损失。\n",
    "4. 输出当前状态。\n",
    "5. 为了有趣，计时整个过程。\n",
    "\n",
    "步骤不少，但……\n",
    "\n",
    "……如果不确定，就写代码试试。"
   ]
  },
  {
   "cell_type": "code",
   "execution_count": 20,
   "id": "c07bbf10-81e3-47f0-990d-9a4a838276ab",
   "metadata": {
    "colab": {
     "base_uri": "https://localhost:8080/",
     "height": 587,
     "referenced_widgets": [
      "0bd8f8b5ff4d4b50b03e3a65cc1446f0",
      "430d171cfd584196ad0fa3e1cd0a286c",
      "618fb3cf63a94da9ad5f29a3d9a87ac3",
      "3524e24faad44aa38926b40b2d590f6b",
      "c01ca4def9224135ad367b6f8dbbae62",
      "decc1966e6a84973839efc0c65f51790",
      "39fc424b6cef4e98a80a342f530be99b",
      "e929063168354b018bbf0bb45fdfef1f",
      "d62646457b284fcb8aeac382b77eb942",
      "5c0883aa74f94568850741dad118cb88",
      "e44697d8dd41492e8619a860b3911e19"
     ]
    },
    "id": "c07bbf10-81e3-47f0-990d-9a4a838276ab",
    "outputId": "3fb70da8-1a65-42bb-a684-85f0d1dd11c0"
   },
   "outputs": [
    {
     "name": "stderr",
     "output_type": "stream",
     "text": [
      "/Users/yaweiliu/usr/miniconda3/envs/mlenv/lib/python3.12/site-packages/tqdm/auto.py:21: TqdmWarning: IProgress not found. Please update jupyter and ipywidgets. See https://ipywidgets.readthedocs.io/en/stable/user_install.html\n",
      "  from .autonotebook import tqdm as notebook_tqdm\n",
      "  0%|          | 0/3 [00:00<?, ?it/s]"
     ]
    },
    {
     "name": "stdout",
     "output_type": "stream",
     "text": [
      "Epoch: 0\n",
      "-------\n",
      "已处理 0/60000 个样本\n",
      "已处理 12800/60000 个样本\n",
      "已处理 25600/60000 个样本\n",
      "已处理 38400/60000 个样本\n",
      "已处理 51200/60000 个样本\n"
     ]
    },
    {
     "name": "stderr",
     "output_type": "stream",
     "text": [
      " 33%|███▎      | 1/3 [00:02<00:04,  2.06s/it]"
     ]
    },
    {
     "name": "stdout",
     "output_type": "stream",
     "text": [
      "\n",
      "Train loss: 0.59039 | Test loss: 0.50954, Test acc: 82.04%\n",
      "\n",
      "Epoch: 1\n",
      "-------\n",
      "已处理 0/60000 个样本\n",
      "已处理 12800/60000 个样本\n",
      "已处理 25600/60000 个样本\n",
      "已处理 38400/60000 个样本\n",
      "已处理 51200/60000 个样本\n"
     ]
    },
    {
     "name": "stderr",
     "output_type": "stream",
     "text": [
      " 67%|██████▋   | 2/3 [00:04<00:02,  2.03s/it]"
     ]
    },
    {
     "name": "stdout",
     "output_type": "stream",
     "text": [
      "\n",
      "Train loss: 0.47633 | Test loss: 0.47989, Test acc: 83.20%\n",
      "\n",
      "Epoch: 2\n",
      "-------\n",
      "已处理 0/60000 个样本\n",
      "已处理 12800/60000 个样本\n",
      "已处理 25600/60000 个样本\n",
      "已处理 38400/60000 个样本\n",
      "已处理 51200/60000 个样本\n"
     ]
    },
    {
     "name": "stderr",
     "output_type": "stream",
     "text": [
      "100%|██████████| 3/3 [00:06<00:00,  2.03s/it]"
     ]
    },
    {
     "name": "stdout",
     "output_type": "stream",
     "text": [
      "\n",
      "Train loss: 0.45503 | Test loss: 0.47664, Test acc: 83.43%\n",
      "\n",
      "Train time on cpu: 6.111 seconds\n"
     ]
    },
    {
     "name": "stderr",
     "output_type": "stream",
     "text": [
      "\n"
     ]
    }
   ],
   "source": [
    "# 导入 tqdm 用于进度条\n",
    "from tqdm.auto import tqdm\n",
    "\n",
    "# 设置种子并启动计时器\n",
    "torch.manual_seed(42)\n",
    "train_time_start_on_cpu = timer()\n",
    "\n",
    "# 设置训练的轮数（为了更快的训练时间，先设置小一点）\n",
    "epochs = 3\n",
    "\n",
    "# 创建训练和测试循环\n",
    "for epoch in tqdm(range(epochs)):\n",
    "    print(f\"Epoch: {epoch}\\n-------\")\n",
    "    \n",
    "    ### 训练\n",
    "    train_loss = 0\n",
    "    # 添加一个循环遍历训练批次\n",
    "    for batch, (X, y) in enumerate(train_dataloader):\n",
    "        model_0.train() \n",
    "        # 1. 前向传播\n",
    "        y_pred = model_0(X)\n",
    "\n",
    "        # 2. 计算损失（每个批次）\n",
    "        loss = loss_fn(y_pred, y)\n",
    "        train_loss += loss # 累加每个 epoch 的损失\n",
    "\n",
    "        # 3. 优化器清零梯度\n",
    "        optimizer.zero_grad()\n",
    "\n",
    "        # 4. 损失反向传播\n",
    "        loss.backward()\n",
    "\n",
    "        # 5. 优化器步进\n",
    "        optimizer.step()\n",
    "\n",
    "        # 打印出已处理的样本数量\n",
    "        if batch % 400 == 0:\n",
    "            print(f\"已处理 {batch * len(X)}/{len(train_dataloader.dataset)} 个样本\")\n",
    "\n",
    "    # 计算每个 epoch 的平均训练损失（将总损失除以训练数据加载器的长度）\n",
    "    train_loss /= len(train_dataloader)\n",
    "    \n",
    "    ### 测试\n",
    "    # 设置变量来累加损失和准确率\n",
    "    test_loss, test_acc = 0, 0 \n",
    "    model_0.eval()\n",
    "    with torch.inference_mode():\n",
    "        for X, y in test_dataloader:\n",
    "            # 1. 前向传播\n",
    "            test_pred = model_0(X)\n",
    "           \n",
    "            # 2. 计算损失（累加）\n",
    "            test_loss += loss_fn(test_pred, y) # 累加每个 epoch 的损失\n",
    "\n",
    "            # 3. 计算准确率（预测值需要和真实标签相同）\n",
    "            test_acc += accuracy_fn(y_true=y, y_pred=test_pred.argmax(dim=1))\n",
    "        \n",
    "        # 测试指标的计算必须在 torch.inference_mode() 模式下进行\n",
    "        # 计算每个批次的平均测试损失\n",
    "        test_loss /= len(test_dataloader)\n",
    "\n",
    "        # 计算每个批次的平均准确率\n",
    "        test_acc /= len(test_dataloader)\n",
    "\n",
    "    ## 打印出当前状态\n",
    "    print(f\"\\nTrain loss: {train_loss:.5f} | Test loss: {test_loss:.5f}, Test acc: {test_acc:.2f}%\\n\")\n",
    "\n",
    "# 计算训练时间      \n",
    "train_time_end_on_cpu = timer()\n",
    "total_train_time_model_0 = print_train_time(start=train_time_start_on_cpu, \n",
    "                                           end=train_time_end_on_cpu,\n",
    "                                           device=str(next(model_0.parameters()).device))"
   ]
  },
  {
   "cell_type": "markdown",
   "id": "7b02a939-a3a1-4a9d-bb9d-62928def2ded",
   "metadata": {
    "id": "7b02a939-a3a1-4a9d-bb9d-62928def2ded"
   },
   "source": [
    "很棒！看起来我们的基准模型表现得相当不错。\n",
    "\n",
    "即使只在 CPU 上训练，也没有花费太长时间，我想知道在 GPU 上会不会加速？\n",
    "\n",
    "让我们编写一些代码来评估我们的模型。"
   ]
  },
  {
   "cell_type": "markdown",
   "id": "7442511b-bfe9-4ec7-9f5b-9c808f8e560b",
   "metadata": {
    "id": "7442511b-bfe9-4ec7-9f5b-9c808f8e560b"
   },
   "source": [
    "## 4. 进行预测并获取模型 0 的结果\n",
    "\n",
    "由于我们将构建几个模型，编写一些代码以相似的方式评估它们是一个好主意。\n",
    "\n",
    "具体来说，我们可以创建一个函数，传入一个训练好的模型、一个 `DataLoader`、一个损失函数和一个准确度函数。\n",
    "\n",
    "该函数将使用模型对 `DataLoader` 中的数据进行预测，然后我们可以使用损失函数和准确度函数来评估这些预测结果。"
   ]
  },
  {
   "cell_type": "code",
   "execution_count": 21,
   "id": "8317dd04-9de2-4fd7-97bd-1e202621397d",
   "metadata": {
    "colab": {
     "base_uri": "https://localhost:8080/"
    },
    "id": "8317dd04-9de2-4fd7-97bd-1e202621397d",
    "outputId": "7132105e-6f51-43d3-efa7-f0231a21addc"
   },
   "outputs": [
    {
     "data": {
      "text/plain": [
       "{'model_name': 'FashionMNISTModelV0',\n",
       " 'model_loss': 0.47663894295692444,\n",
       " 'model_acc': 83.42651757188499}"
      ]
     },
     "execution_count": 21,
     "metadata": {},
     "output_type": "execute_result"
    }
   ],
   "source": [
    "torch.manual_seed(42)\n",
    "\n",
    "def eval_model(model: torch.nn.Module, \n",
    "               data_loader: torch.utils.data.DataLoader, \n",
    "               loss_fn: torch.nn.Module, \n",
    "               accuracy_fn):\n",
    "    \"\"\"返回一个字典，包含模型在 data_loader 上预测的结果。\n",
    "\n",
    "    参数:\n",
    "        model (torch.nn.Module): 一个可以在 data_loader 上进行预测的 PyTorch 模型。\n",
    "        data_loader (torch.utils.data.DataLoader): 目标数据集，用于预测。\n",
    "        loss_fn (torch.nn.Module): 模型的损失函数。\n",
    "        accuracy_fn: 用于比较模型预测与真实标签之间的准确度函数。\n",
    "\n",
    "    返回:\n",
    "        (dict): 包含模型在 data_loader 上进行预测的结果。\n",
    "    \"\"\"\n",
    "    loss, acc = 0, 0\n",
    "    model.eval()  # 设置模型为评估模式\n",
    "    with torch.inference_mode():  # 禁用梯度计算\n",
    "        for X, y in data_loader:\n",
    "            # 使用模型进行预测\n",
    "            y_pred = model(X)\n",
    "            \n",
    "            # 累积每个批次的损失和准确度\n",
    "            loss += loss_fn(y_pred, y)\n",
    "            acc += accuracy_fn(y_true=y, \n",
    "                                y_pred=y_pred.argmax(dim=1))  # 准确度需要预测标签（logits -> pred_prob -> pred_labels）\n",
    "        \n",
    "        # 计算每个批次的平均损失和准确度\n",
    "        loss /= len(data_loader)\n",
    "        acc /= len(data_loader)\n",
    "        \n",
    "    return {\"model_name\": model.__class__.__name__, # 仅当模型是用类创建时有效\n",
    "            \"model_loss\": loss.item(),\n",
    "            \"model_acc\": acc}\n",
    "\n",
    "# 计算模型 0 在测试数据集上的结果\n",
    "model_0_results = eval_model(model=model_0, data_loader=test_dataloader,\n",
    "    loss_fn=loss_fn, accuracy_fn=accuracy_fn\n",
    ")\n",
    "model_0_results\n"
   ]
  },
  {
   "cell_type": "markdown",
   "id": "a39c3042-1262-4d1f-b33e-c8e2ba6781d3",
   "metadata": {
    "id": "a39c3042-1262-4d1f-b33e-c8e2ba6781d3"
   },
   "source": [
    "看起来不错！\n",
    "\n",
    "我们可以使用这个字典将基准模型的结果与其他模型进行比较。"
   ]
  },
  {
   "cell_type": "markdown",
   "id": "3b76784d-4cdb-43d2-a6da-8e4da9a812a9",
   "metadata": {
    "id": "3b76784d-4cdb-43d2-a6da-8e4da9a812a9"
   },
   "source": [
    "## 5. 设置设备无关代码（用于在有 GPU 时使用）\n",
    "\n",
    "我们已经看到在 CPU 上训练 PyTorch 模型所需的时间，使用了 60,000 个样本。\n",
    "\n",
    "> **注意：** 模型训练时间依赖于使用的硬件。通常，更多的处理器意味着更快的训练，较小的模型和小型数据集通常会比大型模型和大型数据集训练得更快。\n",
    "\n",
    "现在，让我们为模型和数据设置一些 [设备无关的代码](https://pytorch.org/docs/stable/notes/cuda.html#best-practices)，使它们在 GPU 可用时能够在 GPU 上运行。\n",
    "\n",
    "如果你在 Google Colab 上运行此笔记本，并且还没有启用 GPU，现在是时候通过 `Runtime -> Change runtime type -> Hardware accelerator -> GPU` 来启用它了。如果你启用 GPU，运行时可能会重置，你需要通过 `Runtime -> Run before` 重新运行所有单元格。"
   ]
  },
  {
   "cell_type": "code",
   "execution_count": 22,
   "id": "17b69fe9-f974-4538-922c-20c5cc8220cc",
   "metadata": {
    "colab": {
     "base_uri": "https://localhost:8080/",
     "height": 35
    },
    "id": "17b69fe9-f974-4538-922c-20c5cc8220cc",
    "outputId": "10c3b74b-4db7-4a30-8c3a-5a259d1f54b8"
   },
   "outputs": [
    {
     "data": {
      "text/plain": [
       "'cpu'"
      ]
     },
     "execution_count": 22,
     "metadata": {},
     "output_type": "execute_result"
    }
   ],
   "source": [
    "# 设置设备无关的代码\n",
    "import torch\n",
    "device = \"cuda\" if torch.cuda.is_available() else \"cpu\"  # 如果有可用的 GPU，则使用 GPU，否则使用 CPU\n",
    "device"
   ]
  },
  {
   "cell_type": "markdown",
   "id": "514021a8-d6f2-47f3-ab50-55f844e42310",
   "metadata": {
    "id": "514021a8-d6f2-47f3-ab50-55f844e42310"
   },
   "source": [
    "太棒了！\n",
    "\n",
    "我们来构建另一个模型吧。"
   ]
  },
  {
   "cell_type": "markdown",
   "id": "d7893907-5f82-4c5e-8fde-fa542a9f25af",
   "metadata": {
    "id": "d7893907-5f82-4c5e-8fde-fa542a9f25af"
   },
   "source": [
    "## 6. 模型 1：通过非线性构建更好的模型\n",
    "\n",
    "我们在[第二个笔记本中了解了非线性的强大作用](https://www.learnpytorch.io/02_pytorch_classification/#6-the-missing-piece-non-linearity)。\n",
    "\n",
    "看着我们一直在处理的数据，你认为它需要非线性函数吗？\n",
    "\n",
    "记住，线性意味着直线，而非线性意味着非直线。\n",
    "\n",
    "让我们来看看。\n",
    "\n",
    "我们将通过重新构建一个类似的模型来实现这一点，不过这次我们将在每个线性层之间加入非线性函数（`nn.ReLU()`）。"
   ]
  },
  {
   "cell_type": "code",
   "execution_count": 23,
   "id": "2ccce5f2-b1e5-47a6-a7f3-6bc096b35ffb",
   "metadata": {
    "id": "2ccce5f2-b1e5-47a6-a7f3-6bc096b35ffb"
   },
   "outputs": [],
   "source": [
    "# 创建一个包含非线性和线性层的模型\n",
    "class FashionMNISTModelV1(nn.Module):\n",
    "    def __init__(self, input_shape: int, hidden_units: int, output_shape: int):\n",
    "        super().__init__()\n",
    "        self.layer_stack = nn.Sequential(\n",
    "            nn.Flatten(), # 将输入展平为单个向量\n",
    "            nn.Linear(in_features=input_shape, out_features=hidden_units),\n",
    "            nn.ReLU(), # 添加 ReLU 激活函数\n",
    "            nn.Linear(in_features=hidden_units, out_features=output_shape),\n",
    "            nn.ReLU() # 再次添加 ReLU 激活函数\n",
    "        )\n",
    "    \n",
    "    def forward(self, x: torch.Tensor):\n",
    "        return self.layer_stack(x) # 前向传播"
   ]
  },
  {
   "cell_type": "markdown",
   "id": "4b4b7a2f-4834-4aa1-a8e2-b6e3e2b49224",
   "metadata": {
    "id": "4b4b7a2f-4834-4aa1-a8e2-b6e3e2b49224"
   },
   "source": [
    "这看起来不错。\n",
    "\n",
    "现在，我们用与之前相同的设置来实例化这个模型。\n",
    "\n",
    "我们需要设置 `input_shape=784`（等于图像数据的特征数），`hidden_units=10`（与我们的基线模型相同，保持较小），以及 `output_shape=len(class_names)`（每个类别一个输出单元）。\n",
    "\n",
    "> **注意：** 我们保留了大部分模型设置不变，唯一的变化是添加了非线性层。这是进行机器学习实验的标准做法，改变一项设置，然后观察结果，再进行下一次实验。"
   ]
  },
  {
   "cell_type": "code",
   "execution_count": 25,
   "id": "907091ec-7e46-470b-a305-788a3009b837",
   "metadata": {
    "colab": {
     "base_uri": "https://localhost:8080/"
    },
    "id": "907091ec-7e46-470b-a305-788a3009b837",
    "outputId": "4cecd2df-2918-4368-fa33-7aea8f958d8f"
   },
   "outputs": [
    {
     "data": {
      "text/plain": [
       "device(type='cpu')"
      ]
     },
     "execution_count": 25,
     "metadata": {},
     "output_type": "execute_result"
    }
   ],
   "source": [
    "torch.manual_seed(42)\n",
    "\n",
    "# 创建一个模型实例\n",
    "model_1 = FashionMNISTModelV1(input_shape=784,  # 输入特征的数量（784对应28x28的图像）\n",
    "    hidden_units=10,  # 隐藏层单元数\n",
    "    output_shape=len(class_names)  # 输出类别的数量（对应类别数量）\n",
    ").to(device)  # 如果有GPU，则将模型发送到GPU\n",
    "\n",
    "# 检查模型所在的设备\n",
    "next(model_1.parameters()).device"
   ]
  },
  {
   "cell_type": "markdown",
   "id": "b54a4e9d-a7ad-404c-920f-485fcff18a92",
   "metadata": {
    "id": "b54a4e9d-a7ad-404c-920f-485fcff18a92"
   },
   "source": [
    "### 6.1 设置损失函数、优化器和评估指标\n",
    "\n",
    "像往常一样，我们将设置一个损失函数、一个优化器和一个评估指标（我们可以使用多个评估指标，但现在先使用准确率作为评估指标）。"
   ]
  },
  {
   "cell_type": "code",
   "execution_count": 26,
   "id": "fe7e463b-d46c-4f00-853c-fdf0a28d74c8",
   "metadata": {
    "id": "fe7e463b-d46c-4f00-853c-fdf0a28d74c8"
   },
   "outputs": [],
   "source": [
    "from helper_functions import accuracy_fn\n",
    "loss_fn = nn.CrossEntropyLoss()\n",
    "optimizer = torch.optim.SGD(params=model_1.parameters(), \n",
    "                            lr=0.1)"
   ]
  },
  {
   "cell_type": "markdown",
   "id": "1eb30af6-a355-49a2-a59f-25169fd27a6e",
   "metadata": {
    "id": "1eb30af6-a355-49a2-a59f-25169fd27a6e"
   },
   "source": [
    "### 6.2 将训练和测试循环封装成函数\n",
    "\n",
    "到目前为止，我们一直在重复编写训练和测试循环。\n",
    "\n",
    "让我们再写一次，但这次我们将它们封装到函数中，以便可以多次调用。\n",
    "\n",
    "由于我们现在使用的是设备无关的代码，我们将确保对输入特征（`X`）和目标（`y`）张量调用 `.to(device)`。\n",
    "\n",
    "对于训练循环，我们将创建一个名为 `train_step()` 的函数，它接收一个模型、一个 `DataLoader`、一个损失函数和一个优化器。\n",
    "\n",
    "测试循环将类似，但它将被命名为 `test_step()`，并且它将接收一个模型、一个 `DataLoader`、一个损失函数和一个评估函数。\n",
    "\n",
    "> **注意：** 由于这些是函数，你可以根据需要对它们进行自定义。我们这里创建的可以视为为特定分类任务设计的最基本的训练和测试函数。"
   ]
  },
  {
   "cell_type": "code",
   "execution_count": 27,
   "id": "3d239ed2-4028-4603-8db3-ffca2b727819",
   "metadata": {
    "id": "3d239ed2-4028-4603-8db3-ffca2b727819"
   },
   "outputs": [],
   "source": [
    "def train_step(model: torch.nn.Module,\n",
    "               data_loader: torch.utils.data.DataLoader,\n",
    "               loss_fn: torch.nn.Module,\n",
    "               optimizer: torch.optim.Optimizer,\n",
    "               accuracy_fn,\n",
    "               device: torch.device = device):\n",
    "    train_loss, train_acc = 0, 0\n",
    "    model.to(device)\n",
    "    for batch, (X, y) in enumerate(data_loader):\n",
    "        # 将数据发送到 GPU\n",
    "        X, y = X.to(device), y.to(device)\n",
    "\n",
    "        # 1. 前向传播\n",
    "        y_pred = model(X)\n",
    "\n",
    "        # 2. 计算损失\n",
    "        loss = loss_fn(y_pred, y)\n",
    "        train_loss += loss\n",
    "        train_acc += accuracy_fn(y_true=y,\n",
    "                                 y_pred=y_pred.argmax(dim=1)) # 从logits -> 预测标签\n",
    "\n",
    "        # 3. 优化器梯度清零\n",
    "        optimizer.zero_grad()\n",
    "\n",
    "        # 4. 反向传播\n",
    "        loss.backward()\n",
    "\n",
    "        # 5. 优化器更新\n",
    "        optimizer.step()\n",
    "\n",
    "    # 计算每个epoch的损失和准确率，并打印结果\n",
    "    train_loss /= len(data_loader)\n",
    "    train_acc /= len(data_loader)\n",
    "    print(f\"Train loss: {train_loss:.5f} | Train accuracy: {train_acc:.2f}%\")\n",
    "\n",
    "def test_step(data_loader: torch.utils.data.DataLoader,\n",
    "              model: torch.nn.Module,\n",
    "              loss_fn: torch.nn.Module,\n",
    "              accuracy_fn,\n",
    "              device: torch.device = device):\n",
    "    test_loss, test_acc = 0, 0\n",
    "    model.to(device)\n",
    "    model.eval() # 将模型设置为评估模式\n",
    "    # 启用推理上下文管理器\n",
    "    with torch.inference_mode(): \n",
    "        for X, y in data_loader:\n",
    "            # 将数据发送到 GPU\n",
    "            X, y = X.to(device), y.to(device)\n",
    "            \n",
    "            # 1. 前向传播\n",
    "            test_pred = model(X)\n",
    "            \n",
    "            # 2. 计算损失和准确率\n",
    "            test_loss += loss_fn(test_pred, y)\n",
    "            test_acc += accuracy_fn(y_true=y,\n",
    "                y_pred=test_pred.argmax(dim=1) # 从logits -> 预测标签\n",
    "            )\n",
    "        \n",
    "        # 调整度量并打印结果\n",
    "        test_loss /= len(data_loader)\n",
    "        test_acc /= len(data_loader)\n",
    "        print(f\"Test loss: {test_loss:.5f} | Test accuracy: {test_acc:.2f}%\\n\")"
   ]
  },
  {
   "cell_type": "markdown",
   "id": "e44121b6-c4be-4909-9175-dc9bd8dc6273",
   "metadata": {
    "id": "e44121b6-c4be-4909-9175-dc9bd8dc6273"
   },
   "source": [
    "现在我们已经有了训练和测试模型的函数，让我们运行它们。\n",
    "\n",
    "我们将在另一个循环中运行每个epoch，这样每个epoch都会进行一次训练和一次测试。\n",
    "\n",
    "> **注意：** 你可以自定义进行测试步骤的频率。有时人们每五个epoch或十个epoch进行一次测试，或者在我们的例子中，每个epoch都进行一次测试。\n",
    "\n",
    "让我们还对运行时间进行计时，看看我们的代码在GPU上运行需要多长时间。"
   ]
  },
  {
   "cell_type": "code",
   "execution_count": 28,
   "id": "2bb8094b-01a0-4b84-9526-ba8888d04901",
   "metadata": {
    "colab": {
     "base_uri": "https://localhost:8080/",
     "height": 327,
     "referenced_widgets": [
      "3ee8f4a32dae40a2954869aa28d511af",
      "9bdbfed6aaa64648ac9624541a719134",
      "a7e31e6725a0417495bb5d8d9bb0eedb",
      "8a07bf3a83cf44b09ebec23372699dd4",
      "4da7f6dcecfc44928a784709a2f85c67",
      "85241944b82749bda4b5b6ff50f484b2",
      "b139c87d10be44229d2f65d356912c25",
      "b684374f8a3c41cb887142dd2c4a0c94",
      "325e5b7b95db4289b3ee1bd6dbfc4a6c",
      "987db9e4bab746ff9d393aa1409cf628",
      "dd5dcc8d0c424965ba5a329efbf725cc"
     ]
    },
    "id": "2bb8094b-01a0-4b84-9526-ba8888d04901",
    "outputId": "83769d2d-6f3b-4704-e443-cfc4ef52cc81"
   },
   "outputs": [
    {
     "name": "stderr",
     "output_type": "stream",
     "text": [
      "  0%|          | 0/3 [00:00<?, ?it/s]"
     ]
    },
    {
     "name": "stdout",
     "output_type": "stream",
     "text": [
      "Epoch: 0\n",
      "---------\n",
      "Train loss: 1.09199 | Train accuracy: 61.34%\n"
     ]
    },
    {
     "name": "stderr",
     "output_type": "stream",
     "text": [
      " 33%|███▎      | 1/3 [00:02<00:05,  2.78s/it]"
     ]
    },
    {
     "name": "stdout",
     "output_type": "stream",
     "text": [
      "Test loss: 0.95636 | Test accuracy: 65.00%\n",
      "\n",
      "Epoch: 1\n",
      "---------\n",
      "Train loss: 0.78101 | Train accuracy: 71.93%\n"
     ]
    },
    {
     "name": "stderr",
     "output_type": "stream",
     "text": [
      " 67%|██████▋   | 2/3 [00:05<00:02,  2.56s/it]"
     ]
    },
    {
     "name": "stdout",
     "output_type": "stream",
     "text": [
      "Test loss: 0.72227 | Test accuracy: 73.91%\n",
      "\n",
      "Epoch: 2\n",
      "---------\n",
      "Train loss: 0.67027 | Train accuracy: 75.94%\n"
     ]
    },
    {
     "name": "stderr",
     "output_type": "stream",
     "text": [
      "100%|██████████| 3/3 [00:08<00:00,  2.72s/it]"
     ]
    },
    {
     "name": "stdout",
     "output_type": "stream",
     "text": [
      "Test loss: 0.68500 | Test accuracy: 75.02%\n",
      "\n",
      "Train time on cpu: 8.149 seconds\n"
     ]
    },
    {
     "name": "stderr",
     "output_type": "stream",
     "text": [
      "\n"
     ]
    }
   ],
   "source": [
    "torch.manual_seed(42)\n",
    "\n",
    "# 计时\n",
    "from timeit import default_timer as timer\n",
    "train_time_start_on_gpu = timer()\n",
    "\n",
    "epochs = 3\n",
    "for epoch in tqdm(range(epochs)):\n",
    "    print(f\"Epoch: {epoch}\\n---------\")\n",
    "    # 训练步骤\n",
    "    train_step(data_loader=train_dataloader, \n",
    "               model=model_1, \n",
    "               loss_fn=loss_fn,\n",
    "               optimizer=optimizer,\n",
    "               accuracy_fn=accuracy_fn\n",
    "              )\n",
    "    # 测试步骤\n",
    "    test_step(data_loader=test_dataloader,\n",
    "              model=model_1,\n",
    "              loss_fn=loss_fn,\n",
    "              accuracy_fn=accuracy_fn\n",
    "             )\n",
    "\n",
    "train_time_end_on_gpu = timer()\n",
    "# 输出训练时间\n",
    "total_train_time_model_1 = print_train_time(start=train_time_start_on_gpu,\n",
    "                                            end=train_time_end_on_gpu,\n",
    "                                            device=device)"
   ]
  },
  {
   "cell_type": "markdown",
   "id": "719b8eb9-9a7f-42ed-a49f-5eedc6fdd720",
   "metadata": {
    "id": "719b8eb9-9a7f-42ed-a49f-5eedc6fdd720"
   },
   "source": [
    "我们的模型已经训练完成，但训练时间反而更长了？\n",
    "\n",
    "> **注意：** 在 CUDA 和 CPU 上的训练时间差异主要取决于你使用的 CPU/GPU 的性能。接下来将给出更详细的解释。\n",
    "\n",
    "> **问题：** “我用了 GPU，但我的模型训练并没有更快，为什么会这样？”\n",
    ">\n",
    "> **回答：** 其中一个原因可能是你的数据集和模型都太小（就像我们正在使用的数据集和模型），使用 GPU 的优势被数据传输所消耗的时间所抵消了。\n",
    "> \n",
    "> 从 CPU 内存（默认）到 GPU 内存的数据复制有一个小瓶颈。\n",
    ">\n",
    "> 所以对于较小的模型和数据集，CPU 可能实际上是更理想的计算平台。\n",
    ">\n",
    "> 但对于更大的数据集和模型，GPU 的计算速度通常远远超过了将数据传输过去所需的时间。\n",
    ">\n",
    "> 然而，这在很大程度上取决于你使用的硬件。通过实践，你将会更加熟悉在何种情况下使用哪个平台进行训练最为高效。\n",
    "\n",
    "接下来，让我们使用 `eval_model()` 函数评估训练好的 `model_1`，看看它的表现如何。"
   ]
  },
  {
   "cell_type": "code",
   "execution_count": 29,
   "id": "32a544e3-9dbe-4aa1-b074-22e28b8f2f2a",
   "metadata": {
    "colab": {
     "base_uri": "https://localhost:8080/",
     "height": 381
    },
    "id": "32a544e3-9dbe-4aa1-b074-22e28b8f2f2a",
    "outputId": "bab29648-1e35-4f01-9efe-fa4d2030cddb"
   },
   "outputs": [
    {
     "data": {
      "text/plain": [
       "{'model_name': 'FashionMNISTModelV1',\n",
       " 'model_loss': 0.6850008368492126,\n",
       " 'model_acc': 75.01996805111821}"
      ]
     },
     "execution_count": 29,
     "metadata": {},
     "output_type": "execute_result"
    }
   ],
   "source": [
    "torch.manual_seed(42)\n",
    "\n",
    "# 注意：由于 `eval_model()` 没有使用设备无关的代码，运行时会报错\n",
    "model_1_results = eval_model(model=model_1, \n",
    "    data_loader=test_dataloader,\n",
    "    loss_fn=loss_fn, \n",
    "    accuracy_fn=accuracy_fn) \n",
    "model_1_results"
   ]
  },
  {
   "cell_type": "markdown",
   "id": "6a3481a5-489d-4db9-ac95-c3ce385978b7",
   "metadata": {
    "id": "6a3481a5-489d-4db9-ac95-c3ce385978b7"
   },
   "source": [
    "看起来我们的 `eval_model()` 函数出现了错误：\n",
    "\n",
    "> `RuntimeError: Expected all tensors to be on the same device, but found at least two devices, cuda:0 and cpu! (when checking argument for argument mat1 in method wrapper_addmm)`\n",
    "\n",
    "这是因为我们设置了数据和模型使用设备无关的代码，但在我们的评估函数中没有这样做。\n",
    "\n",
    "我们来通过将目标 `device` 参数传递给 `eval_model()` 函数来修复这个问题吧！\n",
    "\n",
    "然后我们再试着计算结果。"
   ]
  },
  {
   "cell_type": "code",
   "execution_count": 30,
   "id": "f3665d99-1adc-4d9f-bfc6-e5601a80691c",
   "metadata": {
    "colab": {
     "base_uri": "https://localhost:8080/"
    },
    "id": "f3665d99-1adc-4d9f-bfc6-e5601a80691c",
    "outputId": "05312922-d30b-4c09-9989-963a4a579bf8"
   },
   "outputs": [
    {
     "data": {
      "text/plain": [
       "{'model_name': 'FashionMNISTModelV1',\n",
       " 'model_loss': 0.6850008368492126,\n",
       " 'model_acc': 75.01996805111821}"
      ]
     },
     "execution_count": 30,
     "metadata": {},
     "output_type": "execute_result"
    }
   ],
   "source": [
    "# 将数据移至目标设备\n",
    "torch.manual_seed(42)\n",
    "def eval_model(model: torch.nn.Module, \n",
    "               data_loader: torch.utils.data.DataLoader, \n",
    "               loss_fn: torch.nn.Module, \n",
    "               accuracy_fn, \n",
    "               device: torch.device = device):\n",
    "    \"\"\"评估给定模型在指定数据集上的表现\n",
    "\n",
    "    参数:\n",
    "        model (torch.nn.Module): 一个能够在 data_loader 上进行预测的 PyTorch 模型。\n",
    "        data_loader (torch.utils.data.DataLoader): 用于预测的目标数据集。\n",
    "        loss_fn (torch.nn.Module): 模型的损失函数。\n",
    "        accuracy_fn: 用于比较模型预测与真实标签的准确率函数。\n",
    "        device (str, optional): 计算的目标设备，默认为 device。\n",
    "\n",
    "    返回:\n",
    "        (dict): 模型在 data_loader 上进行预测的结果。\n",
    "    \"\"\"\n",
    "    loss, acc = 0, 0\n",
    "    model.eval()  # 设置模型为评估模式\n",
    "    with torch.inference_mode():  # 禁用梯度计算以加速推理\n",
    "        for X, y in data_loader:\n",
    "            # 将数据发送到目标设备\n",
    "            X, y = X.to(device), y.to(device)\n",
    "            y_pred = model(X)  # 进行预测\n",
    "            loss += loss_fn(y_pred, y)  # 计算损失\n",
    "            acc += accuracy_fn(y_true=y, y_pred=y_pred.argmax(dim=1))  # 计算准确率\n",
    "        \n",
    "        # 对损失和准确率进行平均\n",
    "        loss /= len(data_loader)\n",
    "        acc /= len(data_loader)\n",
    "    \n",
    "    return {\"model_name\": model.__class__.__name__, # 只有当模型是通过类创建时，才有效\n",
    "            \"model_loss\": loss.item(),  # 返回损失值\n",
    "            \"model_acc\": acc}  # 返回准确率\n",
    "\n",
    "# 使用设备无关的代码计算模型1的结果 \n",
    "model_1_results = eval_model(model=model_1, data_loader=test_dataloader,\n",
    "    loss_fn=loss_fn, accuracy_fn=accuracy_fn,\n",
    "    device=device\n",
    ")\n",
    "model_1_results"
   ]
  },
  {
   "cell_type": "code",
   "execution_count": 31,
   "id": "a9e916cf-f873-4481-a983-bac26ce4cac2",
   "metadata": {
    "colab": {
     "base_uri": "https://localhost:8080/"
    },
    "id": "a9e916cf-f873-4481-a983-bac26ce4cac2",
    "outputId": "5cdb9f7f-366c-4c14-9afa-f2d1d4e0267d"
   },
   "outputs": [
    {
     "data": {
      "text/plain": [
       "{'model_name': 'FashionMNISTModelV0',\n",
       " 'model_loss': 0.47663894295692444,\n",
       " 'model_acc': 83.42651757188499}"
      ]
     },
     "execution_count": 31,
     "metadata": {},
     "output_type": "execute_result"
    }
   ],
   "source": [
    "# 检查基准结果\n",
    "model_0_results"
   ]
  },
  {
   "cell_type": "markdown",
   "id": "340cbf14-e83f-4981-8a93-5fedb6b51418",
   "metadata": {
    "id": "340cbf14-e83f-4981-8a93-5fedb6b51418"
   },
   "source": [
    "在这种情况下，似乎给我们的模型添加非线性因素让它的表现比基准模型更差了。\n",
    "\n",
    "这是机器学习中需要注意的一点，有时你认为应该有效的东西并不一定有效。\n",
    "\n",
    "而你认为可能不行的东西却可能有效。\n",
    "\n",
    "这既是科学，也是艺术。\n",
    "\n",
    "从目前的情况来看，似乎我们的模型在训练数据上**过拟合**了。\n",
    "\n",
    "过拟合意味着我们的模型在训练数据上学得很好，但这些模式并没有泛化到测试数据上。\n",
    "\n",
    "修正过拟合的两种主要方法包括：\n",
    "1. 使用更小或不同的模型（有些模型比其他模型更适合某些类型的数据）。\n",
    "2. 使用更大的数据集（数据越多，模型学习到可泛化模式的机会就越大）。\n",
    "\n",
    "还有更多方法，但我将把这个作为一个挑战留给你去探索。\n",
    "\n",
    "试着在网上搜索“如何防止机器学习中的过拟合”，看看能找到什么。\n",
    "\n",
    "与此同时，我们来看看第一种方法：使用不同的模型。\n"
   ]
  },
  {
   "cell_type": "markdown",
   "id": "ac22d685-1b8d-4215-90de-c0476cb0fbdf",
   "metadata": {
    "id": "ac22d685-1b8d-4215-90de-c0476cb0fbdf"
   },
   "source": [
    "## 7. 模型 2：构建卷积神经网络（CNN）\n",
    "\n",
    "好了，接下来我们要提升一下难度。\n",
    "\n",
    "是时候创建一个[卷积神经网络](https://en.wikipedia.org/wiki/Convolutional_neural_network)（CNN 或 ConvNet）了。\n",
    "\n",
    "卷积神经网络因其在视觉数据中寻找模式的能力而闻名。\n",
    "\n",
    "既然我们正在处理视觉数据，让我们看看使用CNN模型是否能在基准模型的基础上有所改进。\n",
    "\n",
    "我们将使用的CNN模型叫做TinyVGG，来自[CNN Explainer](https://poloclub.github.io/cnn-explainer/)网站。\n",
    "\n",
    "它遵循卷积神经网络的典型结构：\n",
    "\n",
    "`输入层 -> [卷积层 -> 激活层 -> 池化层] -> 输出层`\n",
    "\n",
    "其中`[卷积层 -> 激活层 -> 池化层]`的内容可以根据需求进行放大并重复多次。"
   ]
  },
  {
   "cell_type": "markdown",
   "id": "9c358955-1d20-4903-b872-a239d2753d88",
   "metadata": {
    "id": "9c358955-1d20-4903-b872-a239d2753d88"
   },
   "source": [
    "### 我应该使用什么模型？\n",
    "\n",
    "> **问题：** 等等，你说CNN适合处理图像，那还有其他我应该了解的模型类型吗？\n",
    "\n",
    "好问题。\n",
    "\n",
    "这个表格是一个很好的通用指南，帮助你选择应该使用的模型（当然也有例外情况）。\n",
    "\n",
    "| **问题类型** | **通常使用的模型** | **代码示例** |\n",
    "| ----- | ----- | ----- |\n",
    "| 结构化数据（Excel表格，行列数据） | 梯度提升模型，随机森林，XGBoost | [`sklearn.ensemble`](https://scikit-learn.org/stable/modules/classes.html#module-sklearn.ensemble)，[XGBoost库](https://xgboost.readthedocs.io/en/stable/) |\n",
    "| 非结构化数据（图像，音频，语言） | 卷积神经网络，Transformer模型 | [`torchvision.models`](https://pytorch.org/vision/stable/models.html)，[HuggingFace Transformers](https://huggingface.co/docs/transformers/index) |\n",
    "\n",
    "> **注意：** 上表仅供参考，最终使用的模型将高度依赖于你正在处理的问题和你面临的限制（如数据量、延迟要求等）。\n",
    "\n",
    "说了这么多关于模型的内容，现在我们来构建一个CNN，复现[CNN Explainer网站](https://poloclub.github.io/cnn-explainer/)上的模型。\n",
    "\n",
    "![TinyVGG架构，按照CNN Explainer网站的设置](https://raw.githubusercontent.com/mrdbourke/pytorch-deep-learning/main/images/03-cnn-explainer-model.png)\n",
    "\n",
    "为了实现这一点，我们将利用`torch.nn`中的[`nn.Conv2d()`](https://pytorch.org/docs/stable/generated/torch.nn.Conv2d.html)和[`nn.MaxPool2d()`](https://pytorch.org/docs/stable/generated/torch.nn.MaxPool2d.html)层。"
   ]
  },
  {
   "cell_type": "code",
   "execution_count": 32,
   "id": "dce60214-63fd-46e2-89ba-125445ac76b7",
   "metadata": {
    "colab": {
     "base_uri": "https://localhost:8080/"
    },
    "id": "dce60214-63fd-46e2-89ba-125445ac76b7",
    "outputId": "5ae97191-bb41-4e58-e7f1-914b612cbb60"
   },
   "outputs": [
    {
     "data": {
      "text/plain": [
       "FashionMNISTModelV2(\n",
       "  (block_1): Sequential(\n",
       "    (0): Conv2d(1, 10, kernel_size=(3, 3), stride=(1, 1), padding=(1, 1))\n",
       "    (1): ReLU()\n",
       "    (2): Conv2d(10, 10, kernel_size=(3, 3), stride=(1, 1), padding=(1, 1))\n",
       "    (3): ReLU()\n",
       "    (4): MaxPool2d(kernel_size=2, stride=2, padding=0, dilation=1, ceil_mode=False)\n",
       "  )\n",
       "  (block_2): Sequential(\n",
       "    (0): Conv2d(10, 10, kernel_size=(3, 3), stride=(1, 1), padding=(1, 1))\n",
       "    (1): ReLU()\n",
       "    (2): Conv2d(10, 10, kernel_size=(3, 3), stride=(1, 1), padding=(1, 1))\n",
       "    (3): ReLU()\n",
       "    (4): MaxPool2d(kernel_size=2, stride=2, padding=0, dilation=1, ceil_mode=False)\n",
       "  )\n",
       "  (classifier): Sequential(\n",
       "    (0): Flatten(start_dim=1, end_dim=-1)\n",
       "    (1): Linear(in_features=490, out_features=10, bias=True)\n",
       "  )\n",
       ")"
      ]
     },
     "execution_count": 32,
     "metadata": {},
     "output_type": "execute_result"
    }
   ],
   "source": [
    "# 创建一个卷积神经网络\n",
    "class FashionMNISTModelV2(nn.Module):\n",
    "    \"\"\"\n",
    "    模型架构复制自 TinyVGG，来源: \n",
    "    https://poloclub.github.io/cnn-explainer/\n",
    "    \"\"\"\n",
    "    def __init__(self, input_shape: int, hidden_units: int, output_shape: int):\n",
    "        super().__init__()\n",
    "        self.block_1 = nn.Sequential(\n",
    "            nn.Conv2d(in_channels=input_shape, \n",
    "                      out_channels=hidden_units, \n",
    "                      kernel_size=3, # 卷积核大小，即覆盖图像的方形区域的尺寸\n",
    "                      stride=1, # 默认步幅\n",
    "                      padding=1), # 填充选项：\"valid\"（不填充）或\"same\"（输出与输入形状相同）或指定具体的数字\n",
    "            nn.ReLU(),\n",
    "            nn.Conv2d(in_channels=hidden_units, \n",
    "                      out_channels=hidden_units,\n",
    "                      kernel_size=3,\n",
    "                      stride=1,\n",
    "                      padding=1),\n",
    "            nn.ReLU(),\n",
    "            nn.MaxPool2d(kernel_size=2,\n",
    "                         stride=2) # 默认步幅值与卷积核大小相同\n",
    "        )\n",
    "        self.block_2 = nn.Sequential(\n",
    "            nn.Conv2d(hidden_units, hidden_units, 3, padding=1),\n",
    "            nn.ReLU(),\n",
    "            nn.Conv2d(hidden_units, hidden_units, 3, padding=1),\n",
    "            nn.ReLU(),\n",
    "            nn.MaxPool2d(2)\n",
    "        )\n",
    "        self.classifier = nn.Sequential(\n",
    "            nn.Flatten(),\n",
    "            # 这个in_features的形状是怎么来的？\n",
    "            # 它是因为每一层网络都会压缩并改变输入数据的形状。\n",
    "            nn.Linear(in_features=hidden_units*7*7, \n",
    "                      out_features=output_shape)\n",
    "        )\n",
    "    \n",
    "    def forward(self, x: torch.Tensor):\n",
    "        x = self.block_1(x)\n",
    "        # print(x.shape)\n",
    "        x = self.block_2(x)\n",
    "        # print(x.shape)\n",
    "        x = self.classifier(x)\n",
    "        # print(x.shape)\n",
    "        return x\n",
    "\n",
    "torch.manual_seed(42)\n",
    "model_2 = FashionMNISTModelV2(input_shape=1, \n",
    "    hidden_units=10, \n",
    "    output_shape=len(class_names)).to(device)\n",
    "model_2"
   ]
  },
  {
   "cell_type": "markdown",
   "id": "0a20f25e-cc16-4f85-a69b-62008c01d0ed",
   "metadata": {
    "id": "0a20f25e-cc16-4f85-a69b-62008c01d0ed"
   },
   "source": [
    "这是我们迄今为止最大的模型！\n",
    "\n",
    "我们所做的事是机器学习中的一种常见做法。\n",
    "\n",
    "找到一个模型架构，然后用代码将其复现。"
   ]
  },
  {
   "cell_type": "markdown",
   "id": "6478cc5a-7b33-425d-9ab3-6d40168a1aee",
   "metadata": {
    "id": "6478cc5a-7b33-425d-9ab3-6d40168a1aee"
   },
   "source": [
    "### 7.1 步骤解析 `nn.Conv2d()`\n",
    "\n",
    "我们可以直接使用上面的模型看看结果，但让我们先一步一步解析我们新增的两个层：\n",
    "* [`nn.Conv2d()`](https://pytorch.org/docs/stable/generated/torch.nn.Conv2d.html)，也称为卷积层。\n",
    "* [`nn.MaxPool2d()`](https://pytorch.org/docs/stable/generated/torch.nn.MaxPool2d.html)，也称为最大池化层。\n",
    "\n",
    "> **问题：** `nn.Conv2d()` 中的 \"2d\" 代表什么？\n",
    ">\n",
    "> 2d 代表二维数据。也就是说，我们的图像有两个维度：高度和宽度。是的，还有颜色通道维度，但每个颜色通道维度也有两个维度：高度和宽度。\n",
    ">\n",
    "> 对于其他维度的数据（例如文本的1D或三维物体的3D），也有 `nn.Conv1d()` 和 `nn.Conv3d()`。\n",
    "\n",
    "为了测试这些层，我们将创建一些类似于CNN Explainer中使用的玩具数据。"
   ]
  },
  {
   "cell_type": "code",
   "execution_count": 33,
   "id": "058b01ac-3f6a-4472-bcbf-3377974e3254",
   "metadata": {
    "colab": {
     "base_uri": "https://localhost:8080/"
    },
    "id": "058b01ac-3f6a-4472-bcbf-3377974e3254",
    "outputId": "c404a8dd-d804-4993-bc2b-e4fdbf02b62d"
   },
   "outputs": [
    {
     "name": "stdout",
     "output_type": "stream",
     "text": [
      "Image batch shape: torch.Size([32, 3, 64, 64]) -> [batch_size, color_channels, height, width]\n",
      "Single image shape: torch.Size([3, 64, 64]) -> [color_channels, height, width]\n",
      "Single image pixel values:\n",
      "tensor([[[ 1.9269,  1.4873,  0.9007,  ...,  1.8446, -1.1845,  1.3835],\n",
      "         [ 1.4451,  0.8564,  2.2181,  ...,  0.3399,  0.7200,  0.4114],\n",
      "         [ 1.9312,  1.0119, -1.4364,  ..., -0.5558,  0.7043,  0.7099],\n",
      "         ...,\n",
      "         [-0.5610, -0.4830,  0.4770,  ..., -0.2713, -0.9537, -0.6737],\n",
      "         [ 0.3076, -0.1277,  0.0366,  ..., -2.0060,  0.2824, -0.8111],\n",
      "         [-1.5486,  0.0485, -0.7712,  ..., -0.1403,  0.9416, -0.0118]],\n",
      "\n",
      "        [[-0.5197,  1.8524,  1.8365,  ...,  0.8935, -1.5114, -0.8515],\n",
      "         [ 2.0818,  1.0677, -1.4277,  ...,  1.6612, -2.6223, -0.4319],\n",
      "         [-0.1010, -0.4388, -1.9775,  ...,  0.2106,  0.2536, -0.7318],\n",
      "         ...,\n",
      "         [ 0.2779,  0.7342, -0.3736,  ..., -0.4601,  0.1815,  0.1850],\n",
      "         [ 0.7205, -0.2833,  0.0937,  ..., -0.1002, -2.3609,  2.2465],\n",
      "         [-1.3242, -0.1973,  0.2920,  ...,  0.5409,  0.6940,  1.8563]],\n",
      "\n",
      "        [[-0.7978,  1.0261,  1.1465,  ...,  1.2134,  0.9354, -0.0780],\n",
      "         [-1.4647, -1.9571,  0.1017,  ..., -1.9986, -0.7409,  0.7011],\n",
      "         [-1.3938,  0.8466, -1.7191,  ..., -1.1867,  0.1320,  0.3407],\n",
      "         ...,\n",
      "         [ 0.8206, -0.3745,  1.2499,  ..., -0.0676,  0.0385,  0.6335],\n",
      "         [-0.5589, -0.3393,  0.2347,  ...,  2.1181,  2.4569,  1.3083],\n",
      "         [-0.4092,  1.5199,  0.2401,  ..., -0.2558,  0.7870,  0.9924]]])\n"
     ]
    }
   ],
   "source": [
    "torch.manual_seed(42)\n",
    "\n",
    "# 创建一个与图像批次大小相同的随机数样本批次\n",
    "images = torch.randn(size=(32, 3, 64, 64)) # [批次大小, 颜色通道数, 高度, 宽度]\n",
    "test_image = images[0] # 获取单张图像用于测试\n",
    "print(f\"Image batch shape: {images.shape} -> [batch_size, color_channels, height, width]\")\n",
    "print(f\"Single image shape: {test_image.shape} -> [color_channels, height, width]\") \n",
    "print(f\"Single image pixel values:\\n{test_image}\")"
   ]
  },
  {
   "cell_type": "markdown",
   "id": "bd3291c2-854e-4d0c-97b9-8bf46085fc43",
   "metadata": {
    "id": "bd3291c2-854e-4d0c-97b9-8bf46085fc43"
   },
   "source": [
    "让我们创建一个带有各种参数的 `nn.Conv2d()` 示例：\n",
    "* `in_channels`（int） - 输入图像的通道数。\n",
    "* `out_channels`（int） - 卷积操作产生的通道数。\n",
    "* `kernel_size`（int 或 tuple） - 卷积核/滤波器的大小。\n",
    "* `stride`（int 或 tuple，可选） - 卷积核每次滑动的步幅大小。默认值：1。\n",
    "* `padding`（int, tuple, str） - 添加到输入四个边的填充。默认值：0。\n",
    "\n",
    "![展示 `Conv2d` 层不同参数的示例](https://raw.githubusercontent.com/mrdbourke/pytorch-deep-learning/main/images/03-conv2d-layer.gif)\n",
    "\n",
    "*展示当你更改 `nn.Conv2d()` 层的超参数时会发生什么。*"
   ]
  },
  {
   "cell_type": "code",
   "execution_count": 34,
   "id": "ebd39562-1dad-40e3-90f5-750a5dac24e2",
   "metadata": {
    "colab": {
     "base_uri": "https://localhost:8080/"
    },
    "id": "ebd39562-1dad-40e3-90f5-750a5dac24e2",
    "outputId": "b61154fb-c5f7-4c3f-c619-4bde6edb4d16"
   },
   "outputs": [
    {
     "data": {
      "text/plain": [
       "tensor([[[ 1.5396,  0.0516,  0.6454,  ..., -0.3673,  0.8711,  0.4256],\n",
       "         [ 0.3662,  1.0114, -0.5997,  ...,  0.8983,  0.2809, -0.2741],\n",
       "         [ 1.2664, -1.4054,  0.3727,  ..., -0.3409,  1.2191, -0.0463],\n",
       "         ...,\n",
       "         [-0.1541,  0.5132, -0.3624,  ..., -0.2360, -0.4609, -0.0035],\n",
       "         [ 0.2981, -0.2432,  1.5012,  ..., -0.6289, -0.7283, -0.5767],\n",
       "         [-0.0386, -0.0781, -0.0388,  ...,  0.2842,  0.4228, -0.1802]],\n",
       "\n",
       "        [[-0.2840, -0.0319, -0.4455,  ..., -0.7956,  1.5599, -1.2449],\n",
       "         [ 0.2753, -0.1262, -0.6541,  ..., -0.2211,  0.1999, -0.8856],\n",
       "         [-0.5404, -1.5489,  0.0249,  ..., -0.5932, -1.0913, -0.3849],\n",
       "         ...,\n",
       "         [ 0.3870, -0.4064, -0.8236,  ...,  0.1734, -0.4330, -0.4951],\n",
       "         [-0.1984, -0.6386,  1.0263,  ..., -0.9401, -0.0585, -0.7833],\n",
       "         [-0.6306, -0.2052, -0.3694,  ..., -1.3248,  0.2456, -0.7134]],\n",
       "\n",
       "        [[ 0.4414,  0.5100,  0.4846,  ..., -0.8484,  0.2638,  1.1258],\n",
       "         [ 0.8117,  0.3191, -0.0157,  ...,  1.2686,  0.2319,  0.5003],\n",
       "         [ 0.3212,  0.0485, -0.2581,  ...,  0.2258,  0.2587, -0.8804],\n",
       "         ...,\n",
       "         [-0.1144, -0.1869,  0.0160,  ..., -0.8346,  0.0974,  0.8421],\n",
       "         [ 0.2941,  0.4417,  0.5866,  ..., -0.1224,  0.4814, -0.4799],\n",
       "         [ 0.6059, -0.0415, -0.2028,  ...,  0.1170,  0.2521, -0.4372]],\n",
       "\n",
       "        ...,\n",
       "\n",
       "        [[-0.2560, -0.0477,  0.6380,  ...,  0.6436,  0.7553, -0.7055],\n",
       "         [ 1.5595, -0.2209, -0.9486,  ..., -0.4876,  0.7754,  0.0750],\n",
       "         [-0.0797,  0.2471,  1.1300,  ...,  0.1505,  0.2354,  0.9576],\n",
       "         ...,\n",
       "         [ 1.1065,  0.6839,  1.2183,  ...,  0.3015, -0.1910, -0.1902],\n",
       "         [-0.3486, -0.7173, -0.3582,  ...,  0.4917,  0.7219,  0.1513],\n",
       "         [ 0.0119,  0.1017,  0.7839,  ..., -0.3752, -0.8127, -0.1257]],\n",
       "\n",
       "        [[ 0.3841,  1.1322,  0.1620,  ...,  0.7010,  0.0109,  0.6058],\n",
       "         [ 0.1664,  0.1873,  1.5924,  ...,  0.3733,  0.9096, -0.5399],\n",
       "         [ 0.4094, -0.0861, -0.7935,  ..., -0.1285, -0.9932, -0.3013],\n",
       "         ...,\n",
       "         [ 0.2688, -0.5630, -1.1902,  ...,  0.4493,  0.5404, -0.0103],\n",
       "         [ 0.0535,  0.4411,  0.5313,  ...,  0.0148, -1.0056,  0.3759],\n",
       "         [ 0.3031, -0.1590, -0.1316,  ..., -0.5384, -0.4271, -0.4876]],\n",
       "\n",
       "        [[-1.1865, -0.7280, -1.2331,  ..., -0.9013, -0.0542, -1.5949],\n",
       "         [-0.6345, -0.5920,  0.5326,  ..., -1.0395, -0.7963, -0.0647],\n",
       "         [-0.1132,  0.5166,  0.2569,  ...,  0.5595, -1.6881,  0.9485],\n",
       "         ...,\n",
       "         [-0.0254, -0.2669,  0.1927,  ..., -0.2917,  0.1088, -0.4807],\n",
       "         [-0.2609, -0.2328,  0.1404,  ..., -0.1325, -0.8436, -0.7524],\n",
       "         [-1.1399, -0.1751, -0.8705,  ...,  0.1589,  0.3377,  0.3493]]],\n",
       "       grad_fn=<SqueezeBackward1>)"
      ]
     },
     "execution_count": 34,
     "metadata": {},
     "output_type": "execute_result"
    }
   ],
   "source": [
    "torch.manual_seed(42)\n",
    "\n",
    "# 创建一个与TinyVGG具有相同维度的卷积层\n",
    "# （尝试更改任意参数，看看会发生什么）\n",
    "conv_layer = nn.Conv2d(in_channels=3,\n",
    "                       out_channels=10,\n",
    "                       kernel_size=3,\n",
    "                       stride=1,\n",
    "                       padding=0) # 也可以尝试使用\"valid\"或\"same\"作为padding选项\n",
    "\n",
    "# 将数据通过卷积层\n",
    "conv_layer(test_image) # 注意：如果运行的是 PyTorch <1.11.0，可能会因为形状问题出错（nn.Conv2d() 期望输入是一个4维张量）"
   ]
  },
  {
   "cell_type": "markdown",
   "id": "cb0184ad-5c16-4e1c-bcfa-70ecf15377da",
   "metadata": {
    "id": "cb0184ad-5c16-4e1c-bcfa-70ecf15377da"
   },
   "source": [
    "如果我们尝试传入单张图像，就会遇到形状不匹配的错误：\n",
    "\n",
    "> `RuntimeError: Expected 4-dimensional input for 4-dimensional weight [10, 3, 3, 3], but got 3-dimensional input of size [3, 64, 64] instead`\n",
    ">\n",
    "> **注意：** 如果你使用的是 PyTorch 1.11.0 或更高版本，这个错误不会发生。\n",
    "\n",
    "这是因为我们的 `nn.Conv2d()` 层期望输入是一个4维张量，形状为 `(N, C, H, W)` 或 `[批次大小, 颜色通道数, 高度, 宽度]`。\n",
    "\n",
    "而我们当前的单张图像 `test_image` 只有 `[颜色通道数, 高度, 宽度]` 的形状，即 `[3, 64, 64]`。\n",
    "\n",
    "我们可以通过 `test_image.unsqueeze(dim=0)` 为 `N` 添加一个额外的维度，从而解决这个问题。"
   ]
  },
  {
   "cell_type": "code",
   "execution_count": 35,
   "id": "abba741d-a1ed-44ed-ba53-41d589433a2c",
   "metadata": {
    "colab": {
     "base_uri": "https://localhost:8080/"
    },
    "id": "abba741d-a1ed-44ed-ba53-41d589433a2c",
    "outputId": "9dd8151d-376c-4342-c379-91fcb6468706"
   },
   "outputs": [
    {
     "data": {
      "text/plain": [
       "torch.Size([1, 3, 64, 64])"
      ]
     },
     "execution_count": 35,
     "metadata": {},
     "output_type": "execute_result"
    }
   ],
   "source": [
    "# 为测试图像添加额外的维度\n",
    "test_image.unsqueeze(dim=0).shape"
   ]
  },
  {
   "cell_type": "code",
   "execution_count": 36,
   "id": "c7280a49-4ee0-452b-a514-61115b6a444c",
   "metadata": {
    "colab": {
     "base_uri": "https://localhost:8080/"
    },
    "id": "c7280a49-4ee0-452b-a514-61115b6a444c",
    "outputId": "87bf7e37-c1a7-44a4-eef2-a02eb0489147"
   },
   "outputs": [
    {
     "data": {
      "text/plain": [
       "torch.Size([1, 10, 62, 62])"
      ]
     },
     "execution_count": 36,
     "metadata": {},
     "output_type": "execute_result"
    }
   ],
   "source": [
    "# 将添加了额外维度的测试图像通过卷积层\n",
    "conv_layer(test_image.unsqueeze(dim=0)).shape"
   ]
  },
  {
   "cell_type": "markdown",
   "id": "181df81b-7c5a-46cc-b8d5-a592bf755a13",
   "metadata": {
    "id": "181df81b-7c5a-46cc-b8d5-a592bf755a13"
   },
   "source": [
    "嗯，注意一下我们的形状发生了什么变化（这与 [CNN Explainer](https://poloclub.github.io/cnn-explainer/) 上的 TinyVGG 第一层的形状相同），我们得到了不同的通道大小以及不同的像素大小。\n",
    "\n",
    "如果我们更改 `conv_layer` 的值会怎样呢？"
   ]
  },
  {
   "cell_type": "code",
   "execution_count": 37,
   "id": "04445d45-cf2f-4c1d-b215-bc50865a207a",
   "metadata": {
    "colab": {
     "base_uri": "https://localhost:8080/"
    },
    "id": "04445d45-cf2f-4c1d-b215-bc50865a207a",
    "outputId": "eaa97fb8-52c0-493d-eac3-f2e23df9b01c"
   },
   "outputs": [
    {
     "data": {
      "text/plain": [
       "torch.Size([1, 10, 30, 30])"
      ]
     },
     "execution_count": 37,
     "metadata": {},
     "output_type": "execute_result"
    }
   ],
   "source": [
    "torch.manual_seed(42)\n",
    "# 创建一个具有不同值的新卷积层（尝试将这些设置为你喜欢的值）\n",
    "conv_layer_2 = nn.Conv2d(in_channels=3, # 与输入图像相同的颜色通道数\n",
    "                         out_channels=10,\n",
    "                         kernel_size=(5, 5), # 卷积核通常是正方形的，因此使用元组也可以\n",
    "                         stride=2,\n",
    "                         padding=0)\n",
    "\n",
    "# 将单张图像通过新的卷积层conv_layer_2（这会调用nn.Conv2d()的forward()方法）\n",
    "conv_layer_2(test_image.unsqueeze(dim=0)).shape"
   ]
  },
  {
   "cell_type": "markdown",
   "id": "b27dbdbb-3e32-4ffa-803e-cf943d96c72b",
   "metadata": {
    "id": "b27dbdbb-3e32-4ffa-803e-cf943d96c72b"
   },
   "source": [
    "哇，我们又得到了一个形状的变化。\n",
    "\n",
    "现在我们的图像形状是 `[1, 10, 30, 30]`（如果使用不同的值，形状会有所不同），也就是 `[批次大小=1, 颜色通道数=10, 高度=30, 宽度=30]`。\n",
    "\n",
    "发生了什么呢？\n",
    "\n",
    "在幕后，我们的 `nn.Conv2d()` 正在压缩图像中存储的信息。\n",
    "\n",
    "它通过对输入（我们的测试图像）执行操作，并与其内部参数进行对比来实现这一点。\n",
    "\n",
    "这样做的目标与我们之前构建的所有其他神经网络类似。\n",
    "\n",
    "数据输入，层会尝试通过优化器的帮助更新其内部参数（模式），以减少损失函数。\n",
    "\n",
    "唯一的区别是*如何*计算不同层的参数更新，或者用 PyTorch 术语来说，就是层的 `forward()` 方法中存在的操作。\n",
    "\n",
    "如果我们查看 `conv_layer_2.state_dict()`，我们会发现一个类似的权重和偏置设置，正如我们之前看到的那样。"
   ]
  },
  {
   "cell_type": "code",
   "execution_count": 38,
   "id": "46027ed1-c3a7-46bd-bab7-17f8c20e354b",
   "metadata": {
    "colab": {
     "base_uri": "https://localhost:8080/"
    },
    "id": "46027ed1-c3a7-46bd-bab7-17f8c20e354b",
    "outputId": "bc493b18-1ef3-41c6-9de9-5dfeaa4c259e"
   },
   "outputs": [
    {
     "name": "stdout",
     "output_type": "stream",
     "text": [
      "OrderedDict({'weight': tensor([[[[ 0.0883,  0.0958, -0.0271,  0.1061, -0.0253],\n",
      "          [ 0.0233, -0.0562,  0.0678,  0.1018, -0.0847],\n",
      "          [ 0.1004,  0.0216,  0.0853,  0.0156,  0.0557],\n",
      "          [-0.0163,  0.0890,  0.0171, -0.0539,  0.0294],\n",
      "          [-0.0532, -0.0135, -0.0469,  0.0766, -0.0911]],\n",
      "\n",
      "         [[-0.0532, -0.0326, -0.0694,  0.0109, -0.1140],\n",
      "          [ 0.1043, -0.0981,  0.0891,  0.0192, -0.0375],\n",
      "          [ 0.0714,  0.0180,  0.0933,  0.0126, -0.0364],\n",
      "          [ 0.0310, -0.0313,  0.0486,  0.1031,  0.0667],\n",
      "          [-0.0505,  0.0667,  0.0207,  0.0586, -0.0704]],\n",
      "\n",
      "         [[-0.1143, -0.0446, -0.0886,  0.0947,  0.0333],\n",
      "          [ 0.0478,  0.0365, -0.0020,  0.0904, -0.0820],\n",
      "          [ 0.0073, -0.0788,  0.0356, -0.0398,  0.0354],\n",
      "          [-0.0241,  0.0958, -0.0684, -0.0689, -0.0689],\n",
      "          [ 0.1039,  0.0385,  0.1111, -0.0953, -0.1145]]],\n",
      "\n",
      "\n",
      "        [[[-0.0903, -0.0777,  0.0468,  0.0413,  0.0959],\n",
      "          [-0.0596, -0.0787,  0.0613, -0.0467,  0.0701],\n",
      "          [-0.0274,  0.0661, -0.0897, -0.0583,  0.0352],\n",
      "          [ 0.0244, -0.0294,  0.0688,  0.0785, -0.0837],\n",
      "          [-0.0616,  0.1057, -0.0390, -0.0409, -0.1117]],\n",
      "\n",
      "         [[-0.0661,  0.0288, -0.0152, -0.0838,  0.0027],\n",
      "          [-0.0789, -0.0980, -0.0636, -0.1011, -0.0735],\n",
      "          [ 0.1154,  0.0218,  0.0356, -0.1077, -0.0758],\n",
      "          [-0.0384,  0.0181, -0.1016, -0.0498, -0.0691],\n",
      "          [ 0.0003, -0.0430, -0.0080, -0.0782, -0.0793]],\n",
      "\n",
      "         [[-0.0674, -0.0395, -0.0911,  0.0968, -0.0229],\n",
      "          [ 0.0994,  0.0360, -0.0978,  0.0799, -0.0318],\n",
      "          [-0.0443, -0.0958, -0.1148,  0.0330, -0.0252],\n",
      "          [ 0.0450, -0.0948,  0.0857, -0.0848, -0.0199],\n",
      "          [ 0.0241,  0.0596,  0.0932,  0.1052, -0.0916]]],\n",
      "\n",
      "\n",
      "        [[[ 0.0291, -0.0497, -0.0127, -0.0864,  0.1052],\n",
      "          [-0.0847,  0.0617,  0.0406,  0.0375, -0.0624],\n",
      "          [ 0.1050,  0.0254,  0.0149, -0.1018,  0.0485],\n",
      "          [-0.0173, -0.0529,  0.0992,  0.0257, -0.0639],\n",
      "          [-0.0584, -0.0055,  0.0645, -0.0295, -0.0659]],\n",
      "\n",
      "         [[-0.0395, -0.0863,  0.0412,  0.0894, -0.1087],\n",
      "          [ 0.0268,  0.0597,  0.0209, -0.0411,  0.0603],\n",
      "          [ 0.0607,  0.0432, -0.0203, -0.0306,  0.0124],\n",
      "          [-0.0204, -0.0344,  0.0738,  0.0992, -0.0114],\n",
      "          [-0.0259,  0.0017, -0.0069,  0.0278,  0.0324]],\n",
      "\n",
      "         [[-0.1049, -0.0426,  0.0972,  0.0450, -0.0057],\n",
      "          [-0.0696, -0.0706, -0.1034, -0.0376,  0.0390],\n",
      "          [ 0.0736,  0.0533, -0.1021, -0.0694, -0.0182],\n",
      "          [ 0.1117,  0.0167, -0.0299,  0.0478, -0.0440],\n",
      "          [-0.0747,  0.0843, -0.0525, -0.0231, -0.1149]]],\n",
      "\n",
      "\n",
      "        [[[ 0.0773,  0.0875,  0.0421, -0.0805, -0.1140],\n",
      "          [-0.0938,  0.0861,  0.0554,  0.0972,  0.0605],\n",
      "          [ 0.0292, -0.0011, -0.0878, -0.0989, -0.1080],\n",
      "          [ 0.0473, -0.0567, -0.0232, -0.0665, -0.0210],\n",
      "          [-0.0813, -0.0754,  0.0383, -0.0343,  0.0713]],\n",
      "\n",
      "         [[-0.0370, -0.0847, -0.0204, -0.0560, -0.0353],\n",
      "          [-0.1099,  0.0646, -0.0804,  0.0580,  0.0524],\n",
      "          [ 0.0825, -0.0886,  0.0830, -0.0546,  0.0428],\n",
      "          [ 0.1084, -0.0163, -0.0009, -0.0266, -0.0964],\n",
      "          [ 0.0554, -0.1146,  0.0717,  0.0864,  0.1092]],\n",
      "\n",
      "         [[-0.0272, -0.0949,  0.0260,  0.0638, -0.1149],\n",
      "          [-0.0262, -0.0692, -0.0101, -0.0568, -0.0472],\n",
      "          [-0.0367, -0.1097,  0.0947,  0.0968, -0.0181],\n",
      "          [-0.0131, -0.0471, -0.1043, -0.1124,  0.0429],\n",
      "          [-0.0634, -0.0742, -0.0090, -0.0385, -0.0374]]],\n",
      "\n",
      "\n",
      "        [[[ 0.0037, -0.0245, -0.0398, -0.0553, -0.0940],\n",
      "          [ 0.0968, -0.0462,  0.0306, -0.0401,  0.0094],\n",
      "          [ 0.1077,  0.0532, -0.1001,  0.0458,  0.1096],\n",
      "          [ 0.0304,  0.0774,  0.1138, -0.0177,  0.0240],\n",
      "          [-0.0803, -0.0238,  0.0855,  0.0592, -0.0731]],\n",
      "\n",
      "         [[-0.0926, -0.0789, -0.1140, -0.0891, -0.0286],\n",
      "          [ 0.0779,  0.0193, -0.0878, -0.0926,  0.0574],\n",
      "          [-0.0859, -0.0142,  0.0554, -0.0534, -0.0126],\n",
      "          [-0.0101, -0.0273, -0.0585, -0.1029, -0.0933],\n",
      "          [-0.0618,  0.1115, -0.0558, -0.0775,  0.0280]],\n",
      "\n",
      "         [[ 0.0318,  0.0633,  0.0878,  0.0643, -0.1145],\n",
      "          [ 0.0102,  0.0699, -0.0107, -0.0680,  0.1101],\n",
      "          [-0.0432, -0.0657, -0.1041,  0.0052,  0.0512],\n",
      "          [ 0.0256,  0.0228, -0.0876, -0.1078,  0.0020],\n",
      "          [ 0.1053,  0.0666, -0.0672, -0.0150, -0.0851]]],\n",
      "\n",
      "\n",
      "        [[[-0.0557,  0.0209,  0.0629,  0.0957, -0.1060],\n",
      "          [ 0.0772, -0.0814,  0.0432,  0.0977,  0.0016],\n",
      "          [ 0.1051, -0.0984, -0.0441,  0.0673, -0.0252],\n",
      "          [-0.0236, -0.0481,  0.0796,  0.0566,  0.0370],\n",
      "          [-0.0649, -0.0937,  0.0125,  0.0342, -0.0533]],\n",
      "\n",
      "         [[-0.0323,  0.0780,  0.0092,  0.0052, -0.0284],\n",
      "          [-0.1046, -0.1086, -0.0552, -0.0587,  0.0360],\n",
      "          [-0.0336, -0.0452,  0.1101,  0.0402,  0.0823],\n",
      "          [-0.0559, -0.0472,  0.0424, -0.0769, -0.0755],\n",
      "          [-0.0056, -0.0422, -0.0866,  0.0685,  0.0929]],\n",
      "\n",
      "         [[ 0.0187, -0.0201, -0.1070, -0.0421,  0.0294],\n",
      "          [ 0.0544, -0.0146, -0.0457,  0.0643, -0.0920],\n",
      "          [ 0.0730, -0.0448,  0.0018, -0.0228,  0.0140],\n",
      "          [-0.0349,  0.0840, -0.0030,  0.0901,  0.1110],\n",
      "          [-0.0563, -0.0842,  0.0926,  0.0905, -0.0882]]],\n",
      "\n",
      "\n",
      "        [[[-0.0089, -0.1139, -0.0945,  0.0223,  0.0307],\n",
      "          [ 0.0245, -0.0314,  0.1065,  0.0165, -0.0681],\n",
      "          [-0.0065,  0.0277,  0.0404, -0.0816,  0.0433],\n",
      "          [-0.0590, -0.0959, -0.0631,  0.1114,  0.0987],\n",
      "          [ 0.1034,  0.0678,  0.0872, -0.0155, -0.0635]],\n",
      "\n",
      "         [[ 0.0577, -0.0598, -0.0779, -0.0369,  0.0242],\n",
      "          [ 0.0594, -0.0448, -0.0680,  0.0156, -0.0681],\n",
      "          [-0.0752,  0.0602, -0.0194,  0.1055,  0.1123],\n",
      "          [ 0.0345,  0.0397,  0.0266,  0.0018, -0.0084],\n",
      "          [ 0.0016,  0.0431,  0.1074, -0.0299, -0.0488]],\n",
      "\n",
      "         [[-0.0280, -0.0558,  0.0196,  0.0862,  0.0903],\n",
      "          [ 0.0530, -0.0850, -0.0620, -0.0254, -0.0213],\n",
      "          [ 0.0095, -0.1060,  0.0359, -0.0881, -0.0731],\n",
      "          [-0.0960,  0.1006, -0.1093,  0.0871, -0.0039],\n",
      "          [-0.0134,  0.0722, -0.0107,  0.0724,  0.0835]]],\n",
      "\n",
      "\n",
      "        [[[-0.1003,  0.0444,  0.0218,  0.0248,  0.0169],\n",
      "          [ 0.0316, -0.0555, -0.0148,  0.1097,  0.0776],\n",
      "          [-0.0043, -0.1086,  0.0051, -0.0786,  0.0939],\n",
      "          [-0.0701, -0.0083, -0.0256,  0.0205,  0.1087],\n",
      "          [ 0.0110,  0.0669,  0.0896,  0.0932, -0.0399]],\n",
      "\n",
      "         [[-0.0258,  0.0556, -0.0315,  0.0541, -0.0252],\n",
      "          [-0.0783,  0.0470,  0.0177,  0.0515,  0.1147],\n",
      "          [ 0.0788,  0.1095,  0.0062, -0.0993, -0.0810],\n",
      "          [-0.0717, -0.1018, -0.0579, -0.1063, -0.1065],\n",
      "          [-0.0690, -0.1138, -0.0709,  0.0440,  0.0963]],\n",
      "\n",
      "         [[-0.0343, -0.0336,  0.0617, -0.0570, -0.0546],\n",
      "          [ 0.0711, -0.1006,  0.0141,  0.1020,  0.0198],\n",
      "          [ 0.0314, -0.0672, -0.0016,  0.0063,  0.0283],\n",
      "          [ 0.0449,  0.1003, -0.0881,  0.0035, -0.0577],\n",
      "          [-0.0913, -0.0092, -0.1016,  0.0806,  0.0134]]],\n",
      "\n",
      "\n",
      "        [[[-0.0622,  0.0603, -0.1093, -0.0447, -0.0225],\n",
      "          [-0.0981, -0.0734, -0.0188,  0.0876,  0.1115],\n",
      "          [ 0.0735, -0.0689, -0.0755,  0.1008,  0.0408],\n",
      "          [ 0.0031,  0.0156, -0.0928, -0.0386,  0.1112],\n",
      "          [-0.0285, -0.0058, -0.0959, -0.0646, -0.0024]],\n",
      "\n",
      "         [[-0.0717, -0.0143,  0.0470, -0.1130,  0.0343],\n",
      "          [-0.0763, -0.0564,  0.0443,  0.0918, -0.0316],\n",
      "          [-0.0474, -0.1044, -0.0595, -0.1011, -0.0264],\n",
      "          [ 0.0236, -0.1082,  0.1008,  0.0724, -0.1130],\n",
      "          [-0.0552,  0.0377, -0.0237, -0.0126, -0.0521]],\n",
      "\n",
      "         [[ 0.0927, -0.0645,  0.0958,  0.0075,  0.0232],\n",
      "          [ 0.0901, -0.0190, -0.0657, -0.0187,  0.0937],\n",
      "          [-0.0857,  0.0262, -0.1135,  0.0605,  0.0427],\n",
      "          [ 0.0049,  0.0496,  0.0001,  0.0639, -0.0914],\n",
      "          [-0.0170,  0.0512,  0.1150,  0.0588, -0.0840]]],\n",
      "\n",
      "\n",
      "        [[[ 0.0888, -0.0257, -0.0247, -0.1050, -0.0182],\n",
      "          [ 0.0817,  0.0161, -0.0673,  0.0355, -0.0370],\n",
      "          [ 0.1054, -0.1002, -0.0365, -0.1115, -0.0455],\n",
      "          [ 0.0364,  0.1112,  0.0194,  0.1132,  0.0226],\n",
      "          [ 0.0667,  0.0926,  0.0965, -0.0646,  0.1062]],\n",
      "\n",
      "         [[ 0.0699, -0.0540, -0.0551, -0.0969,  0.0290],\n",
      "          [-0.0936,  0.0488,  0.0365, -0.1003,  0.0315],\n",
      "          [-0.0094,  0.0527,  0.0663, -0.1148,  0.1059],\n",
      "          [ 0.0968,  0.0459, -0.1055, -0.0412, -0.0335],\n",
      "          [-0.0297,  0.0651,  0.0420,  0.0915, -0.0432]],\n",
      "\n",
      "         [[ 0.0389,  0.0411, -0.0961, -0.1120, -0.0599],\n",
      "          [ 0.0790, -0.1087, -0.1005,  0.0647,  0.0623],\n",
      "          [ 0.0950, -0.0872, -0.0845,  0.0592,  0.1004],\n",
      "          [ 0.0691,  0.0181,  0.0381,  0.1096, -0.0745],\n",
      "          [-0.0524,  0.0808, -0.0790, -0.0637,  0.0843]]]]), 'bias': tensor([ 0.0364,  0.0373, -0.0489, -0.0016,  0.1057, -0.0693,  0.0009,  0.0549,\n",
      "        -0.0797,  0.1121])})\n"
     ]
    }
   ],
   "source": [
    "# 查看 conv_layer_2 的内部参数\n",
    "print(conv_layer_2.state_dict())"
   ]
  },
  {
   "cell_type": "markdown",
   "id": "8b708eb6-ae46-4d8c-a8a4-1392827d3e37",
   "metadata": {
    "id": "8b708eb6-ae46-4d8c-a8a4-1392827d3e37"
   },
   "source": [
    "看看这个！权重和偏置张量中有一堆随机数。\n",
    "\n",
    "这些张量的形状是由我们在设置 `nn.Conv2d()` 时传递的输入所决定的。\n",
    "\n",
    "让我们检查一下它们。"
   ]
  },
  {
   "cell_type": "code",
   "execution_count": 39,
   "id": "e5518d61-c0b7-4351-b5ea-4d6b6144291a",
   "metadata": {
    "colab": {
     "base_uri": "https://localhost:8080/"
    },
    "id": "e5518d61-c0b7-4351-b5ea-4d6b6144291a",
    "outputId": "14ef701e-c82d-4fae-9dd6-e18352817cf2"
   },
   "outputs": [
    {
     "name": "stdout",
     "output_type": "stream",
     "text": [
      "conv_layer_2 weight shape: \n",
      "torch.Size([10, 3, 5, 5]) -> [out_channels=10, in_channels=3, kernel_size=5, kernel_size=5]\n",
      "\n",
      "conv_layer_2 bias shape: \n",
      "torch.Size([10]) -> [out_channels=10]\n"
     ]
    }
   ],
   "source": [
    "# 获取 conv_layer_2 中权重和偏置张量的形状\n",
    "print(f\"conv_layer_2 weight shape: \\n{conv_layer_2.weight.shape} -> [out_channels=10, in_channels=3, kernel_size=5, kernel_size=5]\")\n",
    "print(f\"\\nconv_layer_2 bias shape: \\n{conv_layer_2.bias.shape} -> [out_channels=10]\")"
   ]
  },
  {
   "cell_type": "markdown",
   "id": "f0de23c7-4501-4156-80a4-ac889a636a42",
   "metadata": {
    "id": "f0de23c7-4501-4156-80a4-ac889a636a42"
   },
   "source": [
    "> **问题：** 我们应该如何设置 `nn.Conv2d()` 层的参数？\n",
    ">\n",
    "> 这是一个很好的问题。不过，与机器学习中的许多其他事情类似，这些参数的值并不是固定的（并且请记住，由于这些值是我们可以自己设置的，因此它们被称为“**超参数**”）。\n",
    ">\n",
    "> 最好的方法是尝试不同的值，看看它们如何影响模型的表现。\n",
    ">\n",
    "> 或者更好的是，找到一个与你的问题类似的有效示例（就像我们用 TinyVGG 做的那样），并复制它。\n",
    "\n",
    "我们这里使用的是与之前看到的不同类型的层。\n",
    "\n",
    "但基本原则保持不变：从随机数开始，并更新它们以更好地表示数据。"
   ]
  },
  {
   "cell_type": "markdown",
   "id": "6370d45d-ca44-4fa0-a2d7-efaf0a207b91",
   "metadata": {
    "id": "6370d45d-ca44-4fa0-a2d7-efaf0a207b91"
   },
   "source": [
    "### 7.2 逐步了解 `nn.MaxPool2d()`\n",
    "现在让我们看看将数据传递通过 `nn.MaxPool2d()` 时会发生什么。"
   ]
  },
  {
   "cell_type": "code",
   "execution_count": 40,
   "id": "1164c753-19d9-43b7-a04f-017d0f7188c3",
   "metadata": {
    "colab": {
     "base_uri": "https://localhost:8080/"
    },
    "id": "1164c753-19d9-43b7-a04f-017d0f7188c3",
    "outputId": "9c46f08e-928d-4ee4-e43c-b402113fc2b4"
   },
   "outputs": [
    {
     "name": "stdout",
     "output_type": "stream",
     "text": [
      "Test image original shape: torch.Size([3, 64, 64])\n",
      "Test image with unsqueezed dimension: torch.Size([1, 3, 64, 64])\n",
      "Shape after going through conv_layer(): torch.Size([1, 10, 62, 62])\n",
      "Shape after going through conv_layer() and max_pool_layer(): torch.Size([1, 10, 31, 31])\n"
     ]
    }
   ],
   "source": [
    "# 打印原始图像形状，分别是没有和添加额外维度后的形状\n",
    "print(f\"Test image original shape: {test_image.shape}\")\n",
    "print(f\"Test image with unsqueezed dimension: {test_image.unsqueeze(dim=0).shape}\")\n",
    "\n",
    "# 创建一个示例的 nn.MaxPool2d() 层\n",
    "max_pool_layer = nn.MaxPool2d(kernel_size=2)\n",
    "\n",
    "# 仅通过卷积层传递数据\n",
    "test_image_through_conv = conv_layer(test_image.unsqueeze(dim=0))\n",
    "print(f\"Shape after going through conv_layer(): {test_image_through_conv.shape}\")\n",
    "\n",
    "# 通过最大池化层传递数据\n",
    "test_image_through_conv_and_max_pool = max_pool_layer(test_image_through_conv)\n",
    "print(f\"Shape after going through conv_layer() and max_pool_layer(): {test_image_through_conv_and_max_pool.shape}\")"
   ]
  },
  {
   "cell_type": "markdown",
   "id": "de029abd-6674-4bfa-99ab-322f339f89f4",
   "metadata": {
    "id": "de029abd-6674-4bfa-99ab-322f339f89f4"
   },
   "source": [
    "注意 `nn.MaxPool2d()` 层内外形状的变化。\n",
    "\n",
    "`nn.MaxPool2d()` 层的 `kernel_size` 会影响输出形状的大小。\n",
    "\n",
    "在我们的例子中，形状从 `62x62` 的图像变为 `31x31` 的图像，大小减半。\n",
    "\n",
    "让我们用一个更小的张量来看看这个效果。"
   ]
  },
  {
   "cell_type": "code",
   "execution_count": 41,
   "id": "e6a2b196-4845-4b40-9212-e75406e88875",
   "metadata": {
    "colab": {
     "base_uri": "https://localhost:8080/"
    },
    "id": "e6a2b196-4845-4b40-9212-e75406e88875",
    "outputId": "5a5e5df1-8e25-4061-d223-398ecfc7ef4c"
   },
   "outputs": [
    {
     "name": "stdout",
     "output_type": "stream",
     "text": [
      "Random tensor:\n",
      "tensor([[[[0.3367, 0.1288],\n",
      "          [0.2345, 0.2303]]]])\n",
      "Random tensor shape: torch.Size([1, 1, 2, 2])\n",
      "\n",
      "Max pool tensor:\n",
      "tensor([[[[0.3367]]]]) <- this is the maximum value from random_tensor\n",
      "Max pool tensor shape: torch.Size([1, 1, 1, 1])\n"
     ]
    }
   ],
   "source": [
    "torch.manual_seed(42)\n",
    "# 创建一个随机张量，维度与我们的图像类似\n",
    "random_tensor = torch.randn(size=(1, 1, 2, 2))\n",
    "print(f\"Random tensor:\\n{random_tensor}\")\n",
    "print(f\"Random tensor shape: {random_tensor.shape}\")\n",
    "\n",
    "# 创建一个最大池化层\n",
    "max_pool_layer = nn.MaxPool2d(kernel_size=2) # see what happens when you change the kernel_size value \n",
    "\n",
    "# 将随机张量传递通过最大池化层\n",
    "max_pool_tensor = max_pool_layer(random_tensor)\n",
    "print(f\"\\nMax pool tensor:\\n{max_pool_tensor} <- this is the maximum value from random_tensor\")\n",
    "print(f\"Max pool tensor shape: {max_pool_tensor.shape}\")"
   ]
  },
  {
   "cell_type": "markdown",
   "id": "002e586e-dcb3-40fe-a7dd-a1c18a3b8da0",
   "metadata": {
    "id": "002e586e-dcb3-40fe-a7dd-a1c18a3b8da0"
   },
   "source": [
    "注意 `random_tensor` 和 `max_pool_tensor` 之间的最后两个维度，它们从 `[2, 2]` 变为 `[1, 1]`。\n",
    "\n",
    "本质上，它们被减半了。\n",
    "\n",
    "而且，对于 `nn.MaxPool2d()` 中不同的 `kernel_size` 值，变化会有所不同。\n",
    "\n",
    "还要注意，`max_pool_tensor` 中留下的值是 `random_tensor` 中的**最大值**。\n",
    "\n",
    "发生了什么呢？\n",
    "\n",
    "这是神经网络中另一个重要的环节。\n",
    "\n",
    "本质上，**神经网络中的每一层都试图将数据从高维空间压缩到低维空间**。\n",
    "\n",
    "换句话说，神经网络会处理大量的数字（原始数据），并学习这些数字中的模式，模式具有预测性，并且在大小上比原始数据小。\n",
    "\n",
    "从人工智能的角度来看，神经网络的整体目标可以看作是*压缩*信息。\n",
    "\n",
    "![神经网络的每一层都将原始输入数据压缩成一个更小的表示（希望能够预测未来输入数据）](https://raw.githubusercontent.com/mrdbourke/pytorch-deep-learning/main/images/03-conv-net-as-compression.png)\n",
    "\n",
    "这意味着，从神经网络的角度来看，智能就是压缩。\n",
    "\n",
    "这就是使用 `nn.MaxPool2d()` 层的思想：从张量的一部分中取最大值，并忽略其余部分。\n",
    "\n",
    "本质上，它降低了张量的维度，同时仍然保留了（希望）重要的信息。\n",
    "\n",
    "`nn.Conv2d()` 层的情况也是如此。\n",
    "\n",
    "不过与仅取最大值不同，`nn.Conv2d()` 对数据执行卷积操作（可以在 [CNN Explainer 网页](https://poloclub.github.io/cnn-explainer/) 上看到这一过程）。\n",
    "\n",
    "> **练习：** 你认为 [`nn.AvgPool2d()`](https://pytorch.org/docs/stable/generated/torch.nn.AvgPool2d.html) 层做了什么？尝试像我们上面做的那样创建一个随机张量，并将其传递通过该层。检查输入和输出的形状以及输入和输出的值。\n",
    "\n",
    "> **扩展内容：** 查找 \"最常见的卷积神经网络\"，你会找到哪些架构？这些架构是否包含在 [`torchvision.models`](https://pytorch.org/vision/stable/models.html) 库中？你认为可以用这些做些什么？"
   ]
  },
  {
   "cell_type": "markdown",
   "id": "39a3c646-52f0-4f4b-8527-2fc33d0dfb13",
   "metadata": {
    "id": "39a3c646-52f0-4f4b-8527-2fc33d0dfb13"
   },
   "source": [
    "### 7.3 设置 `model_2` 的损失函数和优化器\n",
    "\n",
    "我们已经充分了解了第一个 CNN 中的各层。\n",
    "\n",
    "但请记住，如果某些部分仍不清楚，尝试从小处着手。\n",
    "\n",
    "选一个模型的单层，传入一些数据并观察发生了什么。\n",
    "\n",
    "现在是时候继续并开始训练了！\n",
    "\n",
    "让我们设置一个损失函数和优化器。\n",
    "\n",
    "我们将像之前一样使用 `nn.CrossEntropyLoss()` 作为损失函数（因为我们正在处理多类分类数据）。\n",
    "\n",
    "并使用 `torch.optim.SGD()` 作为优化器，使用学习率 `0.1` 来优化 `model_2.parameters()`。"
   ]
  },
  {
   "cell_type": "code",
   "execution_count": 42,
   "id": "06a76a1b-5f6f-4018-bf7b-8388b385476f",
   "metadata": {
    "id": "06a76a1b-5f6f-4018-bf7b-8388b385476f"
   },
   "outputs": [],
   "source": [
    "# 设置损失函数和优化器\n",
    "loss_fn = nn.CrossEntropyLoss()\n",
    "optimizer = torch.optim.SGD(params=model_2.parameters(), \n",
    "                             lr=0.1)"
   ]
  },
  {
   "cell_type": "markdown",
   "id": "758bc223-a244-4604-a07a-e2fc2f96c2f6",
   "metadata": {
    "id": "758bc223-a244-4604-a07a-e2fc2f96c2f6"
   },
   "source": [
    "### 7.4 使用我们的训练和测试函数训练和测试 `model_2`\n",
    "\n",
    "损失函数和优化器准备好了！\n",
    "\n",
    "是时候进行训练和测试了。\n",
    "\n",
    "我们将使用之前创建的 `train_step()` 和 `test_step()` 函数。\n",
    "\n",
    "我们还将测量时间，以便与其他模型进行比较。"
   ]
  },
  {
   "cell_type": "code",
   "execution_count": 43,
   "id": "861d126e-d876-40b3-9b7a-66cfc2f1bf05",
   "metadata": {
    "colab": {
     "base_uri": "https://localhost:8080/",
     "height": 327,
     "referenced_widgets": [
      "2b9c90ceb8554eaaaaf33acacecbcc11",
      "9051de473b1b456592576115260f0c48",
      "a315b7b535e4461ca11a6d96ca74411c",
      "4cd01ed6c2534d4e80a0af2e9da02052",
      "eb3ca30526e24fff9194d4e82436df99",
      "6117713ba6c9490fab837cfbad7d442b",
      "d426a4e9fff447ea95c7256372e272b7",
      "fdcf4db7208d42b5acb35bf56c72fd82",
      "606df8221adf48308f48c86ac54475e8",
      "ebc6218d07f54005b0e46553b83464e1",
      "03435ac81db84ae6bb6cb99bb78167c2"
     ]
    },
    "id": "861d126e-d876-40b3-9b7a-66cfc2f1bf05",
    "outputId": "77ae1601-bf72-4239-b3f6-9fb99a1c62c0"
   },
   "outputs": [
    {
     "name": "stderr",
     "output_type": "stream",
     "text": [
      "  0%|          | 0/3 [00:00<?, ?it/s]"
     ]
    },
    {
     "name": "stdout",
     "output_type": "stream",
     "text": [
      "Epoch: 0\n",
      "---------\n",
      "Train loss: 0.58826 | Train accuracy: 78.61%\n"
     ]
    },
    {
     "name": "stderr",
     "output_type": "stream",
     "text": [
      " 33%|███▎      | 1/3 [00:23<00:46, 23.20s/it]"
     ]
    },
    {
     "name": "stdout",
     "output_type": "stream",
     "text": [
      "Test loss: 0.38682 | Test accuracy: 86.45%\n",
      "\n",
      "Epoch: 1\n",
      "---------\n",
      "Train loss: 0.36217 | Train accuracy: 86.97%\n"
     ]
    },
    {
     "name": "stderr",
     "output_type": "stream",
     "text": [
      " 67%|██████▋   | 2/3 [00:45<00:22, 22.91s/it]"
     ]
    },
    {
     "name": "stdout",
     "output_type": "stream",
     "text": [
      "Test loss: 0.35232 | Test accuracy: 87.21%\n",
      "\n",
      "Epoch: 2\n",
      "---------\n",
      "Train loss: 0.32304 | Train accuracy: 88.38%\n"
     ]
    },
    {
     "name": "stderr",
     "output_type": "stream",
     "text": [
      "100%|██████████| 3/3 [01:10<00:00, 23.40s/it]"
     ]
    },
    {
     "name": "stdout",
     "output_type": "stream",
     "text": [
      "Test loss: 0.31690 | Test accuracy: 88.37%\n",
      "\n",
      "Train time on cpu: 70.212 seconds\n"
     ]
    },
    {
     "name": "stderr",
     "output_type": "stream",
     "text": [
      "\n"
     ]
    }
   ],
   "source": [
    "torch.manual_seed(42)\n",
    "\n",
    "# 计时\n",
    "from timeit import default_timer as timer\n",
    "train_time_start_model_2 = timer()\n",
    "\n",
    "# 训练和测试模型\n",
    "epochs = 3\n",
    "for epoch in tqdm(range(epochs)):\n",
    "    print(f\"Epoch: {epoch}\\n---------\")\n",
    "    train_step(data_loader=train_dataloader, \n",
    "        model=model_2, \n",
    "        loss_fn=loss_fn,\n",
    "        optimizer=optimizer,\n",
    "        accuracy_fn=accuracy_fn,\n",
    "        device=device\n",
    "    )\n",
    "    test_step(data_loader=test_dataloader,\n",
    "        model=model_2,\n",
    "        loss_fn=loss_fn,\n",
    "        accuracy_fn=accuracy_fn,\n",
    "        device=device\n",
    "    )\n",
    "\n",
    "train_time_end_model_2 = timer()\n",
    "total_train_time_model_2 = print_train_time(start=train_time_start_model_2,\n",
    "                                           end=train_time_end_model_2,\n",
    "                                           device=device)"
   ]
  },
  {
   "cell_type": "markdown",
   "id": "cfec7b7e-4dba-4016-957a-a29c6c10fde0",
   "metadata": {
    "id": "cfec7b7e-4dba-4016-957a-a29c6c10fde0"
   },
   "source": [
    "看起来卷积层和最大池化层帮助稍微提升了性能。\n",
    "\n",
    "让我们使用 `eval_model()` 函数来评估 `model_2` 的结果。"
   ]
  },
  {
   "cell_type": "code",
   "execution_count": 44,
   "id": "c1bf8b89-1389-4395-a1c4-9c6e94d9e71c",
   "metadata": {
    "colab": {
     "base_uri": "https://localhost:8080/"
    },
    "id": "c1bf8b89-1389-4395-a1c4-9c6e94d9e71c",
    "outputId": "6ccddfc5-a86b-409d-d329-0d140f5b2f10"
   },
   "outputs": [
    {
     "data": {
      "text/plain": [
       "{'model_name': 'FashionMNISTModelV2',\n",
       " 'model_loss': 0.3169020414352417,\n",
       " 'model_acc': 88.36861022364218}"
      ]
     },
     "execution_count": 44,
     "metadata": {},
     "output_type": "execute_result"
    }
   ],
   "source": [
    "# 获取model_2结果\n",
    "model_2_results = eval_model(\n",
    "    model=model_2,\n",
    "    data_loader=test_dataloader,\n",
    "    loss_fn=loss_fn,\n",
    "    accuracy_fn=accuracy_fn\n",
    ")\n",
    "model_2_results"
   ]
  },
  {
   "cell_type": "markdown",
   "id": "24c5ff68-b0bc-4b09-9da6-696736bc262d",
   "metadata": {
    "id": "24c5ff68-b0bc-4b09-9da6-696736bc262d"
   },
   "source": [
    "## 8. 比较模型结果和训练时间\n",
    "\n",
    "我们训练了三个不同的模型。\n",
    "\n",
    "1. `model_0` - 我们的基准模型，包含两个 `nn.Linear()` 层。\n",
    "2. `model_1` - 与基准模型相同，但在两个 `nn.Linear()` 层之间加入了 `nn.ReLU()` 激活层。\n",
    "3. `model_2` - 我们的第一个 CNN 模型，模仿了 CNN Explainer 网站上的 TinyVGG 架构。\n",
    "\n",
    "这是机器学习中的常规做法。\n",
    "\n",
    "构建多个模型并进行多次训练实验，以查看哪个模型表现最好。\n",
    "\n",
    "让我们将所有模型结果的字典合并成一个 DataFrame 来查看结果。"
   ]
  },
  {
   "cell_type": "code",
   "execution_count": 45,
   "id": "52d84ee1-1ad4-4860-b147-f8912c1febc7",
   "metadata": {
    "colab": {
     "base_uri": "https://localhost:8080/",
     "height": 143
    },
    "id": "52d84ee1-1ad4-4860-b147-f8912c1febc7",
    "outputId": "6eebb1ea-293a-4ae1-c054-f6154868426c"
   },
   "outputs": [
    {
     "data": {
      "text/html": [
       "<div>\n",
       "<style scoped>\n",
       "    .dataframe tbody tr th:only-of-type {\n",
       "        vertical-align: middle;\n",
       "    }\n",
       "\n",
       "    .dataframe tbody tr th {\n",
       "        vertical-align: top;\n",
       "    }\n",
       "\n",
       "    .dataframe thead th {\n",
       "        text-align: right;\n",
       "    }\n",
       "</style>\n",
       "<table border=\"1\" class=\"dataframe\">\n",
       "  <thead>\n",
       "    <tr style=\"text-align: right;\">\n",
       "      <th></th>\n",
       "      <th>model_name</th>\n",
       "      <th>model_loss</th>\n",
       "      <th>model_acc</th>\n",
       "    </tr>\n",
       "  </thead>\n",
       "  <tbody>\n",
       "    <tr>\n",
       "      <th>0</th>\n",
       "      <td>FashionMNISTModelV0</td>\n",
       "      <td>0.476639</td>\n",
       "      <td>83.426518</td>\n",
       "    </tr>\n",
       "    <tr>\n",
       "      <th>1</th>\n",
       "      <td>FashionMNISTModelV1</td>\n",
       "      <td>0.685001</td>\n",
       "      <td>75.019968</td>\n",
       "    </tr>\n",
       "    <tr>\n",
       "      <th>2</th>\n",
       "      <td>FashionMNISTModelV2</td>\n",
       "      <td>0.316902</td>\n",
       "      <td>88.368610</td>\n",
       "    </tr>\n",
       "  </tbody>\n",
       "</table>\n",
       "</div>"
      ],
      "text/plain": [
       "            model_name  model_loss  model_acc\n",
       "0  FashionMNISTModelV0    0.476639  83.426518\n",
       "1  FashionMNISTModelV1    0.685001  75.019968\n",
       "2  FashionMNISTModelV2    0.316902  88.368610"
      ]
     },
     "execution_count": 45,
     "metadata": {},
     "output_type": "execute_result"
    }
   ],
   "source": [
    "import pandas as pd\n",
    "compare_results = pd.DataFrame([model_0_results, model_1_results, model_2_results])\n",
    "compare_results"
   ]
  },
  {
   "cell_type": "markdown",
   "id": "c67f3fb5-ce7b-40b8-86a0-2797492de0ef",
   "metadata": {
    "id": "c67f3fb5-ce7b-40b8-86a0-2797492de0ef"
   },
   "source": [
    "很好！\n",
    "\n",
    "我们也可以添加训练时间的值。"
   ]
  },
  {
   "cell_type": "code",
   "execution_count": 46,
   "id": "297af38f-e69f-4c6f-9027-fcaf0482a55c",
   "metadata": {
    "colab": {
     "base_uri": "https://localhost:8080/",
     "height": 143
    },
    "id": "297af38f-e69f-4c6f-9027-fcaf0482a55c",
    "outputId": "67c01781-78c2-47e8-a1ee-452869bea5e2"
   },
   "outputs": [
    {
     "data": {
      "text/html": [
       "<div>\n",
       "<style scoped>\n",
       "    .dataframe tbody tr th:only-of-type {\n",
       "        vertical-align: middle;\n",
       "    }\n",
       "\n",
       "    .dataframe tbody tr th {\n",
       "        vertical-align: top;\n",
       "    }\n",
       "\n",
       "    .dataframe thead th {\n",
       "        text-align: right;\n",
       "    }\n",
       "</style>\n",
       "<table border=\"1\" class=\"dataframe\">\n",
       "  <thead>\n",
       "    <tr style=\"text-align: right;\">\n",
       "      <th></th>\n",
       "      <th>model_name</th>\n",
       "      <th>model_loss</th>\n",
       "      <th>model_acc</th>\n",
       "      <th>training_time</th>\n",
       "    </tr>\n",
       "  </thead>\n",
       "  <tbody>\n",
       "    <tr>\n",
       "      <th>0</th>\n",
       "      <td>FashionMNISTModelV0</td>\n",
       "      <td>0.476639</td>\n",
       "      <td>83.426518</td>\n",
       "      <td>6.110519</td>\n",
       "    </tr>\n",
       "    <tr>\n",
       "      <th>1</th>\n",
       "      <td>FashionMNISTModelV1</td>\n",
       "      <td>0.685001</td>\n",
       "      <td>75.019968</td>\n",
       "      <td>8.148852</td>\n",
       "    </tr>\n",
       "    <tr>\n",
       "      <th>2</th>\n",
       "      <td>FashionMNISTModelV2</td>\n",
       "      <td>0.316902</td>\n",
       "      <td>88.368610</td>\n",
       "      <td>70.211653</td>\n",
       "    </tr>\n",
       "  </tbody>\n",
       "</table>\n",
       "</div>"
      ],
      "text/plain": [
       "            model_name  model_loss  model_acc  training_time\n",
       "0  FashionMNISTModelV0    0.476639  83.426518       6.110519\n",
       "1  FashionMNISTModelV1    0.685001  75.019968       8.148852\n",
       "2  FashionMNISTModelV2    0.316902  88.368610      70.211653"
      ]
     },
     "execution_count": 46,
     "metadata": {},
     "output_type": "execute_result"
    }
   ],
   "source": [
    "# 将训练时间添加到结果对比中\n",
    "compare_results[\"training_time\"] = [total_train_time_model_0,\n",
    "                                    total_train_time_model_1,\n",
    "                                    total_train_time_model_2]\n",
    "compare_results"
   ]
  },
  {
   "cell_type": "markdown",
   "id": "fbbe5832-1081-4c76-8d5b-06c7a06da7b9",
   "metadata": {
    "id": "fbbe5832-1081-4c76-8d5b-06c7a06da7b9"
   },
   "source": [
    "看起来我们的CNN（`FashionMNISTModelV2`）模型表现最好（最低损失，最高准确率），但是训练时间最长。\n",
    "\n",
    "而我们的基线模型（`FashionMNISTModelV0`）比`model_1`（`FashionMNISTModelV1`）表现更好。\n",
    "\n",
    "### 性能与速度的权衡\n",
    "\n",
    "在机器学习中，**性能与速度**的权衡是一个需要注意的问题。\n",
    "\n",
    "通常，较大、更复杂的模型（像我们用的`model_2`）能提供更好的性能。\n",
    "\n",
    "然而，这种性能的提升往往会以牺牲训练速度和推理速度为代价。\n",
    "\n",
    "> **注意：** 训练时间会非常依赖于所使用的硬件。\n",
    ">\n",
    "> 通常，CPU核心数越多，模型在CPU上的训练就越快。GPU也类似。\n",
    ">\n",
    "> 新硬件（年龄较新的硬件）通常会训练得更快，因为它们包含了技术进步。\n",
    "\n",
    "怎么样，我们用图表来看一下？"
   ]
  },
  {
   "cell_type": "code",
   "execution_count": 47,
   "id": "5eb0df60-9318-47d0-adce-f8788ed3999e",
   "metadata": {
    "colab": {
     "base_uri": "https://localhost:8080/",
     "height": 449
    },
    "id": "5eb0df60-9318-47d0-adce-f8788ed3999e",
    "outputId": "d904e039-1544-49f5-bed7-b17555d03b5a"
   },
   "outputs": [
    {
     "data": {
      "image/png": "[encoded data removed]",
      "text/plain": [
       "<Figure size 640x480 with 1 Axes>"
      ]
     },
     "metadata": {},
     "output_type": "display_data"
    }
   ],
   "source": [
    "# 可视化模型结果\n",
    "compare_results.set_index(\"model_name\")[\"model_acc\"].plot(kind=\"barh\")\n",
    "plt.xlabel(\"accuracy (%)\")\n",
    "plt.ylabel(\"model\");"
   ]
  },
  {
   "cell_type": "markdown",
   "id": "0ba50d51-adb3-4e49-9b9a-85173e747352",
   "metadata": {
    "id": "0ba50d51-adb3-4e49-9b9a-85173e747352"
   },
   "source": [
    "## 9. 使用最佳模型进行随机预测并评估\n",
    "\n",
    "好的，我们已经比较了各个模型，现在让我们进一步评估表现最好的模型——`model_2`。\n",
    "\n",
    "为此，我们将创建一个函数 `make_predictions()`，通过该函数我们可以将模型和一些数据传递给它，进行预测并评估结果。"
   ]
  },
  {
   "cell_type": "code",
   "execution_count": 48,
   "id": "d1d5d3e7-9601-4141-8bd7-9abbd016bf6c",
   "metadata": {
    "id": "d1d5d3e7-9601-4141-8bd7-9abbd016bf6c"
   },
   "outputs": [],
   "source": [
    "def make_predictions(model: torch.nn.Module, data: list, device: torch.device = device):\n",
    "    pred_probs = []  # 用于存储预测概率的列表\n",
    "    model.eval()  # 设置模型为评估模式\n",
    "    with torch.inference_mode():  # 在推理模式下进行\n",
    "        for sample in data:\n",
    "            # 准备样本\n",
    "            sample = torch.unsqueeze(sample, dim=0).to(device)  # 增加一个维度并将样本移至设备\n",
    "\n",
    "            # 前向传播（模型输出原始的logit值）\n",
    "            pred_logit = model(sample)\n",
    "\n",
    "            # 获取预测概率（logit -> 预测概率）\n",
    "            pred_prob = torch.softmax(pred_logit.squeeze(), dim=0)  # 注意：在\"logits\"维度上执行softmax，而不是\"batch\"维度（在这种情况下，我们的批次大小为1，所以可以在dim=0上执行）\n",
    "\n",
    "            # 将预测概率从GPU移到CPU，以便进行进一步计算\n",
    "            pred_probs.append(pred_prob.cpu())\n",
    "            \n",
    "    # 将pred_probs堆叠成一个张量\n",
    "    return torch.stack(pred_probs)"
   ]
  },
  {
   "cell_type": "code",
   "execution_count": 49,
   "id": "420c7461-eaa9-4459-9e68-53574c758765",
   "metadata": {
    "colab": {
     "base_uri": "https://localhost:8080/"
    },
    "id": "420c7461-eaa9-4459-9e68-53574c758765",
    "outputId": "f3dd6437-4f0f-4bc2-f9e6-d0969df63a52"
   },
   "outputs": [
    {
     "name": "stdout",
     "output_type": "stream",
     "text": [
      "Test sample image shape: torch.Size([1, 28, 28])\n",
      "Test sample label: 5 (Sandal)\n"
     ]
    }
   ],
   "source": [
    "import random\n",
    "random.seed(42)  # 设置随机种子，以确保结果的可重复性\n",
    "test_samples = []  # 用于存储测试样本的列表\n",
    "test_labels = []  # 用于存储测试标签的列表\n",
    "\n",
    "# 从测试数据中随机选择9个样本和标签\n",
    "for sample, label in random.sample(list(test_data), k=9):\n",
    "    test_samples.append(sample)  # 将样本添加到test_samples列表\n",
    "    test_labels.append(label)  # 将标签添加到test_labels列表\n",
    "\n",
    "# 查看第一个测试样本的形状和标签\n",
    "print(f\"Test sample image shape: {test_samples[0].shape}\\nTest sample label: {test_labels[0]} ({class_names[test_labels[0]]})\")"
   ]
  },
  {
   "cell_type": "code",
   "execution_count": 50,
   "id": "1DYqA0r4SkrV",
   "metadata": {
    "colab": {
     "base_uri": "https://localhost:8080/"
    },
    "id": "1DYqA0r4SkrV",
    "outputId": "97bc573d-b39b-4eb2-caad-0379257b555e"
   },
   "outputs": [
    {
     "data": {
      "text/plain": [
       "tensor([[1.7481e-07, 3.8546e-08, 3.4990e-08, 4.4058e-07, 5.8387e-08, 9.9992e-01,\n",
       "         4.7140e-07, 6.9302e-06, 8.9296e-06, 6.6301e-05],\n",
       "        [2.7520e-02, 7.7324e-01, 8.0704e-04, 7.8342e-02, 4.7009e-02, 2.9832e-04,\n",
       "         7.0979e-02, 3.3779e-04, 6.4120e-04, 8.2822e-04]])"
      ]
     },
     "execution_count": 50,
     "metadata": {},
     "output_type": "execute_result"
    }
   ],
   "source": [
    "# 使用模型2对测试样本进行预测\n",
    "pred_probs = make_predictions(model=model_2, \n",
    "                               data=test_samples)\n",
    "\n",
    "# 查看前两个预测概率\n",
    "pred_probs[:2]"
   ]
  },
  {
   "cell_type": "markdown",
   "id": "e9f40dd9-7987-42a9-84cc-65dc912a6345",
   "metadata": {
    "id": "e9f40dd9-7987-42a9-84cc-65dc912a6345"
   },
   "source": [
    "现在我们可以使用 `make_predictions()` 函数对 `test_samples` 进行预测。"
   ]
  },
  {
   "cell_type": "code",
   "execution_count": 51,
   "id": "79de2ac1-7d4b-4f81-ae8a-90099bca2a3d",
   "metadata": {
    "colab": {
     "base_uri": "https://localhost:8080/"
    },
    "id": "79de2ac1-7d4b-4f81-ae8a-90099bca2a3d",
    "outputId": "918b07bc-4545-4401-84d5-8796ff5acf4c"
   },
   "outputs": [
    {
     "data": {
      "text/plain": [
       "tensor([[1.7481e-07, 3.8546e-08, 3.4990e-08, 4.4058e-07, 5.8387e-08, 9.9992e-01,\n",
       "         4.7140e-07, 6.9302e-06, 8.9296e-06, 6.6301e-05],\n",
       "        [2.7520e-02, 7.7324e-01, 8.0704e-04, 7.8342e-02, 4.7009e-02, 2.9832e-04,\n",
       "         7.0979e-02, 3.3779e-04, 6.4120e-04, 8.2822e-04]])"
      ]
     },
     "execution_count": 51,
     "metadata": {},
     "output_type": "execute_result"
    }
   ],
   "source": [
    "# 使用 model_2 对测试样本进行预测\n",
    "pred_probs = make_predictions(model=model_2, \n",
    "                               data=test_samples)\n",
    "\n",
    "# 查看前两个预测概率列表\n",
    "pred_probs[:2]"
   ]
  },
  {
   "cell_type": "markdown",
   "id": "22d3c080-4eb6-4b5d-a5c4-2319e78228af",
   "metadata": {
    "id": "22d3c080-4eb6-4b5d-a5c4-2319e78228af"
   },
   "source": [
    "很好!\n",
    "\n",
    "现在我们可以通过对 `torch.softmax()` 激活函数的输出使用 `torch.argmax()` 来从预测概率转换为预测标签。"
   ]
  },
  {
   "cell_type": "code",
   "execution_count": 52,
   "id": "f9d97bcc-4310-4851-a1f8-6bcd757e9b26",
   "metadata": {
    "colab": {
     "base_uri": "https://localhost:8080/"
    },
    "id": "f9d97bcc-4310-4851-a1f8-6bcd757e9b26",
    "outputId": "9d0f0bf9-a641-45e7-af77-6621fd1cfcc4"
   },
   "outputs": [
    {
     "data": {
      "text/plain": [
       "tensor([5, 1, 7, 4, 3, 0, 4, 7, 1])"
      ]
     },
     "execution_count": 52,
     "metadata": {},
     "output_type": "execute_result"
    }
   ],
   "source": [
    "# 通过对预测概率使用 argmax() 将其转换为预测标签\n",
    "pred_classes = pred_probs.argmax(dim=1)\n",
    "pred_classes"
   ]
  },
  {
   "cell_type": "code",
   "execution_count": 53,
   "id": "1141af97-0990-4920-83d4-c13cca3f9abc",
   "metadata": {
    "colab": {
     "base_uri": "https://localhost:8080/"
    },
    "id": "1141af97-0990-4920-83d4-c13cca3f9abc",
    "outputId": "c69cddd4-bbe9-495e-d477-6ea0a6c7d8de"
   },
   "outputs": [
    {
     "data": {
      "text/plain": [
       "([5, 1, 7, 4, 3, 0, 4, 7, 1], tensor([5, 1, 7, 4, 3, 0, 4, 7, 1]))"
      ]
     },
     "execution_count": 53,
     "metadata": {},
     "output_type": "execute_result"
    }
   ],
   "source": [
    "# 我们的预测结果与测试标签的形式相同吗？\n",
    "test_labels, pred_classes"
   ]
  },
  {
   "cell_type": "markdown",
   "id": "4ea04387-c9ad-424f-8297-defd7b685683",
   "metadata": {
    "id": "4ea04387-c9ad-424f-8297-defd7b685683"
   },
   "source": [
    "Now our predicted classes are in the same format as our test labels, we can compare.\n",
    "\n",
    "Since we're dealing with image data, let's stay true to the data explorer's motto. \n",
    "\n",
    "\"Visualize, visualize, visualize!\""
   ]
  },
  {
   "cell_type": "code",
   "execution_count": 54,
   "id": "679cb5f7-bb66-42dd-a4d6-400b27b7c019",
   "metadata": {
    "colab": {
     "base_uri": "https://localhost:8080/",
     "height": 749
    },
    "id": "679cb5f7-bb66-42dd-a4d6-400b27b7c019",
    "outputId": "3aae0abe-9c19-4054-d8db-7e00403666aa"
   },
   "outputs": [
    {
     "data": {
      "image/png": "[encoded data removed]",
      "text/plain": [
       "<Figure size 900x900 with 9 Axes>"
      ]
     },
     "metadata": {},
     "output_type": "display_data"
    }
   ],
   "source": [
    "# 绘制预测结果\n",
    "plt.figure(figsize=(9, 9))\n",
    "nrows = 3\n",
    "ncols = 3\n",
    "for i, sample in enumerate(test_samples):\n",
    "  # 创建一个子图\n",
    "  plt.subplot(nrows, ncols, i+1)\n",
    "\n",
    "  # 绘制目标图像\n",
    "  plt.imshow(sample.squeeze(), cmap=\"gray\")\n",
    "\n",
    "  # 找到预测标签（文本形式，例如 \"Sandal\"）\n",
    "  pred_label = class_names[pred_classes[i]]\n",
    "\n",
    "  # 获取真实标签（文本形式，例如 \"T-shirt\"）\n",
    "  truth_label = class_names[test_labels[i]] \n",
    "\n",
    "  # 创建图表标题文本\n",
    "  title_text = f\"Pred: {pred_label} | Truth: {truth_label}\"\n",
    "  \n",
    "  # 检查预测结果是否与真实标签相等，并根据结果改变标题颜色\n",
    "  if pred_label == truth_label:\n",
    "      plt.title(title_text, fontsize=10, c=\"g\") # 如果正确，标题文字为绿色\n",
    "  else:\n",
    "      plt.title(title_text, fontsize=10, c=\"r\") # 如果错误，标题文字为红色\n",
    "  plt.axis(False);"
   ]
  },
  {
   "cell_type": "markdown",
   "id": "5ce6dc44-90a5-48c3-91a5-810fa084d98b",
   "metadata": {
    "id": "5ce6dc44-90a5-48c3-91a5-810fa084d98b"
   },
   "source": [
    "看起来不错！\n",
    "\n",
    "这几行 PyTorch 代码效果还挺好！"
   ]
  },
  {
   "cell_type": "markdown",
   "id": "ab108078-6770-4cb9-ac62-a761ff159aba",
   "metadata": {
    "id": "ab108078-6770-4cb9-ac62-a761ff159aba"
   },
   "source": [
    "## 10. 制作混淆矩阵以进一步评估预测结果\n",
    "\n",
    "在分类问题中，我们可以使用许多不同的[评估指标](https://www.learnpytorch.io/02_pytorch_classification/#9-more-classification-evaluation-metrics)。\n",
    "\n",
    "其中一个最直观的指标是[混淆矩阵](https://www.dataschool.io/simple-guide-to-confusion-matrix-terminology/)。\n",
    "\n",
    "混淆矩阵能够显示出分类模型在预测和真实标签之间的混淆情况。\n",
    "\n",
    "为了制作混淆矩阵，我们将经过三个步骤：\n",
    "1. 使用训练好的模型 `model_2` 进行预测（混淆矩阵比较预测结果和真实标签）。\n",
    "2. 使用 [`torchmetrics.ConfusionMatrix`](https://torchmetrics.readthedocs.io/en/latest/references/modules.html?highlight=confusion#confusionmatrix) 生成混淆矩阵。\n",
    "3. 使用 [`mlxtend.plotting.plot_confusion_matrix()`](http://rasbt.github.io/mlxtend/user_guide/plotting/plot_confusion_matrix/) 绘制混淆矩阵。\n",
    "\n",
    "让我们先开始使用训练好的模型进行预测。"
   ]
  },
  {
   "cell_type": "code",
   "execution_count": 55,
   "id": "065b8090-c9c5-43df-b5c1-b45ba33af1be",
   "metadata": {
    "colab": {
     "base_uri": "https://localhost:8080/",
     "height": 49,
     "referenced_widgets": [
      "d3ab200da5f940d5b45396f83bd835e2",
      "f35a13b3e55342aeb24b188c1d81a9e5",
      "4a282c1974524bd3a7eba45fd3112129",
      "44d4196e99a4412f893ba8ac4672915d",
      "12d1a54d4107428eae2e64ff0a255c50",
      "4d6eb654b2794b0a95f31ac94b52a4ca",
      "fe5cff037f714657996f0541baee39f3",
      "0670e3e758e6486b9cf4e2797b4b619a",
      "3c590fc27b624584ba564e18bc42a2e4",
      "629ca5b704b84a958d4ee477907f64a1",
      "4d7c25dcdde8414382be4cf63a9cacf9"
     ]
    },
    "id": "065b8090-c9c5-43df-b5c1-b45ba33af1be",
    "outputId": "92a8bee2-71f5-4504-d534-cc63138c413d"
   },
   "outputs": [
    {
     "name": "stderr",
     "output_type": "stream",
     "text": [
      "Making predictions: 100%|██████████| 313/313 [00:00<00:00, 317.29it/s]\n"
     ]
    }
   ],
   "source": [
    "# 导入 tqdm 用于显示进度条\n",
    "from tqdm.auto import tqdm\n",
    "\n",
    "# 1. 使用训练好的模型进行预测\n",
    "y_preds = []\n",
    "model_2.eval()  # 设置模型为评估模式\n",
    "with torch.inference_mode():  # 关闭梯度计算，提高推理效率\n",
    "  for X, y in tqdm(test_dataloader, desc=\"Making predictions\"):  # 遍历测试数据集\n",
    "    # 将数据和标签发送到目标设备\n",
    "    X, y = X.to(device), y.to(device)\n",
    "    # 进行前向传播\n",
    "    y_logit = model_2(X)\n",
    "    # 将预测从 logits 转换为预测概率，再从概率转换为预测标签\n",
    "    y_pred = torch.softmax(y_logit, dim=1).argmax(dim=1)  # 注意：在 \"logits\" 维度（dim=1）上执行 softmax，而不是在 \"batch\" 维度（dim=0）上\n",
    "    # 将预测结果移到 CPU 上以便进一步评估\n",
    "    y_preds.append(y_pred.cpu())\n",
    "\n",
    "# 将预测结果列表拼接成一个张量\n",
    "y_pred_tensor = torch.cat(y_preds)"
   ]
  },
  {
   "cell_type": "markdown",
   "id": "362002d9-ec41-4c74-a210-b5d4f53410c4",
   "metadata": {
    "id": "362002d9-ec41-4c74-a210-b5d4f53410c4"
   },
   "source": [
    "现在我们已经有了预测结果，让我们继续进行步骤 2 和 3：\n",
    "\n",
    "2. 使用 [`torchmetrics.ConfusionMatrix`](https://torchmetrics.readthedocs.io/en/latest/references/modules.html?highlight=confusion#confusionmatrix) 创建混淆矩阵。\n",
    "3. 使用 [`mlxtend.plotting.plot_confusion_matrix()`](http://rasbt.github.io/mlxtend/user_guide/plotting/plot_confusion_matrix/) 绘制混淆矩阵。\n",
    "\n",
    "首先，我们需要确保已经安装了 `torchmetrics` 和 `mlxtend`（这两个库将帮助我们创建和可视化混淆矩阵）。\n",
    "\n",
    "> **注意：** 如果你使用的是 Google Colab，默认安装的 `mlxtend` 版本是 0.14.0（截至 2022 年 3 月），但为了使用我们需要的 `plot_confusion_matrix()` 函数的参数，我们需要 0.19.0 或更高版本。"
   ]
  },
  {
   "cell_type": "code",
   "execution_count": 57,
   "id": "e6c0a05d-d3e0-4b86-9ef7-ee6ea5629b07",
   "metadata": {
    "colab": {
     "base_uri": "https://localhost:8080/"
    },
    "id": "e6c0a05d-d3e0-4b86-9ef7-ee6ea5629b07",
    "outputId": "b37df16c-c292-4347-807c-91c97bf81f20"
   },
   "outputs": [
    {
     "name": "stdout",
     "output_type": "stream",
     "text": [
      "mlxtend version: 0.23.2\n"
     ]
    }
   ],
   "source": [
    "# 检查是否安装了 torchmetrics 和 mlxtend，如果没有，则安装它们\n",
    "try:\n",
    "    import torchmetrics, mlxtend\n",
    "    print(f\"mlxtend version: {mlxtend.__version__}\")\n",
    "    assert int(mlxtend.__version__.split(\".\")[1]) >= 19, \"mlxtend 版本应该是 0.19.0 或更高\"\n",
    "except:\n",
    "    !pip install -q torchmetrics -U mlxtend # <- 注意：如果你使用的是 Google Colab，可能需要重新启动运行时\n",
    "    import torchmetrics, mlxtend\n",
    "    print(f\"mlxtend version: {mlxtend.__version__}\")"
   ]
  },
  {
   "cell_type": "markdown",
   "id": "5245ede6-fd7f-40ad-a0b3-ae678544b84a",
   "metadata": {
    "id": "5245ede6-fd7f-40ad-a0b3-ae678544b84a"
   },
   "source": [
    "To plot the confusion matrix, we need to make sure we've got and [`mlxtend`](http://rasbt.github.io/mlxtend/) version of 0.19.0 or higher."
   ]
  },
  {
   "cell_type": "code",
   "execution_count": 58,
   "id": "21383f88-a2dd-4678-94c6-479c592da0ab",
   "metadata": {
    "colab": {
     "base_uri": "https://localhost:8080/"
    },
    "id": "21383f88-a2dd-4678-94c6-479c592da0ab",
    "outputId": "faffbe4c-9c86-4a20-cbd6-c7e8e48e81a5"
   },
   "outputs": [
    {
     "name": "stdout",
     "output_type": "stream",
     "text": [
      "0.23.2\n"
     ]
    }
   ],
   "source": [
    "#导入升级版的 mlxtend\n",
    "import mlxtend \n",
    "print(mlxtend.__version__)\n",
    "assert int(mlxtend.__version__.split(\".\")[1]) >= 19 # should be version 0.19.0 or higher"
   ]
  },
  {
   "cell_type": "markdown",
   "id": "c91b9346-e25f-48ab-967e-425649331dc6",
   "metadata": {
    "id": "c91b9346-e25f-48ab-967e-425649331dc6"
   },
   "source": [
    "`torchmetrics` 和 `mlxtend` 已安装，现在我们来创建一个混淆矩阵！\n",
    "\n",
    "首先，我们创建一个 `torchmetrics.ConfusionMatrix` 实例，通过设置 `num_classes=len(class_names)` 来告知它我们处理的是多少个类别。\n",
    "\n",
    "然后，我们通过将模型的预测 (`preds=y_pred_tensor`) 和真实标签 (`target=test_data.targets`) 传递给实例来创建混淆矩阵（以张量格式）。\n",
    "\n",
    "最后，我们可以使用 `mlxtend.plotting` 中的 `plot_confusion_matrix()` 函数来绘制我们的混淆矩阵。\n"
   ]
  },
  {
   "cell_type": "code",
   "execution_count": 59,
   "id": "7aed6d76-ad1c-429e-b8e0-c80572e3ebf4",
   "metadata": {
    "colab": {
     "base_uri": "https://localhost:8080/",
     "height": 667
    },
    "id": "7aed6d76-ad1c-429e-b8e0-c80572e3ebf4",
    "outputId": "ae34ae74-2038-4037-f01d-77a807e4de9b"
   },
   "outputs": [
    {
     "data": {
      "image/png": "[encoded data removed]",
      "text/plain": [
       "<Figure size 1000x700 with 1 Axes>"
      ]
     },
     "metadata": {},
     "output_type": "display_data"
    }
   ],
   "source": [
    "from torchmetrics import ConfusionMatrix\n",
    "from mlxtend.plotting import plot_confusion_matrix\n",
    "\n",
    "# 2. 设置混淆矩阵实例，并将预测与真实标签进行比较\n",
    "confmat = ConfusionMatrix(num_classes=len(class_names), task='multiclass')\n",
    "confmat_tensor = confmat(preds=y_pred_tensor,\n",
    "                         target=test_data.targets)\n",
    "\n",
    "# 3. 绘制混淆矩阵\n",
    "fig, ax = plot_confusion_matrix(\n",
    "    conf_mat=confmat_tensor.numpy(), # matplotlib 喜欢使用 NumPy 数据\n",
    "    class_names=class_names, # 将行列标签转换为类别名称\n",
    "    figsize=(10, 7)\n",
    ")"
   ]
  },
  {
   "cell_type": "markdown",
   "id": "381c1c93-df30-451c-b65e-5d4c1680dc30",
   "metadata": {
    "id": "381c1c93-df30-451c-b65e-5d4c1680dc30"
   },
   "source": [
    "看起来不错吧？\n",
    "\n",
    "我们可以看到模型的表现相当不错，因为大多数深色的方块都集中在从左上到右下的对角线位置（理想的模型应该只有这些方块有值，其他地方为0）。\n",
    "\n",
    "模型最常“混淆”的是相似类别，例如将“Pullover”预测为实际标签为“Shirt”的图像。\n",
    "\n",
    "同样，模型将“Shirt”预测为实际标签为“T-shirt/top”的图像也比较常见。\n",
    "\n",
    "这种信息通常比单一的准确率指标更有价值，因为它告诉我们模型出错的**位置**。\n",
    "\n",
    "它还暗示了模型可能出错的**原因**。\n",
    "\n",
    "可以理解的是，模型有时会将“Shirt”预测为标签为“T-shirt/top”的图像。\n",
    "\n",
    "我们可以利用这些信息进一步检查模型和数据，看看如何进行改进。\n",
    "\n",
    "> **练习：** 使用训练好的 `model_2` 对测试集 FashionMNIST 数据集进行预测。然后，绘制一些模型预测错误的样本，并显示图像的正确标签。在可视化这些预测后，你认为这是模型的错误还是数据的问题？也就是说，模型能做得更好吗，还是数据的标签之间差异太小（例如，“Shirt”标签与“T-shirt/top”标签太接近）？"
   ]
  },
  {
   "cell_type": "markdown",
   "id": "25818e83-89de-496d-8b56-af4fc9f2acc5",
   "metadata": {
    "id": "25818e83-89de-496d-8b56-af4fc9f2acc5"
   },
   "source": [
    "## 11. 保存和加载最佳表现模型\n",
    "\n",
    "让我们通过保存和加载我们表现最好的模型来完成这一部分内容。\n",
    "\n",
    "回想一下 [notebook 01](./01_pytorch_workflow.ipynb) 中的内容，我们可以通过以下几种方法保存和加载 PyTorch 模型：\n",
    "\n",
    "* `torch.save` - 一个函数，用于保存整个 PyTorch 模型或模型的 `state_dict()`。\n",
    "* `torch.load` - 一个函数，用于加载保存的 PyTorch 对象。\n",
    "* `torch.nn.Module.load_state_dict()` - 一个函数，用于将保存的 `state_dict()` 加载到现有的模型实例中。\n",
    "\n",
    "你可以在 [PyTorch 保存和加载模型的文档](https://pytorch.org/tutorials/beginner/saving_loading_models.html) 中查看更多内容。\n",
    "\n",
    "现在，让我们保存 `model_2` 的 `state_dict()`，然后将其加载回模型中并进行评估，以确保保存和加载过程正确无误。"
   ]
  },
  {
   "cell_type": "code",
   "execution_count": 60,
   "id": "d058e8fa-560f-4350-a154-49593ff403c9",
   "metadata": {
    "colab": {
     "base_uri": "https://localhost:8080/"
    },
    "id": "d058e8fa-560f-4350-a154-49593ff403c9",
    "outputId": "0156a518-dae2-4b25-999a-c0a77ef7ef7c"
   },
   "outputs": [
    {
     "name": "stdout",
     "output_type": "stream",
     "text": [
      "Saving model to: models/03_pytorch_computer_vision_model_2.pth\n"
     ]
    }
   ],
   "source": [
    "from pathlib import Path\n",
    "\n",
    "# 创建模型目录（如果目录不存在的话），参见：https://docs.python.org/3/library/pathlib.html#pathlib.Path.mkdir\n",
    "MODEL_PATH = Path(\"models\")\n",
    "MODEL_PATH.mkdir(parents=True, # 如果需要，创建父目录\n",
    "                 exist_ok=True # 如果模型目录已存在，则不报错\n",
    ")\n",
    "\n",
    "# 创建模型保存路径\n",
    "MODEL_NAME = \"03_pytorch_computer_vision_model_2.pth\"\n",
    "MODEL_SAVE_PATH = MODEL_PATH / MODEL_NAME\n",
    "\n",
    "# 保存模型的 state dict\n",
    "print(f\"Saving model to: {MODEL_SAVE_PATH}\")\n",
    "torch.save(obj=model_2.state_dict(), # 仅保存 state_dict()，只保存学习到的参数\n",
    "           f=MODEL_SAVE_PATH)"
   ]
  },
  {
   "cell_type": "markdown",
   "id": "a1542284-8132-42ba-b00d-57e9b9037e4e",
   "metadata": {
    "id": "a1542284-8132-42ba-b00d-57e9b9037e4e"
   },
   "source": [
    "现在我们已经保存了模型的 `state_dict()`，我们可以使用 `load_state_dict()` 和 `torch.load()` 将其加载回来。\n",
    "\n",
    "由于我们使用的是 `load_state_dict()`，因此我们需要使用与保存的模型 `state_dict()` 相同的输入参数来创建一个新的 `FashionMNISTModelV2()` 实例。"
   ]
  },
  {
   "cell_type": "code",
   "execution_count": 61,
   "id": "634a8f7a-3013-4b45-b365-49b286d3c478",
   "metadata": {
    "id": "634a8f7a-3013-4b45-b365-49b286d3c478"
   },
   "outputs": [
    {
     "name": "stderr",
     "output_type": "stream",
     "text": [
      "/var/folders/_2/rnny0md942g8pkfqbsh4qgrm0000gn/T/ipykernel_39692/3047080402.py:8: FutureWarning: You are using `torch.load` with `weights_only=False` (the current default value), which uses the default pickle module implicitly. It is possible to construct malicious pickle data which will execute arbitrary code during unpickling (See https://github.com/pytorch/pytorch/blob/main/SECURITY.md#untrusted-models for more details). In a future release, the default value for `weights_only` will be flipped to `True`. This limits the functions that could be executed during unpickling. Arbitrary objects will no longer be allowed to be loaded via this mode unless they are explicitly allowlisted by the user via `torch.serialization.add_safe_globals`. We recommend you start setting `weights_only=True` for any use case where you don't have full control of the loaded file. Please open an issue on GitHub for any issues related to this experimental feature.\n",
      "  loaded_model_2.load_state_dict(torch.load(f=MODEL_SAVE_PATH))\n"
     ]
    }
   ],
   "source": [
    "# 创建一个新的 FashionMNISTModelV2 实例（与我们保存的 state_dict() 所用的类相同）\n",
    "# 注意：如果这里的形状与保存的版本不一致，加载模型会报错\n",
    "loaded_model_2 = FashionMNISTModelV2(input_shape=1, \n",
    "                                    hidden_units=10, # 可以尝试将其改为 128，看看会发生什么\n",
    "                                    output_shape=10) \n",
    "\n",
    "# 加载保存的 state_dict()\n",
    "loaded_model_2.load_state_dict(torch.load(f=MODEL_SAVE_PATH))\n",
    "\n",
    "# 将模型发送到 GPU\n",
    "loaded_model_2 = loaded_model_2.to(device)"
   ]
  },
  {
   "cell_type": "markdown",
   "id": "feeaebf4-6040-4fa5-852d-5eb8d2bbb94c",
   "metadata": {
    "id": "feeaebf4-6040-4fa5-852d-5eb8d2bbb94c"
   },
   "source": [
    "现在我们已经加载了模型，可以使用 `eval_model()` 对其进行评估，以确保它的参数与保存之前的 `model_2` 表现类似。"
   ]
  },
  {
   "cell_type": "code",
   "execution_count": 62,
   "id": "3e3bcd06-d99b-47bc-8828-9e3903285599",
   "metadata": {
    "colab": {
     "base_uri": "https://localhost:8080/"
    },
    "id": "3e3bcd06-d99b-47bc-8828-9e3903285599",
    "outputId": "c0ee1d5f-9573-4e1a-8430-ee09fb4d72cd"
   },
   "outputs": [
    {
     "data": {
      "text/plain": [
       "{'model_name': 'FashionMNISTModelV2',\n",
       " 'model_loss': 0.3169020414352417,\n",
       " 'model_acc': 88.36861022364218}"
      ]
     },
     "execution_count": 62,
     "metadata": {},
     "output_type": "execute_result"
    }
   ],
   "source": [
    "# 评估加载的模型\n",
    "torch.manual_seed(42)\n",
    "\n",
    "loaded_model_2_results = eval_model(\n",
    "    model=loaded_model_2,\n",
    "    data_loader=test_dataloader,\n",
    "    loss_fn=loss_fn, \n",
    "    accuracy_fn=accuracy_fn\n",
    ")\n",
    "\n",
    "loaded_model_2_results"
   ]
  },
  {
   "cell_type": "markdown",
   "id": "c2b37855-c0da-4834-a2d4-a0faa8410b65",
   "metadata": {
    "id": "c2b37855-c0da-4834-a2d4-a0faa8410b65"
   },
   "source": [
    "这些结果与 `model_2_results` 一样吗？"
   ]
  },
  {
   "cell_type": "code",
   "execution_count": 63,
   "id": "68544254-c99a-47ec-a32f-9816c21a993e",
   "metadata": {
    "colab": {
     "base_uri": "https://localhost:8080/"
    },
    "id": "68544254-c99a-47ec-a32f-9816c21a993e",
    "outputId": "74b8d4ca-d35a-4f70-e8b9-ed54f034358e"
   },
   "outputs": [
    {
     "data": {
      "text/plain": [
       "{'model_name': 'FashionMNISTModelV2',\n",
       " 'model_loss': 0.3169020414352417,\n",
       " 'model_acc': 88.36861022364218}"
      ]
     },
     "execution_count": 63,
     "metadata": {},
     "output_type": "execute_result"
    }
   ],
   "source": [
    "model_2_results"
   ]
  },
  {
   "cell_type": "markdown",
   "id": "0ee07f93-4344-4c7a-8b1d-92a56034e7b2",
   "metadata": {
    "id": "0ee07f93-4344-4c7a-8b1d-92a56034e7b2"
   },
   "source": [
    "我们可以使用 `torch.isclose()` 来检查两个张量是否接近，并通过 `atol`（绝对容忍度）和 `rtol`（相对容忍度）参数来设置接近的容忍度。\n",
    "\n",
    "如果我们的模型结果接近，`torch.isclose()` 的输出应该为 `True`。"
   ]
  },
  {
   "cell_type": "code",
   "execution_count": 64,
   "id": "48dcf0ba-7e00-4406-8aaa-41918856361a",
   "metadata": {
    "colab": {
     "base_uri": "https://localhost:8080/"
    },
    "id": "48dcf0ba-7e00-4406-8aaa-41918856361a",
    "outputId": "47324300-0d00-46de-d130-1283ad044ef8"
   },
   "outputs": [
    {
     "data": {
      "text/plain": [
       "tensor(True)"
      ]
     },
     "execution_count": 64,
     "metadata": {},
     "output_type": "execute_result"
    }
   ],
   "source": [
    "# 检查结果是否接近（如果差距很大，可能存在错误）\n",
    "torch.isclose(torch.tensor(model_2_results[\"model_loss\"]), \n",
    "              torch.tensor(loaded_model_2_results[\"model_loss\"]),\n",
    "              atol=1e-08, # 绝对容忍度\n",
    "              rtol=0.0001) # 相对容忍度"
   ]
  },
  {
   "cell_type": "markdown",
   "id": "c3969b7d-9955-4b6f-abf8-fe8eedf233a9",
   "metadata": {
    "id": "c3969b7d-9955-4b6f-abf8-fe8eedf233a9"
   },
   "source": [
    "## 练习 \n",
    "\n",
    "所有练习都旨在帮助你练习上述各部分的代码。\n",
    "\n",
    "你应该能够通过参考每一部分或查看相关资源来完成它们。\n",
    "\n",
    "所有练习应使用[与设备无关的代码](https://pytorch.org/docs/stable/notes/cuda.html#device-agnostic-code)完成。\n",
    "\n",
    "**资源：**\n",
    "* [03练习模板笔记本](https://github.com/mrdbourke/pytorch-deep-learning/blob/main/extras/exercises/03_pytorch_computer_vision_exercises.ipynb)\n",
    "* [03例子解决方案笔记本](https://github.com/mrdbourke/pytorch-deep-learning/blob/main/extras/solutions/03_pytorch_computer_vision_exercise_solutions.ipynb)（在查看之前尝试完成练习）\n",
    "\n",
    "1. 当前计算机视觉在行业中使用的三个领域是什么？\n",
    "2. 搜索“机器学习中的过拟合是什么”，并写下一句你找到的内容。\n",
    "3. 搜索“如何防止机器学习中的过拟合”，写下你找到的三种方法，并简要说明每种方法。**注意：**有很多方法，所以不用担心太多，选三种开始。\n",
    "4. 花20分钟阅读并浏览[CNN Explainer网站](https://poloclub.github.io/cnn-explainer/)。\n",
    "    * 使用“上传”按钮上传自己的示例图像，看看图像通过CNN的每一层时发生了什么。\n",
    "5. 加载[`torchvision.datasets.MNIST()`](https://pytorch.org/vision/stable/generated/torchvision.datasets.MNIST.html#torchvision.datasets.MNIST)训练和测试数据集。\n",
    "6. 可视化至少5个不同的MNIST训练数据集样本。\n",
    "7. 使用`torch.utils.data.DataLoader`将MNIST训练和测试数据集转换为数据加载器，设置`batch_size=32`。\n",
    "8. 重新创建本笔记本中使用的`model_2`（来自[CNN Explainer网站](https://poloclub.github.io/cnn-explainer/)的相同模型，也称为TinyVGG），使其能够适应MNIST数据集。\n",
    "9. 在CPU和GPU上训练你在练习8中创建的模型，并查看每种情况下的训练时间。\n",
    "10. 使用你训练的模型进行预测，并可视化至少5个预测结果，将预测与目标标签进行比较。\n",
    "11. 绘制混淆矩阵，将模型的预测与真实标签进行比较。\n",
    "12. 创建一个形状为`[1, 3, 64, 64]`的随机张量，并通过`nn.Conv2d()`层进行前向传播，使用各种超参数设置（你可以选择任何设置）。当`kernel_size`参数增大或减小时，你注意到什么？\n",
    "13. 使用与本笔记本中训练的`model_2`相似的模型对测试[`torchvision.datasets.FashionMNIST`](https://pytorch.org/vision/main/generated/torchvision.datasets.FashionMNIST.html)数据集进行预测。\n",
    "    * 然后绘制一些错误预测的图像，并显示图像的正确标签。\n",
    "    * 在可视化这些预测后，你认为问题更可能是模型错误还是数据错误？\n",
    "    * 即，模型是否可以做得更好，还是数据的标签过于相似（例如，“Shirt”标签与“T-shirt/top”标签太接近）？\n",
    "\n",
    "## 额外内容\n",
    "* **观看：**[MIT深度计算机视觉导论](https://www.youtube.com/watch?v=iaSUYvmCekI&list=PLtBw6njQRU-rwp5__7C0oIVt26ZgjG9NI&index=3)讲座。这将帮助你更好地理解卷积神经网络。\n",
    "* 花10分钟浏览[PyTorch视觉库](https://pytorch.org/vision/stable/index.html)的不同选项，了解有哪些模块可用。\n",
    "* 查找“最常见的卷积神经网络”，你找到了哪些架构？这些架构中有些包含在[`torchvision.models`](https://pytorch.org/vision/stable/models.html)库中吗？你认为可以用这些做些什么？\n",
    "* 如果你想要大量预训练的PyTorch计算机视觉模型以及许多PyTorch计算机视觉功能的扩展，请查看[Ross Wightman的PyTorch图像模型库`timm`](https://github.com/rwightman/pytorch-image-models/)（Torch Image Models）。"
   ]
  }
 ],
 "metadata": {
  "accelerator": "GPU",
  "colab": {
   "gpuType": "A100",
   "machine_shape": "hm",
   "provenance": []
  },
  "gpuClass": "standard",
  "kernelspec": {
   "display_name": "mlenv",
   "language": "python",
   "name": "python3"
  },
  "language_info": {
   "codemirror_mode": {
    "name": "ipython",
    "version": 3
   },
   "file_extension": ".py",
   "mimetype": "text/x-python",
   "name": "python",
   "nbconvert_exporter": "python",
   "pygments_lexer": "ipython3",
   "version": "3.12.7"
  }
 },
 "nbformat": 4,
 "nbformat_minor": 5
}
