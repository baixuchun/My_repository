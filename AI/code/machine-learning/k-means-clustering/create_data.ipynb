{
 "cells": [
  {
   "cell_type": "code",
   "execution_count": 2,
   "metadata": {},
   "outputs": [
    {
     "name": "stdout",
     "output_type": "stream",
     "text": [
      "数据集已保存为 chemical_dataset.csv\n"
     ]
    }
   ],
   "source": [
    "import numpy as np\n",
    "import pandas as pd\n",
    "from sklearn.datasets import make_blobs\n",
    "\n",
    "# 定义一个函数来生成数据集\n",
    "def generate_dataset():\n",
    "    # 设置样本数和特征数\n",
    "    n_samples = 1000\n",
    "    n_features = 3\n",
    "\n",
    "    # 用3个簇生成合成数据，分别代表3种类型的化学品\n",
    "    # make_blobs函数可以很方便地生成聚类数据\n",
    "    X, _ = make_blobs(n_samples=n_samples, centers=3, n_features=n_features, cluster_std=1.0, random_state=82)\n",
    "\n",
    "    # 将生成的数据转换为DataFrame，便于理解和操作\n",
    "    features = ['Volatility', 'Corrosiveness', 'Stability']\n",
    "    df = pd.DataFrame(X, columns=features)\n",
    "\n",
    "    # 将DataFrame保存为CSV文件\n",
    "    csv_filename = 'chemical_dataset.csv'\n",
    "    df.to_csv(csv_filename, index=False)\n",
    "\n",
    "    return csv_filename\n",
    "\n",
    "# 调用函数生成数据集并保存\n",
    "csv_file_path = generate_dataset()\n",
    "print(f\"数据集已保存为 {csv_file_path}\")"
   ]
  }
 ],
 "metadata": {
  "kernelspec": {
   "display_name": "myenv",
   "language": "python",
   "name": "python3"
  },
  "language_info": {
   "codemirror_mode": {
    "name": "ipython",
    "version": 3
   },
   "file_extension": ".py",
   "mimetype": "text/x-python",
   "name": "python",
   "nbconvert_exporter": "python",
   "pygments_lexer": "ipython3",
   "version": "3.11.0"
  }
 },
 "nbformat": 4,
 "nbformat_minor": 2
}
