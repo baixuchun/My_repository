{
 "cells": [
  {
   "cell_type": "code",
   "execution_count": 2,
   "metadata": {},
   "outputs": [],
   "source": [
    "import numpy as np\n",
    "import pandas as pd\n",
    "\n",
    "# 产生模拟数据\n",
    "np.random.seed(0)\n",
    "\n",
    "# 生成模拟的表面积和孔隙度数据 (范围仅为示例)\n",
    "surface_areas = np.random.uniform(50, 500, 500)  # 50-500 m^2/g\n",
    "porosities = np.random.uniform(0.1, 0.9, 500)  # 0.1-0.9\n",
    "\n",
    "# 假设活性与表面积和孔隙度有某种非线性关系加上噪声\n",
    "activities = 0.5 * surface_areas + 3 * np.sin(5 * porosities) + np.random.normal(0, 5, 500)\n",
    "\n",
    "# 将数据转换为pandas DataFrame并保存为CSV文件\n",
    "data = pd.DataFrame({'Surface_Area': surface_areas, 'Porosity': porosities, 'Activity': activities})\n",
    "data.to_csv('catalyst_data.csv', index=False)"
   ]
  }
 ],
 "metadata": {
  "kernelspec": {
   "display_name": "myenv",
   "language": "python",
   "name": "python3"
  },
  "language_info": {
   "codemirror_mode": {
    "name": "ipython",
    "version": 3
   },
   "file_extension": ".py",
   "mimetype": "text/x-python",
   "name": "python",
   "nbconvert_exporter": "python",
   "pygments_lexer": "ipython3",
   "version": "3.11.0"
  }
 },
 "nbformat": 4,
 "nbformat_minor": 2
}
