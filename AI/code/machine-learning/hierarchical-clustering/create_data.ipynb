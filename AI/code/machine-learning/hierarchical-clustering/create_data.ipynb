{
 "cells": [
  {
   "cell_type": "code",
   "execution_count": 1,
   "metadata": {},
   "outputs": [
    {
     "name": "stdout",
     "output_type": "stream",
     "text": [
      "Data saved to molecular_samples.csv\n"
     ]
    }
   ],
   "source": [
    "import numpy as np\n",
    "import pandas as pd\n",
    "\n",
    "# 设置随机种子以保证可复现性\n",
    "np.random.seed(42)\n",
    "\n",
    "# 生成模拟数据：不同类别的分子\n",
    "cluster_1 = np.random.normal(loc=[5, 50], scale=[1.5, 10], size=(40, 2))  # 类别1\n",
    "cluster_2 = np.random.normal(loc=[15, 100], scale=[2, 15], size=(40, 2))  # 类别2\n",
    "cluster_3 = np.random.normal(loc=[25, 150], scale=[2.5, 20], size=(40, 2))  # 类别3\n",
    "\n",
    "# 合并所有数据点\n",
    "data = np.vstack([cluster_1, cluster_2, cluster_3])\n",
    "\n",
    "# 创建DataFrame保存数据\n",
    "df = pd.DataFrame(data, columns=['solubility', 'reactivity'])\n",
    "\n",
    "# 保存数据到CSV文件\n",
    "csv_filename = 'molecular_samples.csv'\n",
    "df.to_csv(csv_filename, index=False)\n",
    "\n",
    "print(f'Data saved to {csv_filename}')"
   ]
  }
 ],
 "metadata": {
  "kernelspec": {
   "display_name": "myenv",
   "language": "python",
   "name": "python3"
  },
  "language_info": {
   "codemirror_mode": {
    "name": "ipython",
    "version": 3
   },
   "file_extension": ".py",
   "mimetype": "text/x-python",
   "name": "python",
   "nbconvert_exporter": "python",
   "pygments_lexer": "ipython3",
   "version": "3.12.0"
  }
 },
 "nbformat": 4,
 "nbformat_minor": 2
}
