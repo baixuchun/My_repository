{
 "cells": [
  {
   "cell_type": "code",
   "execution_count": 2,
   "metadata": {},
   "outputs": [],
   "source": [
    "import csv\n",
    "import random\n",
    "\n",
    "header = [\"molecular_weight\", \"boiling_point\", \"flash_point\", \"solubility\", \"is_safe\"]\n",
    "rows = []\n",
    "\n",
    "for i in range(1000):\n",
    "    molecular_weight = random.uniform(100, 200)\n",
    "    boiling_point = random.uniform(90, 120)\n",
    "    flash_point = random.uniform(40, 50)\n",
    "    solubility = random.uniform(20, 30)\n",
    "    \n",
    "    # 假设化合物的特性满足某些条件时为安全\n",
    "    is_safe = 1 if boiling_point < 110 and flash_point > 42 else 0\n",
    "    \n",
    "    rows.append([molecular_weight, boiling_point, flash_point, solubility, is_safe])\n",
    "\n",
    "with open(\"chemicals.csv\", \"w\", newline=\"\") as f:\n",
    "    writer = csv.writer(f)\n",
    "    writer.writerow(header)\n",
    "    writer.writerows(rows)"
   ]
  }
 ],
 "metadata": {
  "kernelspec": {
   "display_name": "myenv",
   "language": "python",
   "name": "python3"
  },
  "language_info": {
   "codemirror_mode": {
    "name": "ipython",
    "version": 3
   },
   "file_extension": ".py",
   "mimetype": "text/x-python",
   "name": "python",
   "nbconvert_exporter": "python",
   "pygments_lexer": "ipython3",
   "version": "3.11.0"
  }
 },
 "nbformat": 4,
 "nbformat_minor": 2
}
