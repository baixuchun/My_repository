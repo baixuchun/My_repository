{
 "cells": [
  {
   "cell_type": "code",
   "execution_count": 2,
   "metadata": {},
   "outputs": [],
   "source": [
    "import numpy as np\n",
    "import pandas as pd\n",
    "\n",
    "# 产生模拟数据\n",
    "np.random.seed(42)\n",
    "\n",
    "# 生成模拟的温度和压力数据 (范围仅为示例)\n",
    "temperatures = np.random.uniform(20, 300, 1000)  # 20-300 K\n",
    "pressures = np.random.uniform(1, 10, 1000)  # 1-10 atm\n",
    "\n",
    "# 假设转化率与温度和压力有某种简单的线性关系加上噪声\n",
    "conversion_rates = 0.3 * temperatures + 0.5 * pressures + np.random.normal(0, 10, 1000)\n",
    "\n",
    "# 将数据转换为pandas DataFrame并保存为CSV文件\n",
    "data = pd.DataFrame({'Temperature': temperatures, 'Pressure': pressures, 'Conversion_Rate': conversion_rates})\n",
    "data.to_csv('conversion_data.csv', index=False)"
   ]
  }
 ],
 "metadata": {
  "kernelspec": {
   "display_name": "myenv",
   "language": "python",
   "name": "python3"
  },
  "language_info": {
   "codemirror_mode": {
    "name": "ipython",
    "version": 3
   },
   "file_extension": ".py",
   "mimetype": "text/x-python",
   "name": "python",
   "nbconvert_exporter": "python",
   "pygments_lexer": "ipython3",
   "version": "3.11.0"
  }
 },
 "nbformat": 4,
 "nbformat_minor": 2
}
