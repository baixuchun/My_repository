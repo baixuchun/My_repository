{
 "cells": [
  {
   "cell_type": "code",
   "execution_count": 1,
   "metadata": {},
   "outputs": [],
   "source": [
    "import pandas as pd\n",
    "import numpy as np\n",
    "\n",
    "np.random.seed(42)\n",
    "\n",
    "# 数据点数量\n",
    "n_samples = 1000\n",
    "\n",
    "# 随机生成Conductivity, Density, 和 Atomic_Radius\n",
    "Conductivity = np.random.rand(n_samples) * 10  # 假设0-10范围\n",
    "Density = np.random.rand(n_samples) * 5 + 1   # 假设密度范围为1-6\n",
    "Atomic_Radius = np.random.rand(n_samples) * 50 + 50  # 假设50-100范围\n",
    "\n",
    "# 基于某些简单规则为模拟数据添加标签，这只是为了创建一个模拟数据集，不一定有实际意义\n",
    "# 假设Conductivity > 5, Density < 3, Atomic_Radius > 70的化合物适合作为阳极材料\n",
    "is_anode_material = (Conductivity > 5) & (Density < 3) & (Atomic_Radius > 70)\n",
    "is_anode_material = is_anode_material.astype(int)\n",
    "\n",
    "# 创建DataFrame\n",
    "data = pd.DataFrame({\n",
    "    'Conductivity': Conductivity,\n",
    "    'Density': Density,\n",
    "    'Atomic_Radius': Atomic_Radius,\n",
    "    'is_anode_material': is_anode_material\n",
    "})\n",
    "\n",
    "# 保存为CSV文件\n",
    "data.to_csv(\"battery_compounds.csv\", index=False)\n"
   ]
  }
 ],
 "metadata": {
  "kernelspec": {
   "display_name": "myenv",
   "language": "python",
   "name": "python3"
  },
  "language_info": {
   "codemirror_mode": {
    "name": "ipython",
    "version": 3
   },
   "file_extension": ".py",
   "mimetype": "text/x-python",
   "name": "python",
   "nbconvert_exporter": "python",
   "pygments_lexer": "ipython3",
   "version": "3.11.0"
  }
 },
 "nbformat": 4,
 "nbformat_minor": 2
}
