{
 "cells": [
  {
   "cell_type": "code",
   "execution_count": 3,
   "metadata": {},
   "outputs": [
    {
     "data": {
      "text/plain": [
       "'catalyst_dataset.csv'"
      ]
     },
     "execution_count": 3,
     "metadata": {},
     "output_type": "execute_result"
    }
   ],
   "source": [
    "import pandas as pd\n",
    "import numpy as np\n",
    "\n",
    "# 假设数据集包括了催化剂的不同化学和物理特性\n",
    "np.random.seed(0)\n",
    "\n",
    "# 生成随机数据\n",
    "n_samples = 500  # 样本数量\n",
    "n_features = 10  # 特征数量，代表不同的化学和物理特性\n",
    "\n",
    "# 随机生成特性数据\n",
    "features = np.random.rand(n_samples, n_features)\n",
    "\n",
    "# 假设特征名称为Feature1, Feature2, ..., Feature10\n",
    "feature_names = [f'Feature{i+1}' for i in range(n_features)]\n",
    "\n",
    "# 将数据整合成DataFrame\n",
    "data = pd.DataFrame(features, columns=feature_names)\n",
    "\n",
    "# 保存数据到CSV文件\n",
    "csv_file_path = 'catalyst_dataset.csv'\n",
    "data.to_csv(csv_file_path, index=False)\n",
    "\n",
    "csv_file_path\n"
   ]
  }
 ],
 "metadata": {
  "kernelspec": {
   "display_name": "myenv",
   "language": "python",
   "name": "python3"
  },
  "language_info": {
   "codemirror_mode": {
    "name": "ipython",
    "version": 3
   },
   "file_extension": ".py",
   "mimetype": "text/x-python",
   "name": "python",
   "nbconvert_exporter": "python",
   "pygments_lexer": "ipython3",
   "version": "3.11.0"
  }
 },
 "nbformat": 4,
 "nbformat_minor": 2
}
