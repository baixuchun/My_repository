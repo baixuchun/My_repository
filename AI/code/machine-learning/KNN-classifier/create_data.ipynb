{
 "cells": [
  {
   "cell_type": "code",
   "execution_count": 2,
   "metadata": {},
   "outputs": [],
   "source": [
    "import numpy as np\n",
    "import pandas as pd\n",
    "from sklearn.datasets import make_blobs\n",
    "\n",
    "# 生成模拟数据\n",
    "# 假设有两个特征：原子半径和电负性\n",
    "X, y = make_blobs(n_samples=1000, centers=2, random_state=42, cluster_std=2.5)\n",
    "\n",
    "# 将数据转换为pandas DataFrame并保存为CSV文件\n",
    "data = pd.DataFrame(X, columns=['Atomic_Radius', 'Electronegativity'])\n",
    "data['Conductivity'] = y  # 0表示不导电，1表示导电\n",
    "data.to_csv('materials_data.csv', index=False)"
   ]
  }
 ],
 "metadata": {
  "kernelspec": {
   "display_name": "myenv",
   "language": "python",
   "name": "python3"
  },
  "language_info": {
   "codemirror_mode": {
    "name": "ipython",
    "version": 3
   },
   "file_extension": ".py",
   "mimetype": "text/x-python",
   "name": "python",
   "nbconvert_exporter": "python",
   "pygments_lexer": "ipython3",
   "version": "3.11.0"
  }
 },
 "nbformat": 4,
 "nbformat_minor": 2
}
