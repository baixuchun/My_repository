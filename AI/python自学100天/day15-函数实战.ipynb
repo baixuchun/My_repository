{
 "cells": [
  {
   "cell_type": "markdown",
   "metadata": {},
   "source": [
    "# 函数实战"
   ]
  },
  {
   "cell_type": "markdown",
   "metadata": {},
   "source": [
    "实战一：设计一个生成随机验证码的函数，验证码由数字和英文大小写字母构成，长度可以通过参数设置。"
   ]
  },
  {
   "cell_type": "code",
   "execution_count": null,
   "metadata": {},
   "outputs": [],
   "source": [
    "import random\n",
    "import string\n",
    "\n",
    "ALL_CHARS = string.digits + string.ascii_letters\n",
    "\n",
    "\n",
    "def generate_code(*, code_len=4):\n",
    "    \"\"\"\n",
    "    生成指定长度的验证码\n",
    "    :param code_len: 验证码的长度(默认4个字符)\n",
    "    :return: 由大小写英文字母和数字构成的随机验证码字符串\n",
    "    \"\"\"\n",
    "    return ''.join(random.choices(ALL_CHARS, k=code_len))"
   ]
  },
  {
   "cell_type": "markdown",
   "metadata": {},
   "source": [
    "\n",
    "> **说明1**：`string`模块的`digits`代表0到9的数字构成的字符串`'0123456789'`，`string`模块的`ascii_letters`代表大小写英文字母构成的字符串`'abcdefghijklmnopqrstuvwxyzABCDEFGHIJKLMNOPQRSTUVWXYZ'`。\n",
    ">\n",
    "> **说明2**：`random`模块的`sample`和`choices`函数都可以实现随机抽样，`sample`实现无放回抽样，这意味着抽样取出的元素是不重复的；`choices`实现有放回抽样，这意味着可能会重复选中某些元素。这两个函数的第一个参数代表抽样的总体，而参数`k`代表样本容量，需要说明的是`choices`函数的参数`k`是一个命名关键字参数，在传参时必须指定参数名。\n"
   ]
  },
  {
   "cell_type": "markdown",
   "metadata": {},
   "source": [
    "实战二：设计一个判断给定的大于1的正整数是不是质数的函数。质数是只能被1和自身整除的正整数（大于1），如果一个大于 1 的正整数 \n",
    "N\n",
    " 是质数，那就意味着在 2 到 \n",
    "N\n",
    "−\n",
    "1\n",
    " 之间都没有它的因子。"
   ]
  },
  {
   "cell_type": "code",
   "execution_count": null,
   "metadata": {},
   "outputs": [
    {
     "data": {
      "text/plain": [
       "False"
      ]
     },
     "execution_count": 3,
     "metadata": {},
     "output_type": "execute_result"
    }
   ],
   "source": [
    "def d(num):\n",
    "    a=True\n",
    "    for i in range(2,num):\n",
    "        if num%i==0:\n",
    "            a=False\n",
    "            break\n",
    "    return a"
   ]
  },
  {
   "cell_type": "markdown",
   "metadata": {},
   "source": [
    "实战三：设计计算两个正整数最大公约数和最小公倍数的函数。 \n",
    "x\n",
    " 和 \n",
    "y\n",
    " 的最大公约数是能够同时整除 \n",
    "x\n",
    " 和 \n",
    "y\n",
    " 的最大整数，如果 \n",
    "x\n",
    " 和 \n",
    "y\n",
    " 互质，那么它们的最大公约数为 1； \n",
    "x\n",
    " 和 \n",
    "y\n",
    " 的最小公倍数是能够同时被 \n",
    "x\n",
    " 和 \n",
    "y\n",
    " 整除的最小正整数，如果 \n",
    "x\n",
    " 和 \n",
    "y\n",
    " 互质，那么它们的最小公倍数为 \n",
    "x\n",
    "×\n",
    "y\n",
    " 。需要提醒大家注意的是，计算最大公约数和最小公倍数是两个不同的功能，应该设计成两个函数，而不是把两个功能放到同一个函数中。"
   ]
  },
  {
   "cell_type": "code",
   "execution_count": 19,
   "metadata": {},
   "outputs": [
    {
     "name": "stdout",
     "output_type": "stream",
     "text": [
      "6\n",
      "36\n",
      "3\n",
      "47424\n"
     ]
    }
   ],
   "source": [
    "def a(num1,num2):\n",
    "    for i in range(1,num1):\n",
    "        if num1%i==0 and num2%i==0:\n",
    "            aa=i\n",
    "    print(aa)\n",
    "\n",
    "def b(num1,num2):\n",
    "    if num1>num2:\n",
    "        num1,num2=num2,num1\n",
    "    for i in range(num2,num1*num2+1):\n",
    "        if i%num1==0 and i%num2==0:\n",
    "            print(i)\n",
    "            break\n",
    "a(12,18)\n",
    "b(12,18)\n",
    "a(18,3)\n",
    "b(912,832)"
   ]
  },
  {
   "cell_type": "markdown",
   "metadata": {},
   "source": [
    "上面这个代码有点垃圾，因为它是一个值一个值试验"
   ]
  },
  {
   "cell_type": "code",
   "execution_count": 17,
   "metadata": {},
   "outputs": [
    {
     "data": {
      "text/plain": [
       "1043689990815528"
      ]
     },
     "execution_count": 17,
     "metadata": {},
     "output_type": "execute_result"
    }
   ],
   "source": [
    "def lcm(x: int, y: int) -> int:\n",
    "    \"\"\"求最小公倍数\"\"\"\n",
    "    return x * y // gcd(x, y)\n",
    "\n",
    "\n",
    "def gcd(x: int, y: int) -> int:\n",
    "    \"\"\"求最大公约数\"\"\"\n",
    "    while y % x != 0:\n",
    "        x, y = y % x, x\n",
    "    return x\n",
    "lcm(9999999912,834952)"
   ]
  },
  {
   "cell_type": "markdown",
   "metadata": {},
   "source": [
    "假设样本数据保存一个列表中，设计计算样本数据描述性统计信息的函数。描述性统计信息通常包括：算术平均值、中位数、极差（最大值和最小值的差）、方差、标准差、变异系数等，计算公式如下所示。\n",
    "\n",
    "样本均值（sample mean）：\n",
    "\n",
    "$$\n",
    "\\bar{x} = \\frac{\\sum_{i=1}^{n}x_{i}}{n} = \\frac{x_{1}+x_{2}+\\cdots +x_{n}}{n}\n",
    "$$\n",
    "\n",
    "样本方差（sample variance）：\n",
    "\n",
    "$$\n",
    "s^2 = \\frac {\\sum_{i=1}^{n}(x_i - \\bar{x})^2} {n-1}\n",
    "$$\n",
    "\n",
    "样本标准差（sample standard deviation）：\n",
    "\n",
    "$$\n",
    "s = \\sqrt{\\frac{\\sum_{i=1}^{n}(x_i - \\bar{x})^2}{n-1}}\n",
    "$$\n",
    "\n",
    "变异系数（coefficient of sample variation）：\n",
    "\n",
    "$$\n",
    "CV = \\frac{s}{\\bar{x}}\n",
    "$$\n"
   ]
  },
  {
   "cell_type": "code",
   "execution_count": null,
   "metadata": {},
   "outputs": [
    {
     "name": "stdout",
     "output_type": "stream",
     "text": [
      "2.5\n",
      "1.6666666666666667\n",
      "1.2909944487358056\n",
      "0.5163977794943222\n"
     ]
    }
   ],
   "source": [
    "def sm(*num):\n",
    "    return sum(num)/len(num)\n",
    "def sv(*num):\n",
    "    sm=sum(num)/len(num)\n",
    "    a=[(b-sm)**2 for b in num] #一个星号默认生成的是元组，元组是不可变集合，所以不能直接相加减，所以要生成一个新的列表\n",
    "    return sum(a)/(len(num)-1)\n",
    "def sad(*num):\n",
    "    return sv(*num)**0.5\n",
    "def cav(*num):\n",
    "    return sad(*num)/sm(*num)\n",
    "\n",
    "    \n",
    "print(sm(1,2,3,4))\n",
    "print(sv(1,2,3,4))\n",
    "print(sad(1,2,3,4))\n",
    "print(cav(1,2,3,4))"
   ]
  }
 ],
 "metadata": {
  "kernelspec": {
   "display_name": "base",
   "language": "python",
   "name": "python3"
  },
  "language_info": {
   "codemirror_mode": {
    "name": "ipython",
    "version": 3
   },
   "file_extension": ".py",
   "mimetype": "text/x-python",
   "name": "python",
   "nbconvert_exporter": "python",
   "pygments_lexer": "ipython3",
   "version": "3.12.4"
  }
 },
 "nbformat": 4,
 "nbformat_minor": 2
}
