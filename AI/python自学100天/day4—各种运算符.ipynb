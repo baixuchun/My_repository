{
 "cells": [
  {
   "cell_type": "markdown",
   "metadata": {},
   "source": [
    "## 知识点"
   ]
  },
  {
   "cell_type": "markdown",
   "metadata": {},
   "source": [
    "运算符包括：算数运算符、赋值运算符、逻辑运算符和条件运算符"
   ]
  },
  {
   "cell_type": "markdown",
   "metadata": {},
   "source": [
    "### 算数运算符"
   ]
  },
  {
   "cell_type": "code",
   "execution_count": null,
   "metadata": {},
   "outputs": [],
   "source": [
    "print(321 + 12)     # 加法运算，输出333\n",
    "print(321 - 12)     # 减法运算，输出309\n",
    "print(321 * 12)     # 乘法运算，输出3852\n",
    "print(321 / 12)     # 除法运算，输出26.75\n",
    "print(321 // 12)    # 整除运算，输出26\n",
    "print(321 % 12)     # 求模运算（求余数6），输出9 \n",
    "print(321 ** 12)    # 求幂运算，输出1196906950228928915420617322241"
   ]
  },
  {
   "cell_type": "markdown",
   "metadata": {},
   "source": [
    "### 赋值运算符"
   ]
  },
  {
   "cell_type": "code",
   "execution_count": 2,
   "metadata": {},
   "outputs": [
    {
     "name": "stdout",
     "output_type": "stream",
     "text": [
      "195\n"
     ]
    }
   ],
   "source": [
    "a = 10\n",
    "b = 3\n",
    "a += b        # 相当于：a = a + b\n",
    "a *= a + 2    # 相当于：a = a * (a + 2)\n",
    "print(a)      # 大家算一下这里会输出什么"
   ]
  },
  {
   "cell_type": "markdown",
   "metadata": {},
   "source": [
    "### 条件运算符和逻辑运算符"
   ]
  },
  {
   "cell_type": "code",
   "execution_count": null,
   "metadata": {},
   "outputs": [],
   "source": [
    "flag0 = 1 == 1\n",
    "flag1 = 3 > 2\n",
    "flag2 = 2 < 1\n",
    "flag3 = flag1 and flag2\n",
    "flag4 = flag1 or flag2\n",
    "flag5 = not flag0\n",
    "print('flag0 =', flag0)     # flag0 = True\n",
    "print('flag1 =', flag1)     # flag1 = True\n",
    "print('flag2 =', flag2)     # flag2 = False\n",
    "print('flag3 =', flag3)     # flag3 = False\n",
    "print('flag4 =', flag4)     # flag4 = True\n",
    "print('flag5 =', flag5)     # flag5 = False\n",
    "print(flag1 and not flag2)  # True\n",
    "print(1 > 2 or 2 == 3)      # False"
   ]
  },
  {
   "cell_type": "markdown",
   "metadata": {},
   "source": [
    "## 练习题"
   ]
  },
  {
   "cell_type": "markdown",
   "metadata": {},
   "source": [
    "### 第一题\n",
    "要求：输入华氏温度将其转换为摄氏温度，华氏温度到摄氏温度的转换公式为： \n",
    "C=(F−32)/1.8。"
   ]
  },
  {
   "cell_type": "code",
   "execution_count": 35,
   "metadata": {},
   "outputs": [
    {
     "name": "stdout",
     "output_type": "stream",
     "text": [
      "76.0华氏度转换为摄氏度为：24.44摄氏度\n"
     ]
    }
   ],
   "source": [
    "f=float(input('请输入华氏度数值')) #input输入、float转换为浮点数\n",
    "c=(f-32)/1.8\n",
    "print('%.1f华氏度转换为摄氏度为：%.2f摄氏度'%(f,c)) # %f是浮点数占位符，.1表示小数点后一位"
   ]
  },
  {
   "cell_type": "markdown",
   "metadata": {},
   "source": [
    "### 第二题\n",
    "要求：输入一个圆的半径，计算出它的周长（ 2πr ）和面积（ πr<sup>2</sup> ）。"
   ]
  },
  {
   "cell_type": "code",
   "execution_count": 12,
   "metadata": {},
   "outputs": [
    {
     "name": "stdout",
     "output_type": "stream",
     "text": [
      "半径为12.0cm的圆的周长是75cm,面积是452.4cm²\n"
     ]
    }
   ],
   "source": [
    "import math\n",
    "r=float(input('请输入圆的半径'))\n",
    "c=2*r*math.pi #pi的表示\n",
    "s=math.pi*(r**2)\n",
    "print(\"半径为%.1fcm的圆的周长是%.fcm,面积是%.1fcm²\"%(r,c,s))"
   ]
  },
  {
   "cell_type": "markdown",
   "metadata": {},
   "source": [
    "### 第三题\n",
    "要求：输入一个 1582 年以后的年份，判断该年份是不是闰年。"
   ]
  },
  {
   "cell_type": "code",
   "execution_count": 34,
   "metadata": {},
   "outputs": [
    {
     "name": "stdout",
     "output_type": "stream",
     "text": [
      "2025年不是闰年\n"
     ]
    }
   ],
   "source": [
    "year=int(input('请输入年份'))\n",
    "a=year%4\n",
    "b=year%100\n",
    "c=year%400\n",
    "condition=(a==0 and b!=0)or(c==0) #bool判断\n",
    "print(\"%d年%s闰年\"%(year,\"是\"if condition else '不是')) #\"是\"if condition else '不是'，True显示是，False显示不是。%d是整数占字符"
   ]
  },
  {
   "cell_type": "markdown",
   "metadata": {},
   "source": [
    "## 整理"
   ]
  },
  {
   "cell_type": "markdown",
   "metadata": {},
   "source": [
    "### 1.占字符\n",
    "%d，%f，%s分别是整数、浮点数和字符串占字符。对于%f，在中间加入.1就可以控制小数点位数"
   ]
  },
  {
   "cell_type": "markdown",
   "metadata": {},
   "source": [
    "占字符的使用方法  “%d是整数，%f是浮点数，%s是字符串”%（200，200.2，字符）"
   ]
  },
  {
   "cell_type": "markdown",
   "metadata": {},
   "source": [
    "还有一种占字符，f‘{a=}‘,这种形式可以同时显示变量名和变量值，但前面要出现a="
   ]
  },
  {
   "cell_type": "markdown",
   "metadata": {},
   "source": [
    "### 2.条件表达式\n",
    "“A” if condotion else “B”"
   ]
  },
  {
   "cell_type": "markdown",
   "metadata": {},
   "source": [
    "A是符合条件的表达，B是不符合条件的表达，condotion可以用逻辑运算来设定"
   ]
  }
 ],
 "metadata": {
  "kernelspec": {
   "display_name": "base",
   "language": "python",
   "name": "python3"
  },
  "language_info": {
   "codemirror_mode": {
    "name": "ipython",
    "version": 3
   },
   "file_extension": ".py",
   "mimetype": "text/x-python",
   "name": "python",
   "nbconvert_exporter": "python",
   "pygments_lexer": "ipython3",
   "version": "3.12.4"
  }
 },
 "nbformat": 4,
 "nbformat_minor": 2
}
