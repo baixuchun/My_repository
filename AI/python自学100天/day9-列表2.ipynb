{
 "cells": [
  {
   "cell_type": "markdown",
   "metadata": {},
   "source": [
    "# 列表2"
   ]
  },
  {
   "cell_type": "markdown",
   "metadata": {},
   "source": [
    "## 列表的方法"
   ]
  },
  {
   "cell_type": "markdown",
   "metadata": {},
   "source": [
    "列表类型的变量拥有很多方法可以帮助我们操作一个列表，假设我们有名为foos的列表，列表有名为bar的方法，那么使用列表方法的语法是：foos.bar()，这是一种通过对象引用调用对象方法的语法。后面我们讲面向对象编程的时候，还会对这种语法进行详细的讲解，这种语法也称为给对象发消息。  \n",
    "也就是说：**列表.方法**"
   ]
  },
  {
   "cell_type": "markdown",
   "metadata": {},
   "source": [
    "### 添加和删除元素"
   ]
  },
  {
   "cell_type": "markdown",
   "metadata": {},
   "source": [
    "列表是一种可变容器，可变容器指的是我们可以向容器中添加元素、可以从容器移除元素，也可以修改现有容器中的元素。\n",
    "  \n",
    "    \n",
    "我们可以使用列表的**append方法**向列表中**追加元素**，追加指的是将元素添加到列表的末尾。 \n",
    "\n",
    "\n",
    "使用**insert方法**向列表中**插入元素**，插入是在指定的位置添加新元素。"
   ]
  },
  {
   "cell_type": "code",
   "execution_count": null,
   "metadata": {},
   "outputs": [],
   "source": [
    "languages = ['Python', 'Java', 'C++']\n",
    "languages.append('JavaScript')\n",
    "print(languages)  # ['Python', 'Java', 'C++', 'JavaScript']\n",
    "languages.insert(1, 'SQL')\n",
    "print(languages)  # ['Python', 'SQL', 'Java', 'C++', 'JavaScript']"
   ]
  },
  {
   "cell_type": "markdown",
   "metadata": {},
   "source": [
    "我们可以用列表的**remove方法**从列表中**删除指定元素**，需要注意的是，如果要删除的元素并不在列表中，会引发ValueError错误导致程序崩溃，所以建议大家在删除元素时，先用之前讲过的成员运算做一个判断。  \n",
    "  \n",
    "我们还可以使用**pop方法**从列表中删除元素，pop方法**默认删除列表中的最后一个元素，当然也可以给一个位置，删除指定位置的元素**。在使用pop方法删除元素时，如果索引的值超出了范围，会引发IndexError异常，导致程序崩溃。  \n",
    "    \n",
    "除此之外，列表还有一个**clear方法**，可以**清空列表中的元素**，代码如下所示。"
   ]
  },
  {
   "cell_type": "code",
   "execution_count": null,
   "metadata": {},
   "outputs": [],
   "source": [
    "languages = ['Python', 'SQL', 'Java', 'C++', 'JavaScript']\n",
    "if 'Java' in languages:\n",
    "    languages.remove('Java')\n",
    "if 'Swift' in languages:\n",
    "    languages.remove('Swift')\n",
    "print(languages)  # ['Python', 'SQL', C++', 'JavaScript']\n",
    "languages.pop()\n",
    "temp = languages.pop(1)\n",
    "print(temp)       # SQL\n",
    "languages.append(temp)\n",
    "print(languages)  # ['Python', C++', 'SQL']\n",
    "languages.clear()\n",
    "print(languages)  # []"
   ]
  },
  {
   "cell_type": "markdown",
   "metadata": {},
   "source": [
    "说明：pop方法删除元素时会得到被删除的元素，上面的代码中，我们将pop方法删除的元素赋值给了名为temp的变量。当然如果你愿意，还可以把这个元素再次加入到列表中，正如上面的代码languages.append(temp)所做的那样。"
   ]
  },
  {
   "cell_type": "markdown",
   "metadata": {},
   "source": [
    "这里还有一个小问题，例如languages列表中有多个'Python'，那么我们用languages.remove('Python')是删除所有的'Python'，还是删除第一个'Python'，大家可以先猜一猜，然后再自己动手尝试一下。"
   ]
  },
  {
   "cell_type": "code",
   "execution_count": 2,
   "metadata": {},
   "outputs": [
    {
     "name": "stdout",
     "output_type": "stream",
     "text": [
      "['python', 'asd', 'qwe']\n"
     ]
    }
   ],
   "source": [
    "a=['python','python','asd','qwe']\n",
    "a.remove('python')\n",
    "print(a)"
   ]
  },
  {
   "cell_type": "markdown",
   "metadata": {},
   "source": [
    "上面的例子说明，如果列表中含有多个相同元素，采用remove只能删除其中一个元素。"
   ]
  },
  {
   "cell_type": "markdown",
   "metadata": {},
   "source": [
    "### 元素位置及频次"
   ]
  },
  {
   "cell_type": "markdown",
   "metadata": {},
   "source": [
    "列表的index方法可以查找某个元素在列表中的索引位置，如果找不到指定的元素，index方法会引发ValueError错误；列表的count方法可以统计一个元素在列表中出现的次数，代码如下所示。"
   ]
  },
  {
   "cell_type": "code",
   "execution_count": null,
   "metadata": {},
   "outputs": [],
   "source": [
    "items = ['Python', 'Java', 'Java', 'C++', 'Kotlin', 'Python']\n",
    "print(items.index('Python'))     # 0\n",
    "# 从索引位置1开始查找'Python'\n",
    "print(items.index('Python', 1))  # 5\n",
    "print(items.count('Python'))     # 2\n",
    "print(items.count('Kotlin'))     # 1\n",
    "print(items.count('Swfit'))      # 0\n",
    "# 从索引位置3开始查找'Java'\n",
    "print(items.index('Java', 3))    # ValueError: 'Java' is not in list"
   ]
  },
  {
   "cell_type": "markdown",
   "metadata": {},
   "source": [
    "index命令只能按照你指定的位置找到第一个相应元素。"
   ]
  },
  {
   "cell_type": "markdown",
   "metadata": {},
   "source": [
    "### 元素的排序和反转"
   ]
  },
  {
   "cell_type": "markdown",
   "metadata": {},
   "source": [
    "列表的sort操作可以实现列表元素的排序，而reverse操作可以实现元素的反转，代码如下所示。"
   ]
  },
  {
   "cell_type": "code",
   "execution_count": null,
   "metadata": {},
   "outputs": [],
   "source": [
    "items = ['Python', 'Java', 'C++', 'Kotlin', 'Swift']\n",
    "items.sort()\n",
    "print(items)  # ['C++', 'Java', 'Kotlin', 'Python', 'Swift'] 是按照字母顺序排序的\n",
    "items.reverse()\n",
    "print(items)  # ['Swift', 'Python', 'Kotlin', 'Java', 'C++']"
   ]
  },
  {
   "cell_type": "markdown",
   "metadata": {},
   "source": [
    "## 列表生成式"
   ]
  },
  {
   "cell_type": "markdown",
   "metadata": {},
   "source": [
    "在 Python 中，**列表还可以通过一种特殊的字面量语法来创建，这种语法叫做生成式**。下面，我们通过例子来说明使用列表生成式创建列表到底有什么好处。"
   ]
  },
  {
   "cell_type": "markdown",
   "metadata": {},
   "source": [
    "**场景一**：创建一个取值范围在1到99且能被3或者5整除的数字构成的列表。"
   ]
  },
  {
   "cell_type": "code",
   "execution_count": null,
   "metadata": {},
   "outputs": [],
   "source": [
    "items = []\n",
    "for i in range(1, 100):\n",
    "    if i % 3 == 0 or i % 5 == 0:\n",
    "        items.append(i)\n",
    "print(items)"
   ]
  },
  {
   "cell_type": "markdown",
   "metadata": {},
   "source": [
    "使用列表生成式做同样的事情，代码如下所示。"
   ]
  },
  {
   "cell_type": "code",
   "execution_count": null,
   "metadata": {},
   "outputs": [],
   "source": [
    "items = [i for i in range(1, 100) if i % 3 == 0 or i % 5 == 0]\n",
    "print(items)"
   ]
  },
  {
   "cell_type": "markdown",
   "metadata": {},
   "source": [
    "**场景二**：有一个整数列表nums1，创建一个新的列表nums2，nums2中的元素是nums1中对应元素的平方。"
   ]
  },
  {
   "cell_type": "code",
   "execution_count": 16,
   "metadata": {},
   "outputs": [
    {
     "name": "stdout",
     "output_type": "stream",
     "text": [
      "[1225, 144, 9409, 4096, 3025]\n"
     ]
    }
   ],
   "source": [
    "nums1=[35, 12, 97, 64, 55]\n",
    "for i in range(0,5):\n",
    "    a=nums1.pop(0)\n",
    "    b=a**2\n",
    "    nums1.append(b)\n",
    "nums2=nums1\n",
    "print(nums2)"
   ]
  },
  {
   "cell_type": "markdown",
   "metadata": {},
   "source": [
    "下面是标准方法"
   ]
  },
  {
   "cell_type": "code",
   "execution_count": 10,
   "metadata": {},
   "outputs": [
    {
     "name": "stdout",
     "output_type": "stream",
     "text": [
      "[1225, 144, 9409, 4096, 3025]\n"
     ]
    }
   ],
   "source": [
    "nums1 = [35, 12, 97, 64, 55]\n",
    "nums2 = []\n",
    "for num in nums1:\n",
    "    nums2.append(num ** 2)\n",
    "print(nums2)"
   ]
  },
  {
   "cell_type": "markdown",
   "metadata": {},
   "source": [
    "使用列表生成式做同样的事情，代码如下所示。"
   ]
  },
  {
   "cell_type": "code",
   "execution_count": null,
   "metadata": {},
   "outputs": [],
   "source": [
    "nums1 = [35, 12, 97, 64, 55]\n",
    "nums2 = [num ** 2 for num in nums1]\n",
    "print(nums2)"
   ]
  },
  {
   "cell_type": "markdown",
   "metadata": {},
   "source": [
    "**场景三**：一个整数列表nums1，创建一个新的列表nums2，将nums1中大于50的元素放到nums2中。"
   ]
  },
  {
   "cell_type": "code",
   "execution_count": 19,
   "metadata": {},
   "outputs": [
    {
     "name": "stdout",
     "output_type": "stream",
     "text": [
      "[97, 64, 55]\n"
     ]
    }
   ],
   "source": [
    "nums1 = [35, 12, 97, 64, 55]\n",
    "nums2=[]\n",
    "for num in nums1:\n",
    "    if num >50:\n",
    "        nums2.append(num)\n",
    "print(nums2)"
   ]
  },
  {
   "cell_type": "markdown",
   "metadata": {},
   "source": [
    "使用列表生成式做同样的事情，代码如下所示。"
   ]
  },
  {
   "cell_type": "code",
   "execution_count": 21,
   "metadata": {},
   "outputs": [
    {
     "name": "stdout",
     "output_type": "stream",
     "text": [
      "[97, 64, 55]\n"
     ]
    }
   ],
   "source": [
    "nums1 = [35, 12, 97, 64, 55]\n",
    "nums2=[num for num in nums1 if num >50]\n",
    "print(nums2)"
   ]
  },
  {
   "cell_type": "markdown",
   "metadata": {},
   "source": [
    "## 嵌套列表"
   ]
  },
  {
   "cell_type": "markdown",
   "metadata": {},
   "source": [
    "Python 语言没有限定列表中的元素必须是相同的数据类型，也就是说一个列表中的元素可以任意的数据类型，当然也包括列表本身。如果列表中的元素也是列表，那么我们可以称之为嵌套的列表。嵌套的列表可以用来表示表格或数学上的矩阵，例如：我们想保存5个学生3门课程的成绩，可以用如下所示的列表。"
   ]
  },
  {
   "cell_type": "code",
   "execution_count": null,
   "metadata": {},
   "outputs": [],
   "source": [
    "scores = [[95, 83, 92], [80, 75, 82], [92, 97, 90], [80, 78, 69], [65, 66, 89]]\n",
    "print(scores[0])\n",
    "print(scores[0][1])"
   ]
  },
  {
   "cell_type": "markdown",
   "metadata": {},
   "source": [
    "对于上面的嵌套列表，每个元素相当于就是一个学生3门课程的成绩，例如[95, 83, 92]，而这个列表中的83代表了这个学生某一门课的成绩，如果想访问这个值，可以使用两次索引运算scores[0][1]，其中scores[0]可以得到[95, 83, 92]这个列表，再次使用索引运算[1]就可以获得该列表中的第二个元素。"
   ]
  },
  {
   "cell_type": "markdown",
   "metadata": {},
   "source": [
    "如果想通过键盘输入的方式来录入5个学生3门课程的成绩并保存在列表中，可以使用如下所示的代码。"
   ]
  },
  {
   "cell_type": "code",
   "execution_count": null,
   "metadata": {},
   "outputs": [],
   "source": [
    "scores = []\n",
    "for _ in range(5):\n",
    "    temp = []\n",
    "    for _ in range(3):\n",
    "        score = int(input('请输入: '))\n",
    "        temp.append(score)\n",
    "    scores.append(temp)\n",
    "print(scores)"
   ]
  },
  {
   "cell_type": "markdown",
   "metadata": {},
   "source": [
    "如果想通过产生随机数的方式来生成5个学生3门课程的成绩并保存在列表中，我们可以使用列表生成式，代码如下所示。"
   ]
  },
  {
   "cell_type": "code",
   "execution_count": 35,
   "metadata": {},
   "outputs": [
    {
     "data": {
      "text/html": [
       "<pre style=\"white-space:pre;overflow-x:auto;line-height:normal;font-family:Menlo,'DejaVu Sans Mono',consolas,'Courier New',monospace\"><span style=\"font-weight: bold\">[[</span><span style=\"color: #008080; text-decoration-color: #008080; font-weight: bold\">93</span>, <span style=\"color: #008080; text-decoration-color: #008080; font-weight: bold\">89</span>, <span style=\"color: #008080; text-decoration-color: #008080; font-weight: bold\">96</span><span style=\"font-weight: bold\">]</span>, <span style=\"font-weight: bold\">[</span><span style=\"color: #008080; text-decoration-color: #008080; font-weight: bold\">99</span>, <span style=\"color: #008080; text-decoration-color: #008080; font-weight: bold\">74</span>, <span style=\"color: #008080; text-decoration-color: #008080; font-weight: bold\">87</span><span style=\"font-weight: bold\">]</span>, <span style=\"font-weight: bold\">[</span><span style=\"color: #008080; text-decoration-color: #008080; font-weight: bold\">96</span>, <span style=\"color: #008080; text-decoration-color: #008080; font-weight: bold\">77</span>, <span style=\"color: #008080; text-decoration-color: #008080; font-weight: bold\">92</span><span style=\"font-weight: bold\">]</span>, <span style=\"font-weight: bold\">[</span><span style=\"color: #008080; text-decoration-color: #008080; font-weight: bold\">70</span>, <span style=\"color: #008080; text-decoration-color: #008080; font-weight: bold\">63</span>, <span style=\"color: #008080; text-decoration-color: #008080; font-weight: bold\">73</span><span style=\"font-weight: bold\">]</span>, <span style=\"font-weight: bold\">[</span><span style=\"color: #008080; text-decoration-color: #008080; font-weight: bold\">75</span>, <span style=\"color: #008080; text-decoration-color: #008080; font-weight: bold\">68</span>, <span style=\"color: #008080; text-decoration-color: #008080; font-weight: bold\">79</span><span style=\"font-weight: bold\">]]</span>\n",
       "</pre>\n"
      ],
      "text/plain": [
       "\u001b[1m[\u001b[0m\u001b[1m[\u001b[0m\u001b[1;36m93\u001b[0m, \u001b[1;36m89\u001b[0m, \u001b[1;36m96\u001b[0m\u001b[1m]\u001b[0m, \u001b[1m[\u001b[0m\u001b[1;36m99\u001b[0m, \u001b[1;36m74\u001b[0m, \u001b[1;36m87\u001b[0m\u001b[1m]\u001b[0m, \u001b[1m[\u001b[0m\u001b[1;36m96\u001b[0m, \u001b[1;36m77\u001b[0m, \u001b[1;36m92\u001b[0m\u001b[1m]\u001b[0m, \u001b[1m[\u001b[0m\u001b[1;36m70\u001b[0m, \u001b[1;36m63\u001b[0m, \u001b[1;36m73\u001b[0m\u001b[1m]\u001b[0m, \u001b[1m[\u001b[0m\u001b[1;36m75\u001b[0m, \u001b[1;36m68\u001b[0m, \u001b[1;36m79\u001b[0m\u001b[1m]\u001b[0m\u001b[1m]\u001b[0m\n"
      ]
     },
     "metadata": {},
     "output_type": "display_data"
    }
   ],
   "source": [
    "import random\n",
    "\n",
    "scores = [[random.randrange(60, 101) for _ in range(3)] for _ in range(5)]\n",
    "print(scores)"
   ]
  },
  {
   "cell_type": "markdown",
   "metadata": {},
   "source": [
    "说明：上面的代码[random.randrange(60, 101) for _ in range(3)] 可以产生由3个随机整数构成的列表，我们把这段代码又放在了另一个列表生成式中作为列表的元素，这样的元素一共生成5个，最终得到了一个嵌套列表。"
   ]
  },
  {
   "cell_type": "markdown",
   "metadata": {},
   "source": [
    "## 列表的应用"
   ]
  },
  {
   "cell_type": "markdown",
   "metadata": {},
   "source": [
    "下面我们通过一个双色球随机选号的例子为大家讲解列表的应用。双色球是由中国福利彩票发行管理中心发售的乐透型彩票，每注投注号码由6个红色球和1个蓝色球组成。红色球号码从1到33中选择，蓝色球号码从1到16中选择。每注需要选择6个红色球号码和1个蓝色球号码，如下所示。"
   ]
  },
  {
   "cell_type": "markdown",
   "metadata": {},
   "source": [
    "我的想法如下："
   ]
  },
  {
   "cell_type": "code",
   "execution_count": null,
   "metadata": {},
   "outputs": [
    {
     "name": "stdout",
     "output_type": "stream",
     "text": [
      "[[16, 12, 29, 24, 30, 14], [10]]\n"
     ]
    }
   ],
   "source": [
    "import random\n",
    "a=[]\n",
    "b=[]\n",
    "for _ in range (6):\n",
    "    red=random.randint(1,33)\n",
    "    a.append(red)\n",
    "blue=random.randint(1,16)\n",
    "b.append(blue)\n",
    "select=[a,b]\n",
    "print(select)\n"
   ]
  },
  {
   "cell_type": "markdown",
   "metadata": {},
   "source": [
    "作者的想法是："
   ]
  },
  {
   "cell_type": "code",
   "execution_count": 6,
   "metadata": {},
   "outputs": [
    {
     "data": {
      "text/html": [
       "<pre style=\"white-space:pre;overflow-x:auto;line-height:normal;font-family:Menlo,'DejaVu Sans Mono',consolas,'Courier New',monospace\">┏━━━━━━┳━━━━━━━━━━━━━━━━━━━┳━━━━━━┓\n",
       "┃<span style=\"font-weight: bold\"> 序号 </span>┃<span style=\"font-weight: bold\">       红球        </span>┃<span style=\"font-weight: bold\"> 蓝球 </span>┃\n",
       "┡━━━━━━╇━━━━━━━━━━━━━━━━━━━╇━━━━━━┩\n",
       "│  1   │ <span style=\"color: #800000; text-decoration-color: #800000\">07 11 14 18 24 29</span> │  <span style=\"color: #000080; text-decoration-color: #000080\">02</span>  │\n",
       "└──────┴───────────────────┴──────┘\n",
       "</pre>\n"
      ],
      "text/plain": [
       "┏━━━━━━┳━━━━━━━━━━━━━━━━━━━┳━━━━━━┓\n",
       "┃\u001b[1m \u001b[0m\u001b[1m序号\u001b[0m\u001b[1m \u001b[0m┃\u001b[1m \u001b[0m\u001b[1m      红球       \u001b[0m\u001b[1m \u001b[0m┃\u001b[1m \u001b[0m\u001b[1m蓝球\u001b[0m\u001b[1m \u001b[0m┃\n",
       "┡━━━━━━╇━━━━━━━━━━━━━━━━━━━╇━━━━━━┩\n",
       "│  1   │ \u001b[31m07 11 14 18 24 29\u001b[0m │  \u001b[34m02\u001b[0m  │\n",
       "└──────┴───────────────────┴──────┘\n"
      ]
     },
     "metadata": {},
     "output_type": "display_data"
    }
   ],
   "source": [
    "import random\n",
    "\n",
    "from rich.console import Console\n",
    "from rich.table import Table\n",
    "\n",
    "# 创建控制台\n",
    "console = Console()\n",
    "\n",
    "n = int(input('生成几注号码: '))\n",
    "red_balls = [i for i in range(1, 34)]\n",
    "blue_balls = [i for i in range(1, 17)]\n",
    "\n",
    "# 创建表格并添加表头\n",
    "table = Table(show_header=True)\n",
    "for col_name in ('序号', '红球', '蓝球'):\n",
    "    table.add_column(col_name, justify='center')\n",
    "\n",
    "for i in range(n):\n",
    "    selected_balls = random.sample(red_balls, 6)\n",
    "    selected_balls.sort()\n",
    "    blue_ball = random.choice(blue_balls)\n",
    "    # 向表格中添加行（序号，红色球，蓝色球）\n",
    "    table.add_row(\n",
    "        str(i + 1),\n",
    "        f'[red]{\" \".join([f\"{ball:0>2d}\" for ball in selected_balls])}[/red]',\n",
    "        f'[blue]{blue_ball:0>2d}[/blue]'\n",
    "    )\n",
    "\n",
    "# 通过控制台输出表格\n",
    "console.print(table)"
   ]
  },
  {
   "cell_type": "markdown",
   "metadata": {},
   "source": [
    "最后这个调颜色可以先不用学习"
   ]
  }
 ],
 "metadata": {
  "kernelspec": {
   "display_name": "base",
   "language": "python",
   "name": "python3"
  },
  "language_info": {
   "codemirror_mode": {
    "name": "ipython",
    "version": 3
   },
   "file_extension": ".py",
   "mimetype": "text/x-python",
   "name": "python",
   "nbconvert_exporter": "python",
   "pygments_lexer": "ipython3",
   "version": "3.12.4"
  }
 },
 "nbformat": 4,
 "nbformat_minor": 2
}
