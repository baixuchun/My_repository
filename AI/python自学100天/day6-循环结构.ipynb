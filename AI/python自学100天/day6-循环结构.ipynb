{
 "cells": [
  {
   "cell_type": "markdown",
   "metadata": {},
   "source": [
    "# 循环结构"
   ]
  },
  {
   "cell_type": "markdown",
   "metadata": {},
   "source": [
    "python中循环结构有两种，第一种是for-in结构，第二种是while结构"
   ]
  },
  {
   "cell_type": "markdown",
   "metadata": {},
   "source": [
    "# for-in结构\n",
    "适合已知循环次数的结构"
   ]
  },
  {
   "cell_type": "code",
   "execution_count": null,
   "metadata": {},
   "outputs": [],
   "source": [
    "import time\n",
    "for i in range(3600):  #这里面变量可以先忽略掉，把i换成下划线也可以的\n",
    "    print(\"循环结构\")\n",
    "    time.sleep(1)  #time.sleep会让程序会暂停一秒"
   ]
  },
  {
   "cell_type": "markdown",
   "metadata": {},
   "source": [
    "range结构详解"
   ]
  },
  {
   "cell_type": "code",
   "execution_count": null,
   "metadata": {},
   "outputs": [],
   "source": [
    "range(101)  #产生从0到100的整数，注意取不到101，左边默认是0\n",
    "range(1,101) #产生从1到100的整数，两个数字代表从左边的数字到右边的数字，右边的取不到\n",
    "range(1,101,2)#产生从1到100的，间隔为2的整数，1，3，...，同样的101取不到\n",
    "range(101,0,-2)#从101取到1的数字，间距为-2"
   ]
  },
  {
   "cell_type": "markdown",
   "metadata": {},
   "source": [
    "## 案例一\n",
    "用for-in循环实现从 1 到 100 的整数求和，即$\\sum_{n=1}^{100} n$\n"
   ]
  },
  {
   "cell_type": "code",
   "execution_count": null,
   "metadata": {},
   "outputs": [],
   "source": [
    "sum=0\n",
    "for i in range(1,101):\n",
    "    sum += i\n",
    "    print(sum)"
   ]
  },
  {
   "cell_type": "markdown",
   "metadata": {},
   "source": [
    "# while结构"
   ]
  },
  {
   "cell_type": "markdown",
   "metadata": {},
   "source": [
    "while适合构造不清楚循环次数的结构"
   ]
  },
  {
   "cell_type": "markdown",
   "metadata": {},
   "source": [
    "## 案例二\n",
    "用while循环来实现从 1 到 100 的整数求和"
   ]
  },
  {
   "cell_type": "code",
   "execution_count": 19,
   "metadata": {},
   "outputs": [
    {
     "name": "stdout",
     "output_type": "stream",
     "text": [
      "5050\n"
     ]
    }
   ],
   "source": [
    "sum=0\n",
    "i=1\n",
    "while i<=100:\n",
    "    sum+=i\n",
    "    i+=1\n",
    "if i==101:\n",
    "        print(sum)"
   ]
  },
  {
   "cell_type": "markdown",
   "metadata": {},
   "source": [
    "## 案例三\n",
    "从1到100的偶数求和"
   ]
  },
  {
   "cell_type": "code",
   "execution_count": 21,
   "metadata": {},
   "outputs": [
    {
     "name": "stdout",
     "output_type": "stream",
     "text": [
      "2550\n"
     ]
    }
   ],
   "source": [
    "sum=0\n",
    "i=2\n",
    "while i<=100:\n",
    "    sum+=i\n",
    "    i+=2\n",
    "if i==102:\n",
    "    print(sum)\n"
   ]
  },
  {
   "cell_type": "markdown",
   "metadata": {},
   "source": [
    "# break和continue结构"
   ]
  },
  {
   "cell_type": "markdown",
   "metadata": {},
   "source": [
    "使用break结构重新计算1到100的偶数"
   ]
  },
  {
   "cell_type": "code",
   "execution_count": 26,
   "metadata": {},
   "outputs": [
    {
     "name": "stdout",
     "output_type": "stream",
     "text": [
      "2550\n"
     ]
    }
   ],
   "source": [
    "sum=0\n",
    "i=2\n",
    "while True:  #while True: 是一个无限循环语句，没有遇到break是不会停止的\n",
    "    sum+=i\n",
    "    i+=2\n",
    "    if i>100:\n",
    "      break\n",
    "print(sum)"
   ]
  },
  {
   "cell_type": "code",
   "execution_count": 29,
   "metadata": {},
   "outputs": [
    {
     "name": "stdout",
     "output_type": "stream",
     "text": [
      "2550\n"
     ]
    }
   ],
   "source": [
    "sum=0\n",
    "i=0\n",
    "for i in range(1,101):   # continue结构是持续结果\n",
    "    if i%2!=0:\n",
    "        continue\n",
    "    sum+=i\n",
    "print(sum)"
   ]
  },
  {
   "cell_type": "markdown",
   "metadata": {},
   "source": [
    "## 案例四\n",
    "打出九九乘法表"
   ]
  },
  {
   "cell_type": "code",
   "execution_count": 30,
   "metadata": {},
   "outputs": [
    {
     "name": "stdout",
     "output_type": "stream",
     "text": [
      "1×1=1\t\n",
      "2×1=2\t2×2=4\t\n",
      "3×1=3\t3×2=6\t3×3=9\t\n",
      "4×1=4\t4×2=8\t4×3=12\t4×4=16\t\n",
      "5×1=5\t5×2=10\t5×3=15\t5×4=20\t5×5=25\t\n",
      "6×1=6\t6×2=12\t6×3=18\t6×4=24\t6×5=30\t6×6=36\t\n",
      "7×1=7\t7×2=14\t7×3=21\t7×4=28\t7×5=35\t7×6=42\t7×7=49\t\n",
      "8×1=8\t8×2=16\t8×3=24\t8×4=32\t8×5=40\t8×6=48\t8×7=56\t8×8=64\t\n",
      "9×1=9\t9×2=18\t9×3=27\t9×4=36\t9×5=45\t9×6=54\t9×7=63\t9×8=72\t9×9=81\t\n"
     ]
    }
   ],
   "source": [
    "for i in range(1, 10):\n",
    "    for j in range(1, i + 1):\n",
    "        print(f'{i}×{j}={i * j}', end='\\t')\n",
    "    print()"
   ]
  },
  {
   "cell_type": "markdown",
   "metadata": {},
   "source": [
    "# 练习题"
   ]
  },
  {
   "cell_type": "markdown",
   "metadata": {},
   "source": [
    "## 练习一"
   ]
  },
  {
   "cell_type": "markdown",
   "metadata": {},
   "source": [
    "要求：输入一个大于 1 的正整数，判断它是不是素数。"
   ]
  },
  {
   "cell_type": "code",
   "execution_count": 74,
   "metadata": {},
   "outputs": [
    {
     "name": "stdout",
     "output_type": "stream",
     "text": [
      "1007不是素数\n"
     ]
    }
   ],
   "source": [
    "a=int(input(\"请输入正整数\"))\n",
    "i=2\n",
    "while i<a:\n",
    "    if a%i==0:\n",
    "            i=a+1\n",
    "            print(f'{a}不是素数')\n",
    "    else:\n",
    "        i+=1\n",
    "if i==a:\n",
    "    print(f'{a}是素数')\n",
    "\n"
   ]
  },
  {
   "cell_type": "markdown",
   "metadata": {},
   "source": [
    "标准答案，这里运用bool值来赋予变量，最后通过判断bool值来用if判断给出结果"
   ]
  },
  {
   "cell_type": "code",
   "execution_count": null,
   "metadata": {},
   "outputs": [],
   "source": [
    "num = int(input('请输入一个正整数: '))\n",
    "end = int(num ** 0.5)\n",
    "is_prime = True\n",
    "for i in range(2, end + 1):\n",
    "    if num % i == 0:\n",
    "        is_prime = False\n",
    "        break\n",
    "if is_prime:\n",
    "    print(f'{num}是素数')\n",
    "else:\n",
    "    print(f'{num}不是素数')"
   ]
  },
  {
   "cell_type": "markdown",
   "metadata": {},
   "source": [
    "## 练习二\n",
    "要求：输入两个大于 0 的正整数，求两个数的最大公约数。"
   ]
  },
  {
   "cell_type": "code",
   "execution_count": 6,
   "metadata": {},
   "outputs": [
    {
     "name": "stdout",
     "output_type": "stream",
     "text": [
      "3150和2520的最大公约数是630\n"
     ]
    }
   ],
   "source": [
    "a=int(input(\"请输入第一个正整数\"))\n",
    "b=int(input('请输入第二个正整数'))\n",
    "if a>=b:\n",
    "    end=a\n",
    "else:\n",
    "    end=b\n",
    "for i in range(1,end+1):\n",
    "    if a%i==0 and b%i==0:\n",
    "        value=i\n",
    "print(f'{a}和{b}的最大公约数是{value}')"
   ]
  },
  {
   "cell_type": "markdown",
   "metadata": {},
   "source": [
    "## 练习三\n",
    "要求：计算机出一个 1 到 100 之间的随机数，玩家输入自己猜的数字，计算机给出对应的提示信息“大一点”、“小一点”或“猜对了”，如果玩家猜中了数字，计算机提示用户一共猜了多少次，游戏结束，否则游戏继续。"
   ]
  },
  {
   "cell_type": "code",
   "execution_count": 1,
   "metadata": {},
   "outputs": [
    {
     "name": "stdout",
     "output_type": "stream",
     "text": [
      "大了\n",
      "大了\n",
      "正确答案是43,你共用了2次猜对了\n"
     ]
    }
   ],
   "source": [
    "import random\n",
    "number=random.randrange(1,101)\n",
    "count=0\n",
    "a=int(input('猜测吧'))\n",
    "while a!=number:\n",
    "    if a>number:\n",
    "        print('大了')\n",
    "    elif a<number:\n",
    "        print('小了')\n",
    "    a=int(input('再猜'))\n",
    "    count+=1\n",
    "print(f'正确答案是{number},你共用了{count}次猜对了') "
   ]
  }
 ],
 "metadata": {
  "kernelspec": {
   "display_name": "base",
   "language": "python",
   "name": "python3"
  },
  "language_info": {
   "codemirror_mode": {
    "name": "ipython",
    "version": 3
   },
   "file_extension": ".py",
   "mimetype": "text/x-python",
   "name": "python",
   "nbconvert_exporter": "python",
   "pygments_lexer": "ipython3",
   "version": "3.12.4"
  }
 },
 "nbformat": 4,
 "nbformat_minor": 2
}
