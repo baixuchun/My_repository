{
 "cells": [
  {
   "cell_type": "markdown",
   "metadata": {},
   "source": [
    "# 循环分支结构实战"
   ]
  },
  {
   "cell_type": "markdown",
   "metadata": {},
   "source": [
    "## 实战一"
   ]
  },
  {
   "cell_type": "markdown",
   "metadata": {},
   "source": [
    "找出100以内的素数\n"
   ]
  },
  {
   "cell_type": "markdown",
   "metadata": {},
   "source": [
    "说明：素数指的是只能被 1 和自身整除的正整数（不包括 1），之前我们写过判断素数的代码，这里相当于是一个升级版本。"
   ]
  },
  {
   "cell_type": "code",
   "execution_count": null,
   "metadata": {},
   "outputs": [],
   "source": [
    "for n in range(1,101):\n",
    "    for i in range(1,n+1):\n",
    "        if n%i==0 and i<n and i!=1:\n",
    "            break\n",
    "        elif n%i==0 and i==n and i!=1:\n",
    "            print(n)"
   ]
  },
  {
   "cell_type": "markdown",
   "metadata": {},
   "source": [
    "作者的思路：还是通过遍历所有的数字，来寻找可以让数字性质（is prime）发生变化的数字，这样在遍历过所有符合的数字以后，通过性质来确认输出"
   ]
  },
  {
   "cell_type": "code",
   "execution_count": null,
   "metadata": {},
   "outputs": [],
   "source": [
    "for num in range(2, 100):\n",
    "    is_prime = True\n",
    "    for i in range(2, int(num ** 0.5) + 1):\n",
    "        if num % i == 0:\n",
    "            is_prime = False\n",
    "            break\n",
    "    if is_prime:\n",
    "        print(num)"
   ]
  },
  {
   "cell_type": "markdown",
   "metadata": {},
   "source": [
    "## 实战二"
   ]
  },
  {
   "cell_type": "markdown",
   "metadata": {},
   "source": [
    "要求：输出斐波那契数列中的前 20 个数。"
   ]
  },
  {
   "cell_type": "markdown",
   "metadata": {},
   "source": [
    "斐波那契数列（Fibonacci sequence），通常也被称作黄金分割数列，是意大利数学家莱昂纳多·斐波那契（Leonardoda Fibonacci）在《计算之书》中研究理想假设条件下兔子成长率问题而引入的数列，因此这个数列也常被戏称为“兔子数列”。斐波那契数列的特点是数列的前两个数都是 1，从第三个数开始，每个数都是它前面两个数的和。按照这个规律，斐波那契数列的前 10 个数是：1, 1, 2, 3, 5, 8, 13, 21, 34, 55。斐波那契数列在现代物理、准晶体结构、化学等领域都有直接的应用。"
   ]
  },
  {
   "cell_type": "code",
   "execution_count": null,
   "metadata": {},
   "outputs": [],
   "source": [
    "i=1\n",
    "n=1\n",
    "num=3\n",
    "print('第1个数字是1')\n",
    "print('第2个数字是1')\n",
    "while num<=20:\n",
    "    sum=n+i\n",
    "    print(f'第{num}个数字是{sum}')\n",
    "    num+=1\n",
    "    i=n\n",
    "    n=sum"
   ]
  },
  {
   "cell_type": "markdown",
   "metadata": {},
   "source": [
    "作者的思路是用了新的赋值方法，a，b=b，a+b,使用这种方式来赋值"
   ]
  },
  {
   "cell_type": "code",
   "execution_count": null,
   "metadata": {},
   "outputs": [],
   "source": [
    "a, b = 0, 1\n",
    "for _ in range(20):\n",
    "    a, b = b, a + b\n",
    "    print(a)"
   ]
  },
  {
   "cell_type": "markdown",
   "metadata": {},
   "source": [
    "## 实战三"
   ]
  },
  {
   "cell_type": "markdown",
   "metadata": {},
   "source": [
    "要求：找出 100 到 999 范围内的所有水仙花数。"
   ]
  },
  {
   "cell_type": "markdown",
   "metadata": {},
   "source": [
    " **提示**：在数论中，水仙花数（narcissistic number）也被称为超完全数字不变数、自恋数、自幂数、阿姆斯特朗数，它是一个 $\\small{N}$ 位非负整数，其各位数字的 $\\small{N}$ 次方和刚好等于该数本身，例如： $\\small{153 = 1^{3} + 5^{3} + 3^{3}}$ ，所以 153 是一个水仙花数； $\\small{1634 = 1^{4} + 6^{4} + 3^{4} + 4^{4}}$ ，所以 1634 也是一个水仙花数。对于三位数，解题的关键是将它拆分为个位、十位、百位，再判断是否满足水仙花数的要求，这一点利用 Python 中的`//`和`%`运算符其实很容易做到。\n"
   ]
  },
  {
   "cell_type": "code",
   "execution_count": null,
   "metadata": {},
   "outputs": [],
   "source": [
    "for i in range(100,1000):\n",
    "    a=i//100\n",
    "    b=(i-a*100)//10\n",
    "    c=(i-a*100-b*10)\n",
    "    if a**3+b**3+c**3==i:\n",
    "        print(i)\n"
   ]
  },
  {
   "cell_type": "markdown",
   "metadata": {},
   "source": [
    "## 实战四\n",
    "说明：百钱百鸡是我国古代数学家张丘建在《算经》一书中提出的数学问题：鸡翁一值钱五，鸡母一值钱三，鸡雏三值钱一。百钱买百鸡，问鸡翁、鸡母、鸡雏各几何？翻译成现代文是：公鸡 5 元一只，母鸡 3 元一只，小鸡 1 元三只，用 100 块钱买一百只鸡，问公鸡、母鸡、小鸡各有多少只？"
   ]
  },
  {
   "cell_type": "code",
   "execution_count": 52,
   "metadata": {},
   "outputs": [
    {
     "name": "stdout",
     "output_type": "stream",
     "text": [
      "公鸡0只，母鸡25只，小鸡75只\n",
      "公鸡4只，母鸡18只，小鸡78只\n",
      "公鸡8只，母鸡11只，小鸡81只\n",
      "公鸡12只，母鸡4只，小鸡84只\n"
     ]
    }
   ],
   "source": [
    "for a in range(0,101):\n",
    "    for b in range(0,101):\n",
    "        for c in range(0,101):\n",
    "            if 5*a+3*b+c/3==100 and a+b+c==100:\n",
    "                print(f'公鸡{a}只，母鸡{b}只，小鸡{c}只')"
   ]
  },
  {
   "cell_type": "markdown",
   "metadata": {},
   "source": [
    "虽然用穷举法很爽，但是你要记得，一旦a，b确定，还存在一个z=100-a-b的条件，改成这个会好很多"
   ]
  },
  {
   "cell_type": "markdown",
   "metadata": {},
   "source": [
    "## 实战五\n",
    "CRAPS又称花旗骰，是美国拉斯维加斯非常受欢迎的一种的桌上赌博游戏。该游戏使用两粒骰子，玩家通过摇两粒骰子获得点数进行游戏。简化后的规则是：玩家第一次摇骰子如果摇出了 7 点或 11 点，玩家胜；玩家第一次如果摇出 2 点、3 点或 12 点，庄家胜；玩家如果摇出其他点数则游戏继续，玩家重新摇骰子，如果玩家摇出了 7 点，庄家胜；如果玩家摇出了第一次摇的点数，玩家胜；其他点数玩家继续摇骰子，直到分出胜负。为了增加代码的趣味性，我们设定游戏开始时玩家有 1000 元的赌注，每局游戏开始之前，玩家先下注，如果玩家获胜就可以获得对应下注金额的奖励，如果庄家获胜，玩家就会输掉自己下注的金额。游戏结束的条件是玩家破产（输光所有的赌注）。\n",
    "如果该回合没有获胜，则输掉本回合的赌注。"
   ]
  },
  {
   "cell_type": "code",
   "execution_count": 100,
   "metadata": {},
   "outputs": [
    {
     "name": "stdout",
     "output_type": "stream",
     "text": [
      "您在第4局输了，您连本带息剩余740\n"
     ]
    }
   ],
   "source": [
    "import random as random\n",
    "wager=int(input('请输入赌注'))\n",
    "num=1000\n",
    "a=random.randint(2,12)\n",
    "if a==7 or a==11:\n",
    "    number=num+wager\n",
    "    print(f'您赢了，您的点数为{a}，您现在的资产为{number}')\n",
    "elif (a==2 or a==3 or a==12) and num>wager:\n",
    "    number=num-wager\n",
    "    print(f'您输了，您的点数为{a}，您现在的资产为{number}')\n",
    "elif (a!=2 or a!=3 or a!=12) and (a!=7 or a!=11) and num<=wager:\n",
    "    number=num-wager\n",
    "    print(f'傻逼，你没钱了，您的点数为{a}，您现在的资产为{number}')\n",
    "else:\n",
    "    n=1\n",
    "    number=num-wager\n",
    "    cont=True\n",
    "    while cont:\n",
    "        n+=1\n",
    "        if number<=0:\n",
    "            print('傻逼，你没钱了')\n",
    "        wagers=int(input(f'这是第{n}局，您第一局的点数为{a}，请继续下赌注'))\n",
    "        b=random.randint(1,13)\n",
    "        if b==7:\n",
    "            number-=wagers\n",
    "            print(f'您在第{n}局输了，您连本带息剩余{number}')\n",
    "            cont=False\n",
    "        elif b==a:\n",
    "            number+=wagers*2\n",
    "            print(f'您在第{n}局赢了，您连本带息剩余{number}')\n",
    "            cont=False\n",
    "        elif number<=0:\n",
    "            print('傻逼，你没钱了')\n",
    "            cont=False\n",
    "        \n"
   ]
  }
 ],
 "metadata": {
  "kernelspec": {
   "display_name": "Python 3",
   "language": "python",
   "name": "python3"
  },
  "language_info": {
   "codemirror_mode": {
    "name": "ipython",
    "version": 3
   },
   "file_extension": ".py",
   "mimetype": "text/x-python",
   "name": "python",
   "nbconvert_exporter": "python",
   "pygments_lexer": "ipython3",
   "version": "3.9.13"
  }
 },
 "nbformat": 4,
 "nbformat_minor": 2
}
