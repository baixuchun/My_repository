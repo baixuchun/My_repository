{
 "cells": [
  {
   "cell_type": "markdown",
   "metadata": {},
   "source": [
    "# 分支结构"
   ]
  },
  {
   "cell_type": "markdown",
   "metadata": {},
   "source": [
    "分支结构包括if、elif、else"
   ]
  },
  {
   "cell_type": "markdown",
   "metadata": {},
   "source": [
    "注意缩进结构要对齐！"
   ]
  },
  {
   "cell_type": "markdown",
   "metadata": {},
   "source": [
    "注意要加上冒号"
   ]
  },
  {
   "cell_type": "markdown",
   "metadata": {},
   "source": [
    "## 案例一"
   ]
  },
  {
   "cell_type": "markdown",
   "metadata": {},
   "source": [
    "例如，我们要写一个身体质量指数（BMI）的计算器。身体质量指数（BMI）是国际上常用的衡量人体胖瘦程度以及是否健康的一个指标，计算公式如下所示：\n",
    "\n",
    "BMI = 体重 (kg) / 身高² (m²)\n",
    "\n",
    "通常认为 18.5 ≤ BMI < 24 是正常范围，BMI < 18.5 说明体重过轻，BMI ≥ 24 说明体重过重，BMI ≥ 27 就属于肥胖范畴。"
   ]
  },
  {
   "cell_type": "code",
   "execution_count": 8,
   "metadata": {},
   "outputs": [
    {
     "name": "stdout",
     "output_type": "stream",
     "text": [
      "孙迅的bmi为24.8，您的指标属于体重过重\n"
     ]
    }
   ],
   "source": [
    "weight=float(input(\"请输入体重（cm）\"))\n",
    "height=float(input(\"请输入身高（kg）\"))\n",
    "bmi=weight/(height/100)**2\n",
    "if bmi>=27 :\n",
    "    print(\"孙迅的bmi为%.1f，您的指标属于肥胖\"%(bmi))\n",
    "elif bmi>=24:\n",
    "    print(\"孙迅的bmi为%.1f，您的指标属于体重过重\"%(bmi))\n",
    "elif bmi<=18.5:\n",
    "    print(\"孙迅的bmi为%.1f，您的指标属于体重过轻\"%(bmi))\n",
    "elif 18.5<=bmi<24:\n",
    "    print(\"孙迅的bmi为%.1f，您的指标属于体重正常\"%(bmi))"
   ]
  },
  {
   "cell_type": "markdown",
   "metadata": {},
   "source": [
    "## 练习一"
   ]
  },
  {
   "cell_type": "markdown",
   "metadata": {},
   "source": [
    "有如下所示的分段函数，要求输入x，计算出y。\n"
   ]
  },
  {
   "cell_type": "markdown",
   "metadata": {},
   "source": [
    "$$\n",
    "y =\n",
    "\\begin{cases} \n",
    "3x - 5, & x > 1 \\\\\n",
    "x + 2, & -1 \\leq x \\leq 1 \\\\\n",
    "5x + 3, & x < -1\n",
    "\\end{cases}\n",
    "$$"
   ]
  },
  {
   "cell_type": "code",
   "execution_count": 10,
   "metadata": {},
   "outputs": [
    {
     "name": "stdout",
     "output_type": "stream",
     "text": [
      "y= 4.0\n"
     ]
    }
   ],
   "source": [
    "x=float(input(\"请输入x值\"))\n",
    "if x>1:\n",
    "    y=3*x-5\n",
    "elif -1<=x<=1:\n",
    "    y=x+2\n",
    "elif x<=-1:\n",
    "    y=5*x+3\n",
    "print(\"y=\",y)"
   ]
  },
  {
   "cell_type": "markdown",
   "metadata": {},
   "source": [
    "## 练习二"
   ]
  },
  {
   "cell_type": "markdown",
   "metadata": {},
   "source": [
    "要求：如果输入的成绩在90分以上（含90分），则输出A；输入的成绩在80分到90分之间（不含90分），则输出B；输入的成绩在70分到80分之间（不含80分），则输出C；输入的成绩在60分到70分之间（不含70分），则输出D；输入的成绩在60分以下，则输出E。"
   ]
  },
  {
   "cell_type": "code",
   "execution_count": 11,
   "metadata": {},
   "outputs": [
    {
     "name": "stdout",
     "output_type": "stream",
     "text": [
      "D\n"
     ]
    }
   ],
   "source": [
    "score=float(input('请输入得分'))\n",
    "if score>=90:\n",
    "    print(\"A\")\n",
    "elif 80<=score<90:\n",
    "    print(\"B\")\n",
    "elif 70<=score<80:\n",
    "    print(\"C\")\n",
    "elif 60<=score<70:\n",
    "    print(\"D\")\n",
    "elif score<=60:\n",
    "    print(\"E\")"
   ]
  },
  {
   "cell_type": "markdown",
   "metadata": {},
   "source": [
    "## 练习三"
   ]
  },
  {
   "cell_type": "markdown",
   "metadata": {},
   "source": [
    "要求：输入三条边的长度，如果能构成三角形就计算周长和面积；否则给出“不能构成三角形”的提示"
   ]
  },
  {
   "cell_type": "code",
   "execution_count": 1,
   "metadata": {},
   "outputs": [
    {
     "name": "stdout",
     "output_type": "stream",
     "text": [
      "边长为8.00，9.00和12.00的三角形，周长为29.00，面积为36.00\n"
     ]
    }
   ],
   "source": [
    "a=float(input(\"请输入第一条边\"))\n",
    "b=float(input(\"请输入第二条边\"))\n",
    "c=float(input(\"请输入第三条边\"))\n",
    "if a+b>c and a+c>b and b+c>a and a-b<c and a-c<b and b-c<a and b-a<c and c-a<b and c-b<a:\n",
    "    circle=a+b+c\n",
    "    m=(a+b+c)/2\n",
    "    s=((m)*(m-a)*(m-b)*(m-c))**0.5\n",
    "    print(\"边长为%.2f，%.2f和%.2f的三角形，周长为%.2f，面积为%.2f\"%(a,b,c,circle,s))\n",
    "else:\n",
    "    print('%.2f，%.2f和%.2f这三条边不能构成三角形'%(a,b,c))"
   ]
  }
 ],
 "metadata": {
  "kernelspec": {
   "display_name": "base",
   "language": "python",
   "name": "python3"
  },
  "language_info": {
   "codemirror_mode": {
    "name": "ipython",
    "version": 3
   },
   "file_extension": ".py",
   "mimetype": "text/x-python",
   "name": "python",
   "nbconvert_exporter": "python",
   "pygments_lexer": "ipython3",
   "version": "3.12.4"
  }
 },
 "nbformat": 4,
 "nbformat_minor": 2
}
