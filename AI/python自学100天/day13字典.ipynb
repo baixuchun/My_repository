{
 "cells": [
  {
   "cell_type": "markdown",
   "metadata": {},
   "source": [
    "# 字典"
   ]
  },
  {
   "cell_type": "markdown",
   "metadata": {},
   "source": [
    "## 创建和使用字典"
   ]
  },
  {
   "cell_type": "markdown",
   "metadata": {},
   "source": [
    "Python 中创建字典可以使用{}字面量语法，这一点跟上一节课讲的集合是一样的。但是字典的{}中的元素是以键值对的形式存在的，每个元素由:分隔的两个值构成，:前面是键，:后面是值，代码如下所示"
   ]
  },
  {
   "cell_type": "code",
   "execution_count": null,
   "metadata": {},
   "outputs": [],
   "source": [
    "xinhua = {\n",
    "    '麓': '山脚下',\n",
    "    '路': '道，往来通行的地方；方面，地区：南～货，外～货；种类：他俩是一～人',\n",
    "    '蕗': '甘草的别名',\n",
    "    '潞': '潞水，水名，即今山西省的浊漳河；潞江，水名，即云南省的怒江'\n",
    "}\n",
    "print(xinhua)\n",
    "person = {\n",
    "    'name': '王大锤',\n",
    "    'age': 55,\n",
    "    'height': 168,\n",
    "    'weight': 60,\n",
    "    'addr': '成都市武侯区科华北路62号1栋101', \n",
    "    'tel': '13122334455',\n",
    "    'emergence contact': '13800998877'\n",
    "}\n",
    "print(person)"
   ]
  },
  {
   "cell_type": "markdown",
   "metadata": {},
   "source": [
    "通过上面的代码，相信大家已经看出来了，用字典来保存一个人的信息远远优于使用列表或元组，因为我们可以用:前面的键来表示条目的含义，而:后面就是这个条目所对应的值。"
   ]
  },
  {
   "cell_type": "markdown",
   "metadata": {},
   "source": [
    "当然，如果愿意，我们也可以使用内置函数dict或者是字典的生成式语法来创建字典，代码如下所示。"
   ]
  },
  {
   "cell_type": "code",
   "execution_count": null,
   "metadata": {},
   "outputs": [],
   "source": [
    "# dict函数(构造器)中的每一组参数就是字典中的一组键值对\n",
    "person = dict(name='王大锤', age=55, height=168, weight=60, addr='成都市武侯区科华北路62号1栋101')\n",
    "print(person)  # {'name': '王大锤', 'age': 55, 'height': 168, 'weight': 60, 'addr': '成都市武侯区科华北路62号1栋101'}\n",
    "\n",
    "# 可以通过Python内置函数zip压缩两个序列并创建字典\n",
    "items1 = dict(zip('ABCDE', '12345'))\n",
    "print(items1)  # {'A': '1', 'B': '2', 'C': '3', 'D': '4', 'E': '5'}\n",
    "items2 = dict(zip('ABCDE', range(1, 10)))\n",
    "print(items2)  # {'A': 1, 'B': 2, 'C': 3, 'D': 4, 'E': 5}\n",
    "\n",
    "# 用字典生成式语法创建字典\n",
    "items3 = {x: x ** 3 for x in range(1, 6)}\n",
    "print(items3)  # {1: 1, 2: 8, 3: 27, 4: 64, 5: 125}"
   ]
  },
  {
   "cell_type": "markdown",
   "metadata": {},
   "source": [
    "想知道字典中一共有多少组键值对，仍然是使用len函数；如果想对字典进行遍历，可以用for循环，但是需要注意，for循环只是对字典的键进行了遍历，不过没关系，在学习了字典的索引运算后，我们可以通过字典的键访问它对应的值。"
   ]
  },
  {
   "cell_type": "code",
   "execution_count": null,
   "metadata": {},
   "outputs": [],
   "source": [
    "person = {\n",
    "    'name': '王大锤',\n",
    "    'age': 55,\n",
    "    'height': 168,\n",
    "    'weight': 60,\n",
    "    'addr': '成都市武侯区科华北路62号1栋101'\n",
    "}\n",
    "print(len(person))  # 5\n",
    "for key in person:\n",
    "    print(key)"
   ]
  },
  {
   "cell_type": "markdown",
   "metadata": {},
   "source": [
    "## 字典的运算"
   ]
  },
  {
   "cell_type": "markdown",
   "metadata": {},
   "source": [
    "对于字典类型来说，成员运算和索引运算肯定是很重要的，前者可以判定指定的键在不在字典中，后者可以通过键访问对应的值或者向字典中添加新的键值对。值得注意的是，字典的索引不同于列表的索引，列表中的元素因为有属于自己有序号，所以列表的索引是一个整数；字典中因为保存的是键值对，所以字典需要用键去索引对应的值。需要特别提醒大家注意的是，字典中的键必须是不可变类型，例如整数（int）、浮点数（float）、字符串（str）、元组（tuple）等类型，这一点跟集合类型对元素的要求是一样的；很显然，之前我们讲的列表（list）和集合（set）不能作为字典中的键，字典类型本身也不能再作为字典中的键，因为字典也是可变类型，但是列表、集合、字典都可以作为字典中的值，例如："
   ]
  },
  {
   "cell_type": "code",
   "execution_count": null,
   "metadata": {},
   "outputs": [],
   "source": [
    "person = {\n",
    "    'name': '王大锤',\n",
    "    'age': 55,\n",
    "    'height': 168,\n",
    "    'weight': 60,\n",
    "    'addr': ['成都市武侯区科华北路62号1栋101', '北京市西城区百万庄大街1号'],\n",
    "    'car': {\n",
    "        'brand': 'BMW X7',\n",
    "        'maxSpeed': '250',\n",
    "        'length': 5170,\n",
    "        'width': 2000,\n",
    "        'height': 1835,\n",
    "        'displacement': 3.0\n",
    "    }\n",
    "}\n",
    "print(person)"
   ]
  },
  {
   "cell_type": "markdown",
   "metadata": {},
   "source": [
    "大家可以看看下面的代码，了解一下字典的成员运算和索引运算。"
   ]
  },
  {
   "cell_type": "code",
   "execution_count": null,
   "metadata": {},
   "outputs": [],
   "source": [
    "person = {'name': '王大锤', 'age': 55, 'height': 168, 'weight': 60, 'addr': '成都市武侯区科华北路62号1栋101'}\n",
    "\n",
    "# 成员运算\n",
    "print('name' in person)  # True\n",
    "print('tel' in person)   # False\n",
    "\n",
    "# 索引运算\n",
    "print(person['name'])\n",
    "print(person['addr'])\n",
    "person['age'] = 25\n",
    "person['height'] = 178\n",
    "person['tel'] = '13122334455'\n",
    "person['signature'] = '你的男朋友是一个盖世垃圾，他会踏着五彩祥云去迎娶你的闺蜜'\n",
    "print(person)\n",
    "\n",
    "# 循环遍历\n",
    "for key in person:\n",
    "    print(f'{key}:\\t{person[key]}')"
   ]
  },
  {
   "cell_type": "markdown",
   "metadata": {},
   "source": [
    "需要注意，在通过索引运算获取字典中的值时，如指定的键没有在字典中，将会引发KeyError异常。"
   ]
  },
  {
   "cell_type": "markdown",
   "metadata": {},
   "source": [
    "## 字典的方法"
   ]
  },
  {
   "cell_type": "markdown",
   "metadata": {},
   "source": [
    "字典类型的方法基本上都跟字典的键值对操作相关，其中get方法可以通过键来获取对应的值。跟索引运算不同的是，get方法在字典中没有指定的键时不会产生异常，而是返回None或指定的默认值，代码如下所示。"
   ]
  },
  {
   "cell_type": "code",
   "execution_count": null,
   "metadata": {},
   "outputs": [],
   "source": [
    "person = {'name': '王大锤', 'age': 25, 'height': 178, 'addr': '成都市武侯区科华北路62号1栋101'}\n",
    "print(person.get('name'))       # 王大锤\n",
    "print(person.get('sex'))        # None\n",
    "print(person.get('sex', True))  # True是指定的默认值，所以这里返回True"
   ]
  },
  {
   "cell_type": "markdown",
   "metadata": {},
   "source": [
    "如果需要获取字典中所有的键，可以使用keys方法；如果需要获取字典中所有的值，可以使用values方法。字典还有一个名为items的方法，它会将键和值组装成二元组，通过该方法来遍历字典中的元素也是非常方便的。"
   ]
  },
  {
   "cell_type": "code",
   "execution_count": null,
   "metadata": {},
   "outputs": [],
   "source": [
    "person = {'name': '王大锤', 'age': 25, 'height': 178}\n",
    "print(person.keys())    # dict_keys(['name', 'age', 'height'])\n",
    "print(person.values())  # dict_values(['王大锤', 25, 178])\n",
    "print(person.items())   # dict_items([('name', '王大锤'), ('age', 25), ('height', 178)])\n",
    "for key, value in person.items():\n",
    "    print(f'{key}:\\t{value}')"
   ]
  },
  {
   "cell_type": "markdown",
   "metadata": {},
   "source": [
    "字典的update方法实现两个字典的合并操作。例如，有两个字典x和y，当执行x.update(y)操作时，x跟y相同的键对应的值会被y中的值更新，而y中有但x中没有的键值对会直接添加到x中，代码如下所示。"
   ]
  },
  {
   "cell_type": "code",
   "execution_count": null,
   "metadata": {},
   "outputs": [],
   "source": [
    "person1 = {'name': '王大锤', 'age': 55, 'height': 178}\n",
    "person2 = {'age': 25, 'addr': '成都市武侯区科华北路62号1栋101'}\n",
    "person1.update(person2)\n",
    "print(person1)  # {'name': '王大锤', 'age': 25, 'height': 178, 'addr': '成都市武侯区科华北路62号1栋101'}"
   ]
  },
  {
   "cell_type": "markdown",
   "metadata": {},
   "source": [
    "如果使用 Python 3.9 及以上的版本，也可以使用|运算符来完成同样的操作，代码如下所示。"
   ]
  },
  {
   "cell_type": "code",
   "execution_count": null,
   "metadata": {},
   "outputs": [],
   "source": [
    "person1 = {'name': '王大锤', 'age': 55, 'height': 178}\n",
    "person2 = {'age': 25, 'addr': '成都市武侯区科华北路62号1栋101'}\n",
    "person1 |= person2\n",
    "print(person1)  # {'name': '王大锤', 'age': 25, 'height': 178, 'addr': '成都市武侯区科华北路62号1栋101'}"
   ]
  },
  {
   "cell_type": "markdown",
   "metadata": {},
   "source": [
    "跟列表一样，从字典中删除元素也可以使用del关键字，在删除元素的时候如果指定的键索引不到对应的值，一样会引发KeyError错误，具体的做法如下所示。"
   ]
  },
  {
   "cell_type": "code",
   "execution_count": null,
   "metadata": {},
   "outputs": [],
   "source": [
    "person = {'name': '王大锤', 'age': 25, 'height': 178, 'addr': '成都市武侯区科华北路62号1栋101'}\n",
    "del person['age']\n",
    "del person['addr']\n",
    "print(person)  # {'name': '王大锤', 'height': 178}"
   ]
  },
  {
   "cell_type": "markdown",
   "metadata": {},
   "source": [
    "## 字典的应用"
   ]
  },
  {
   "cell_type": "markdown",
   "metadata": {},
   "source": [
    "例子1：输入一段话，统计每个英文字母出现的次数，按出现次数从高到低输出。"
   ]
  },
  {
   "cell_type": "code",
   "execution_count": null,
   "metadata": {},
   "outputs": [],
   "source": [
    "sentence = input('请输入一段话: ')\n",
    "counter = {}\n",
    "for ch in sentence:\n",
    "    if 'A' <= ch <= 'Z' or 'a' <= ch <= 'z':\n",
    "        counter[ch] = counter.get(ch, 0) + 1\n",
    "sorted_keys = sorted(counter, key=counter.get, reverse=True)\n",
    "for key in sorted_keys:\n",
    "    print(f'{key} 出现了 {counter[key]} 次.')"
   ]
  },
  {
   "cell_type": "markdown",
   "metadata": {},
   "source": [
    "我根本就不会，粘贴过来了"
   ]
  },
  {
   "cell_type": "markdown",
   "metadata": {},
   "source": [
    "例子2：在一个字典中保存了股票的代码和价格，找出股价大于100元的股票并创建一个新的字典。"
   ]
  },
  {
   "cell_type": "code",
   "execution_count": 8,
   "metadata": {},
   "outputs": [
    {
     "name": "stdout",
     "output_type": "stream",
     "text": [
      "{'AAPL': 191.88, 'GOOG': 1186.96, 'IBM': 149.24, 'ACN': 166.89, 'FB': 208.09}\n"
     ]
    }
   ],
   "source": [
    "stocks = {\n",
    "    'AAPL': 191.88,\n",
    "    'GOOG': 1186.96,\n",
    "    'IBM': 149.24,\n",
    "    'ORCL': 48.44,\n",
    "    'ACN': 166.89,\n",
    "    'FB': 208.09,\n",
    "    'SYMC': 21.29\n",
    "}\n",
    "new={}\n",
    "for a,b in stocks.items():\n",
    "    if b>100:\n",
    "        new[f'{a}']=b\n",
    "print(new)"
   ]
  }
 ],
 "metadata": {
  "kernelspec": {
   "display_name": "base",
   "language": "python",
   "name": "python3"
  },
  "language_info": {
   "codemirror_mode": {
    "name": "ipython",
    "version": 3
   },
   "file_extension": ".py",
   "mimetype": "text/x-python",
   "name": "python",
   "nbconvert_exporter": "python",
   "pygments_lexer": "ipython3",
   "version": "3.12.4"
  }
 },
 "nbformat": 4,
 "nbformat_minor": 2
}
