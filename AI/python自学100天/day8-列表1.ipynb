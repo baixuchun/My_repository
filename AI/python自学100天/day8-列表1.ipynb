{
 "cells": [
  {
   "cell_type": "markdown",
   "metadata": {},
   "source": [
    "# 列表\n"
   ]
  },
  {
   "cell_type": "markdown",
   "metadata": {},
   "source": [
    "在开始本节课的内容之前，我们先给大家一个编程任务，将一颗色子掷 6000 次，统计每种点数出现的次数。这个任务对大家来说应该是非常简单的，我们可以用 1 到 6 均匀分布的随机数来模拟掷色子，然后用 6 个变量分别记录每个点数出现的次数，相信通过前面的学习，大家都能比较顺利的写出下面的代码。"
   ]
  },
  {
   "cell_type": "code",
   "execution_count": 28,
   "metadata": {},
   "outputs": [
    {
     "name": "stdout",
     "output_type": "stream",
     "text": [
      "1出现的次数为1030，2出现的次数为994，3出现的次数为983，4出现的次数为940，5出现的次数为975，6出现的次数为1078\n"
     ]
    }
   ],
   "source": [
    "import random as r\n",
    "n=1\n",
    "a=0\n",
    "b=0\n",
    "c=0\n",
    "d=0\n",
    "e=0\n",
    "f=0\n",
    "while n<=6000:\n",
    "    n=n+1\n",
    "    i=r.randint(1,6)\n",
    "    if i==1:\n",
    "        a+=1\n",
    "    elif i==2:\n",
    "        b+=1\n",
    "    elif i==3:\n",
    "        c+=1\n",
    "    elif i==4:\n",
    "        d+=1\n",
    "    elif i==5:\n",
    "        e+=1\n",
    "    elif i==6:\n",
    "        f+=1\n",
    "print(f'1出现的次数为{a}，2出现的次数为{b}，3出现的次数为{c}，4出现的次数为{d}，5出现的次数为{e}，6出现的次数为{f}')\n",
    "        "
   ]
  },
  {
   "cell_type": "markdown",
   "metadata": {},
   "source": [
    "上面的代码非常有多么“丑陋”相信就不用我多说了。当然，更为可怕的是，如果我们要掷两颗或者掷更多的色子，然后统计每种点数出现的次数，那就需要定义更多的变量，写更多的分支结构，大家想想都会感到恶心。讲到这里，相信大家心中已经有一个疑问了：有没有办法用一个变量来保存多个数据，有没有办法用统一的代码对多个数据进行操作？答案是肯定的，在 Python 语言中我们可以通过容器型变量来保存和操作多个数据，我们首先为大家介绍列表（list）这种新的数据类型。"
   ]
  },
  {
   "cell_type": "markdown",
   "metadata": {},
   "source": [
    "## 创建列表"
   ]
  },
  {
   "cell_type": "markdown",
   "metadata": {},
   "source": [
    "在 Python 中，列表是由一系元素按特定顺序构成的数据序列，这就意味着如果我们定义一个列表类型的变量，可以用它来保存多个数据。在 Python 中，可以使用[]字面量语法来定义列表，列表中的多个元素用逗号进行分隔，代码如下所示。"
   ]
  },
  {
   "cell_type": "code",
   "execution_count": 29,
   "metadata": {},
   "outputs": [
    {
     "name": "stdout",
     "output_type": "stream",
     "text": [
      "[35, 12, 99, 68, 55, 35, 87]\n",
      "['Python', 'Java', 'Go', 'Kotlin']\n",
      "[100, 12.3, 'Python', True]\n"
     ]
    }
   ],
   "source": [
    "items1 = [35, 12, 99, 68, 55, 35, 87]\n",
    "items2 = ['Python', 'Java', 'Go', 'Kotlin']\n",
    "items3 = [100, 12.3, 'Python', True]\n",
    "print(items1)  # [35, 12, 99, 68, 55, 35, 87]\n",
    "print(items2)  # ['Python', 'Java', 'Go', 'Kotlin']\n",
    "print(items3)  # [100, 12.3, 'Python', True]"
   ]
  },
  {
   "cell_type": "markdown",
   "metadata": {},
   "source": [
    "说明：  \n",
    "列表中可以有重复元素，例如items1中的35；  \n",
    "列表中可以有不同类型的元素，例如items3中有int类型、float类型、str类型和bool类型的元素，但是我们通常并不建议将不同类型的元素放在同一个列表中，主要是操作起来极为不便。"
   ]
  },
  {
   "cell_type": "markdown",
   "metadata": {},
   "source": [
    "我们可以使用type函数来查看变量的类型，有兴趣的小伙伴可以自行查看上面的变量items1到底是什么类型。因为列表可以保存多个元素，它是一种容器型的数据类型，所以我们在给列表类型的变量起名字时，变量名通常用复数形式的单词。\n",
    "\n",
    "除此以外，还可以通过 Python 内置的list函数将其他序列变成列表。准确的说，list并不是一个普通的函数，它是创建列表对象的构造器，后面的课程会为大家介绍对象和构造器这些概念。"
   ]
  },
  {
   "cell_type": "code",
   "execution_count": 30,
   "metadata": {},
   "outputs": [
    {
     "name": "stdout",
     "output_type": "stream",
     "text": [
      "[1, 2, 3, 4, 5, 6, 7, 8, 9]\n",
      "['h', 'e', 'l', 'l', 'o']\n"
     ]
    }
   ],
   "source": [
    "items4 = list(range(1, 10))\n",
    "items5 = list('hello')\n",
    "print(items4)  # [1, 2, 3, 4, 5, 6, 7, 8, 9]\n",
    "print(items5)  # ['h', 'e', 'l', 'l', 'o']"
   ]
  },
  {
   "cell_type": "markdown",
   "metadata": {},
   "source": [
    "说明：range(1, 10)会产生1到9的整数序列，给到list构造器中，会创建出由1到9的整数构成的列表。字符串是字符构成的序列，上面的list('hello')用字符串hello的字符作为列表元素，创建了列表对象。"
   ]
  },
  {
   "cell_type": "markdown",
   "metadata": {},
   "source": [
    "## 列表的运算"
   ]
  },
  {
   "cell_type": "markdown",
   "metadata": {},
   "source": [
    "我们可以使用+运算符实现两个列表的拼接，拼接运算会将两个列表中的元素连接起来放到一个列表中，代码如下所示。"
   ]
  },
  {
   "cell_type": "code",
   "execution_count": 31,
   "metadata": {},
   "outputs": [
    {
     "name": "stdout",
     "output_type": "stream",
     "text": [
      "[35, 12, 99, 45, 66, 45, 58, 29]\n",
      "[45, 58, 29, 'Python', 'Java', 'JavaScript']\n",
      "[35, 12, 99, 45, 66, 45, 58, 29]\n"
     ]
    }
   ],
   "source": [
    "items5 = [35, 12, 99, 45, 66]\n",
    "items6 = [45, 58, 29]\n",
    "items7 = ['Python', 'Java', 'JavaScript']\n",
    "print(items5 + items6)  # [35, 12, 99, 45, 66, 45, 58, 29]\n",
    "print(items6 + items7)  # [45, 58, 29, 'Python', 'Java', 'JavaScript']\n",
    "items5 += items6\n",
    "print(items5)  # [35, 12, 99, 45, 66, 45, 58, 29]"
   ]
  },
  {
   "cell_type": "markdown",
   "metadata": {},
   "source": [
    "我们可以使用*运算符实现列表的重复运算，*运算符会将列表元素重复指定的次数，我们在上面的代码中增加两行，如下所示。"
   ]
  },
  {
   "cell_type": "code",
   "execution_count": 32,
   "metadata": {},
   "outputs": [
    {
     "name": "stdout",
     "output_type": "stream",
     "text": [
      "[45, 58, 29, 45, 58, 29, 45, 58, 29]\n",
      "['Python', 'Java', 'JavaScript', 'Python', 'Java', 'JavaScript']\n"
     ]
    }
   ],
   "source": [
    "print(items6 * 3)  # [45, 58, 29, 45, 58, 29, 45, 58, 29]\n",
    "print(items7 * 2)  # ['Python', 'Java', 'JavaScript', 'Python', 'Java', 'JavaScript']"
   ]
  },
  {
   "cell_type": "markdown",
   "metadata": {},
   "source": [
    "我们可以使用in或not in运算符判断一个元素在不在列表中，我们在上面的代码代码中再增加两行，如下所示。"
   ]
  },
  {
   "cell_type": "code",
   "execution_count": 33,
   "metadata": {},
   "outputs": [
    {
     "name": "stdout",
     "output_type": "stream",
     "text": [
      "True\n",
      "False\n",
      "True\n",
      "False\n"
     ]
    }
   ],
   "source": [
    "print(29 in items6)  # True\n",
    "print(99 in items6)  # False\n",
    "print('C++' not in items7)     # True\n",
    "print('Python' not in items7)  # False"
   ]
  },
  {
   "cell_type": "markdown",
   "metadata": {},
   "source": [
    "由于列表中有多个元素，而且元素是按照特定顺序放在列表中的，所以当我们想操作列表中的某个元素时，可以使用[]运算符，通过在[]中指定元素的位置来访问该元素，这种运算称为索引运算。需要说明的是，**[]的元素位置可以是0到N - 1的整数，也可以是-1到-N的整数**，分别称为正向索引和反向索引，其中N代表列表元素的个数。对于正向索引，[0]可以访问列表中的第一个元素，[N - 1]可以访问最后一个元素；对于反向索引，[-1]可以访问列表中的最后一个元素，[-N]可以访问第一个元素，代码如下所示。"
   ]
  },
  {
   "cell_type": "code",
   "execution_count": 34,
   "metadata": {},
   "outputs": [
    {
     "name": "stdout",
     "output_type": "stream",
     "text": [
      "apple\n",
      "pitaya\n",
      "watermelon\n",
      "['apple', 'waxberry', 'durian', 'peach', 'watermelon']\n",
      "apple\n",
      "waxberry\n",
      "watermelon\n",
      "['apple', 'strawberry', 'durian', 'peach', 'watermelon']\n"
     ]
    }
   ],
   "source": [
    "items8 = ['apple', 'waxberry', 'pitaya', 'peach', 'watermelon']\n",
    "print(items8[0])   # apple\n",
    "print(items8[2])   # pitaya\n",
    "print(items8[4])   # watermelon\n",
    "items8[2] = 'durian'\n",
    "print(items8)      # ['apple', 'waxberry', 'durian', 'peach', 'watermelon']\n",
    "print(items8[-5])  # 'apple'\n",
    "print(items8[-4])  # 'waxberry'\n",
    "print(items8[-1])  # watermelon\n",
    "items8[-4] = 'strawberry'\n",
    "print(items8)      # ['apple', 'strawberry', 'durian', 'peach', 'watermelon']"
   ]
  },
  {
   "cell_type": "markdown",
   "metadata": {},
   "source": [
    "在使用索引运算的时候要避免出现索引越界的情况，对于上面的items8，如果我们访问items8[5]或items8[-6]，就会引发IndexError错误，导致程序崩溃，对应的错误信息是：list index out of range，翻译成中文就是“数组索引超出范围”。因为对于只有五个元素的列表items8，有效的正向索引是0到4，有效的反向索引是-1到-5。"
   ]
  },
  {
   "cell_type": "markdown",
   "metadata": {},
   "source": [
    "如果希望一次性访问列表中的多个元素，我们可以使用切片运算。切片运算是形如[start:end:stride]的运算符，其中start代表访问列表元素的起始位置，end代表访问列表元素的终止位置（终止位置的元素无法访问），而stride则代表了跨度，简单的说就是位置的增量，比如我们访问的第一个元素在start位置，那么第二个元素就在start + stride位置，当然start + stride要小于end。我们给上面的代码增加下面的语句，来使用切片运算符访问列表元素。  \n",
    "**要注意，这里面的end不包括end本身，就是从strart 到 end-1这个数字，比如下面的第一个，【1:3:1】就是从1到2**"
   ]
  },
  {
   "cell_type": "code",
   "execution_count": 35,
   "metadata": {},
   "outputs": [
    {
     "name": "stdout",
     "output_type": "stream",
     "text": [
      "['strawberry', 'durian']\n",
      "['apple', 'strawberry', 'durian']\n",
      "['apple', 'durian', 'watermelon']\n",
      "['strawberry', 'durian']\n",
      "['peach', 'durian', 'strawberry', 'apple']\n"
     ]
    }
   ],
   "source": [
    "print(items8[1:3:1])     # ['strawberry', 'durian']\n",
    "print(items8[0:3:1])     # ['apple', 'strawberry', 'durian']\n",
    "print(items8[0:5:2])     # ['apple', 'durian', 'watermelon']\n",
    "print(items8[-4:-2:1])   # ['strawberry', 'durian']\n",
    "print(items8[-2:-6:-1])  # ['peach', 'durian', 'strawberry', 'apple']"
   ]
  },
  {
   "cell_type": "markdown",
   "metadata": {},
   "source": [
    "提醒：大家可以看看上面代码中的最后一行，想一想当跨度为负数时，切片运算是如何访问元素的。"
   ]
  },
  {
   "cell_type": "markdown",
   "metadata": {},
   "source": [
    "如果start值等于0，那么在使用切片运算符时可以将其省略；  \n",
    "如果end值等于N，N代表列表元素的个数，那么在使用切片运算符时可以将其省略；  \n",
    "如果stride值等于1，那么在使用切片运算符时也可以将其省略。所以，下面的代码跟上面的代码作用完全相同。"
   ]
  },
  {
   "cell_type": "code",
   "execution_count": 36,
   "metadata": {},
   "outputs": [
    {
     "name": "stdout",
     "output_type": "stream",
     "text": [
      "['strawberry', 'durian']\n",
      "['apple', 'strawberry', 'durian']\n",
      "['apple', 'durian', 'watermelon']\n",
      "['strawberry', 'durian']\n",
      "['peach', 'durian', 'strawberry', 'apple']\n"
     ]
    }
   ],
   "source": [
    "print(items8[1:3])     # ['strawberry', 'durian']\n",
    "print(items8[:3:1])    # ['apple', 'strawberry', 'durian']\n",
    "print(items8[::2])     # ['apple', 'durian', 'watermelon']\n",
    "print(items8[-4:-2])   # ['strawberry', 'durian']\n",
    "print(items8[-2::-1])  # ['peach', 'durian', 'strawberry', 'apple']"
   ]
  },
  {
   "cell_type": "markdown",
   "metadata": {},
   "source": [
    "事实上，我们还可以通过切片操作修改列表中的元素，例如我们给上面的代码再加上一行，大家可以看看这里的输出。"
   ]
  },
  {
   "cell_type": "code",
   "execution_count": 37,
   "metadata": {},
   "outputs": [
    {
     "name": "stdout",
     "output_type": "stream",
     "text": [
      "['apple', 'x', 'o', 'peach', 'watermelon']\n"
     ]
    }
   ],
   "source": [
    "items8[1:3] = ['x', 'o']\n",
    "print(items8)  # ['apple', 'x', 'o', 'peach', 'watermelon']"
   ]
  },
  {
   "cell_type": "markdown",
   "metadata": {},
   "source": [
    "两个列表还可以做关系运算，我们可以比较两个列表是否相等，也可以给两个列表比大小，代码如下所示。"
   ]
  },
  {
   "cell_type": "code",
   "execution_count": 38,
   "metadata": {},
   "outputs": [
    {
     "name": "stdout",
     "output_type": "stream",
     "text": [
      "True\n",
      "False\n",
      "True\n",
      "False\n"
     ]
    }
   ],
   "source": [
    "nums1 = [1, 2, 3, 4]\n",
    "nums2 = list(range(1, 5))\n",
    "nums3 = [3, 2, 1]\n",
    "print(nums1 == nums2)  # True\n",
    "print(nums1 != nums2)  # False\n",
    "print(nums1 <= nums3)  # True\n",
    "print(nums2 >= nums3)  # False"
   ]
  },
  {
   "cell_type": "markdown",
   "metadata": {},
   "source": [
    "说明：上面的nums1和nums2对应元素完全相同，所以==运算的结果是True。nums2和nums3的比较，由于nums2的第一个元素1小于nums3的第一个元素3，所以nums2 >= nums3比较的结果是False。两个列表的关系运算在实际工作并不那么常用，如果实在不理解就跳过吧，不用纠结。"
   ]
  },
  {
   "cell_type": "markdown",
   "metadata": {},
   "source": [
    "## 元素的遍历"
   ]
  },
  {
   "cell_type": "markdown",
   "metadata": {},
   "source": [
    "如果想逐个取出列表中的元素，可以使用for-in循环的，有以下两种做法。\n",
    "\n",
    "方法一：在循环结构中通过索引运算，遍历列表元素。"
   ]
  },
  {
   "cell_type": "code",
   "execution_count": 39,
   "metadata": {},
   "outputs": [
    {
     "name": "stdout",
     "output_type": "stream",
     "text": [
      "Python\n",
      "Java\n",
      "C++\n",
      "Kotlin\n"
     ]
    }
   ],
   "source": [
    "languages = ['Python', 'Java', 'C++', 'Kotlin']\n",
    "for index in range(len(languages)):\n",
    "    print(languages[index])"
   ]
  },
  {
   "cell_type": "markdown",
   "metadata": {},
   "source": [
    "说明：上面的len函数可以获取列表元素的个数N，而range(N)则构成了从0到N-1的范围，刚好可以作为列表元素的索引。"
   ]
  },
  {
   "cell_type": "markdown",
   "metadata": {},
   "source": [
    "## 练习"
   ]
  },
  {
   "cell_type": "markdown",
   "metadata": {},
   "source": [
    "讲到这里，我们可以用列表的知识来重构上面“掷色子统计每种点数出现次数”的代码。"
   ]
  },
  {
   "cell_type": "code",
   "execution_count": 40,
   "metadata": {},
   "outputs": [
    {
     "name": "stdout",
     "output_type": "stream",
     "text": [
      "1点出现了985次\n",
      "2点出现了1040次\n",
      "3点出现了957次\n",
      "4点出现了977次\n",
      "5点出现了1040次\n",
      "6点出现了1001次\n"
     ]
    }
   ],
   "source": [
    "import random\n",
    "\n",
    "counters = [0] * 6 #这里创造了一个列表，里面含有六个元素，初始均为0\n",
    "for _ in range(6000): #循环了6000次\n",
    "    face=random.randint(1,6) #随机生成一个1-6的数字\n",
    "    counters[face-1]+=1 #生成的数字，在对应face-1的位置上加1\n",
    "for face in range(1,7):\n",
    "    print(f'{face}点出现了{counters[face-1]}次') #假如是2，counters【1】是列表中第二个数字，即2出现的次数"
   ]
  },
  {
   "cell_type": "markdown",
   "metadata": {},
   "source": [
    "上面的代码中，我们用counters列表中的六个元素分别表示 1 到 6 点出现的次数，最开始的时候六个元素的值都是 0。接下来，我们用 1 到 6 均匀分布的随机数模拟掷色子，如果摇出 1 点，counters[0]的值加 1，如果摇出 2 点，counters[1]的值加 1，以此类推。大家感受一下，由于使用了列表类型加上循环结构，我们对数据的处理是批量性的，这就使得修改后的代码比之前的代码要简单优雅得多。"
   ]
  }
 ],
 "metadata": {
  "kernelspec": {
   "display_name": "base",
   "language": "python",
   "name": "python3"
  },
  "language_info": {
   "codemirror_mode": {
    "name": "ipython",
    "version": 3
   },
   "file_extension": ".py",
   "mimetype": "text/x-python",
   "name": "python",
   "nbconvert_exporter": "python",
   "pygments_lexer": "ipython3",
   "version": "3.12.4"
  }
 },
 "nbformat": 4,
 "nbformat_minor": 2
}
