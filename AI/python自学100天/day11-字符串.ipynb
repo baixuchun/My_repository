{
 "cells": [
  {
   "cell_type": "markdown",
   "metadata": {},
   "source": [
    "# 字符串"
   ]
  },
  {
   "cell_type": "markdown",
   "metadata": {},
   "source": [
    "## 字符串的定义"
   ]
  },
  {
   "cell_type": "markdown",
   "metadata": {},
   "source": [
    "所谓字符串，就是由零个或多个字符组成的有限序列。在 Python 程序中，我们把单个或多个字符用单引号或者双引号包围起来，就可以表示一个字符串。字符串中的字符可以是特殊符号、英文字母、中文字符、日文的平假名或片假名、希腊字母、Emoji 字符（如：💩、🐷、🀄️）等。"
   ]
  },
  {
   "cell_type": "code",
   "execution_count": null,
   "metadata": {},
   "outputs": [],
   "source": [
    "s1 = 'hello, world!'\n",
    "s2 = \"你好，世界！❤️\"\n",
    "s3 = '''hello,\n",
    "wonderful\n",
    "world!'''\n",
    "print(s1)\n",
    "print(s2)\n",
    "print(s3)"
   ]
  },
  {
   "cell_type": "markdown",
   "metadata": {},
   "source": [
    "### 转义字符"
   ]
  },
  {
   "cell_type": "markdown",
   "metadata": {},
   "source": [
    "我们可以在字符串中使用\\（反斜杠）来表示转义，也就是说\\后面的字符不再是它原来的意义，例如：\\n不是代表字符\\和字符n，而是表示换行；\\t也不是代表字符\\和字符t，而是表示制表符。所以如果字符串本身又包含了'、\"、\\这些特殊的字符，必须要通过\\进行转义处理。例如要输出一个带单引号或反斜杠的字符串，需要用如下所示的方法。"
   ]
  },
  {
   "cell_type": "code",
   "execution_count": 2,
   "metadata": {},
   "outputs": [
    {
     "name": "stdout",
     "output_type": "stream",
     "text": [
      "'hello, world!'\n",
      "\\hello, world!\\\n"
     ]
    }
   ],
   "source": [
    "s1 = '\\'hello, world!\\''\n",
    "s2 = '\\\\hello, world!\\\\'\n",
    "print(s1)\n",
    "print(s2)"
   ]
  },
  {
   "cell_type": "markdown",
   "metadata": {},
   "source": [
    "### 原始字符串"
   ]
  },
  {
   "cell_type": "markdown",
   "metadata": {},
   "source": [
    "Python 中有一种以r或R开头的字符串，这种字符串被称为原始字符串，意思是字符串中的每个字符都是它本来的含义，没有所谓的转义字符。例如，在字符串'hello\\n'中，\\n表示换行；而在r'hello\\n'中，\\n不再表示换行，就是字符\\和字符n。大家可以运行下面的代码，看看会输出什么。"
   ]
  },
  {
   "cell_type": "code",
   "execution_count": 4,
   "metadata": {},
   "outputs": [
    {
     "name": "stdout",
     "output_type": "stream",
     "text": [
      "ead \\is \time \to \n",
      "ow\n",
      "\\it \\is \\time \\to \\read \\now\n"
     ]
    },
    {
     "name": "stderr",
     "output_type": "stream",
     "text": [
      "<>:1: SyntaxWarning: invalid escape sequence '\\i'\n",
      "<>:1: SyntaxWarning: invalid escape sequence '\\i'\n",
      "/var/folders/js/5gwhntms4kjfmxvsckmltn0h0000gn/T/ipykernel_25257/2588666660.py:1: SyntaxWarning: invalid escape sequence '\\i'\n",
      "  s1 = '\\it \\is \\time \\to \\read \\now'\n"
     ]
    }
   ],
   "source": [
    "s1 = '\\it \\is \\time \\to \\read \\now'\n",
    "s2 = r'\\it \\is \\time \\to \\read \\now'\n",
    "print(s1)\n",
    "print(s2)"
   ]
  },
  {
   "cell_type": "markdown",
   "metadata": {},
   "source": [
    "说明：上面的变量s1中，\\t、\\r和\\n都是转义字符。\\t是制表符（table），\\n是换行符（new line），\\r是回车符（carriage return）相当于让输出回到了行首。对比一下两个print函数的输出，看看到底有什么区别！"
   ]
  },
  {
   "cell_type": "markdown",
   "metadata": {},
   "source": [
    "### 字符的特殊表示"
   ]
  },
  {
   "cell_type": "markdown",
   "metadata": {},
   "source": [
    "Python 中还允许在\\后面还可以跟一个八进制或者十六进制数来表示字符，例如\\141和\\x61都代表小写字母a，前者是八进制的表示法，后者是十六进制的表示法。另外一种表示字符的方式是在\\u后面跟 Unicode 字符编码，例如\\u9a86\\u660a代表的是中文“骆昊”。运行下面的代码，看看输出了什么。"
   ]
  },
  {
   "cell_type": "code",
   "execution_count": 5,
   "metadata": {},
   "outputs": [
    {
     "name": "stdout",
     "output_type": "stream",
     "text": [
      "abcabc\n",
      "骆昊\n"
     ]
    }
   ],
   "source": [
    "s1 = '\\141\\142\\143\\x61\\x62\\x63'\n",
    "s2 = '\\u9a86\\u660a'\n",
    "print(s1)\n",
    "print(s2)"
   ]
  },
  {
   "cell_type": "markdown",
   "metadata": {},
   "source": [
    "## 字符串的运算"
   ]
  },
  {
   "cell_type": "markdown",
   "metadata": {},
   "source": [
    "Python 语言为字符串类型提供了非常丰富的运算符，有很多运算符跟列表类型的运算符作用类似。例如，我们可以使用+运算符来实现字符串的拼接，可以使用*运算符来重复一个字符串的内容，可以使用in和not in来判断一个字符串是否包含另外一个字符串，我们也可以用[]和[:]运算符从字符串取出某个字符或某些字符。"
   ]
  },
  {
   "cell_type": "markdown",
   "metadata": {},
   "source": [
    "### 拼接和重复"
   ]
  },
  {
   "cell_type": "markdown",
   "metadata": {},
   "source": [
    "下面的例子演示了使用+和*运算符来实现字符串的拼接和重复操作。"
   ]
  },
  {
   "cell_type": "code",
   "execution_count": 6,
   "metadata": {},
   "outputs": [
    {
     "name": "stdout",
     "output_type": "stream",
     "text": [
      "hello, world\n",
      "!!!\n",
      "hello, world!!!\n",
      "hello, world!!!hello, world!!!\n"
     ]
    }
   ],
   "source": [
    "s1 = 'hello' + ', ' + 'world'\n",
    "print(s1)    # hello, world\n",
    "s2 = '!' * 3\n",
    "print(s2)    # !!!\n",
    "s1 += s2\n",
    "print(s1)    # hello, world!!!\n",
    "s1 *= 2\n",
    "print(s1)    # hello, world!!!hello, world!!!"
   ]
  },
  {
   "cell_type": "markdown",
   "metadata": {},
   "source": [
    "### 比较运算"
   ]
  },
  {
   "cell_type": "markdown",
   "metadata": {},
   "source": [
    "对于两个字符串类型的变量，可以直接使用比较运算符来判断两个字符串的相等性或比较大小。需要说明的是，因为字符串在计算机内存中也是以二进制形式存在的，那么字符串的大小比较比的是每个字符对应的编码的大小。例如A的编码是65， 而a的编码是97，所以'A' < 'a'的结果相当于就是65 < 97的结果，这里很显然是True；而'boy' < 'bad'，因为第一个字符都是'b'比不出大小，所以实际比较的是第二个字符的大小，显然'o' < 'a'的结果是False，所以'boy' < 'bad'的结果是False。如果不清楚两个字符对应的编码到底是多少，可以使用ord函数来获得，之前我们有提到过这个函数。例如ord('A')的值是65，而ord('昊')的值是26122。下面的代码展示了字符串的比较运算，请大家仔细看看。"
   ]
  },
  {
   "cell_type": "code",
   "execution_count": null,
   "metadata": {},
   "outputs": [],
   "source": [
    "s1 = 'a whole new world'\n",
    "s2 = 'hello world'\n",
    "print(s1 == s2)             # False\n",
    "print(s1 < s2)              # True\n",
    "print(s1 == 'hello world')  # False\n",
    "print(s2 == 'hello world')  # True\n",
    "print(s2 != 'Hello world')  # True\n",
    "s3 = '骆昊'\n",
    "print(ord('骆'))            # 39558\n",
    "print(ord('昊'))            # 26122\n",
    "s4 = '王大锤'\n",
    "print(ord('王'))            # 29579\n",
    "print(ord('大'))            # 22823\n",
    "print(ord('锤'))            # 38180\n",
    "print(s3 >= s4)             # True\n",
    "print(s3 != s4)             # True"
   ]
  },
  {
   "cell_type": "markdown",
   "metadata": {},
   "source": [
    "### 成员运算"
   ]
  },
  {
   "cell_type": "markdown",
   "metadata": {},
   "source": [
    "Python 中可以用in和not in判断一个字符串中是否包含另外一个字符或字符串，跟列表类型一样，in和not in称为成员运算符，会产生布尔值True或False，代码如下所示。"
   ]
  },
  {
   "cell_type": "code",
   "execution_count": 16,
   "metadata": {},
   "outputs": [
    {
     "name": "stdout",
     "output_type": "stream",
     "text": [
      "True\n",
      "False\n",
      "False\n"
     ]
    }
   ],
   "source": [
    "s1 = 'hello, world'\n",
    "s2 = 'goodbye, world'\n",
    "print('wo' in s1)      # True\n",
    "print('wo' not in s2)  # False\n",
    "print(s2 in s1)        # False"
   ]
  },
  {
   "cell_type": "markdown",
   "metadata": {},
   "source": [
    "### 获取字符串的长度"
   ]
  },
  {
   "cell_type": "markdown",
   "metadata": {},
   "source": [
    "获取字符串长度跟获取列表元素个数一样，使用内置函数len，代码如下所示。"
   ]
  },
  {
   "cell_type": "code",
   "execution_count": null,
   "metadata": {},
   "outputs": [],
   "source": [
    "s = 'hello, world'\n",
    "print(len(s))                 # 12\n",
    "print(len('goodbye, world'))  # 14"
   ]
  },
  {
   "cell_type": "markdown",
   "metadata": {},
   "source": [
    "### 索引和切片"
   ]
  },
  {
   "cell_type": "markdown",
   "metadata": {},
   "source": [
    "字符串的索引和切片操作跟列表、元组几乎没有区别，因为字符串也是一种有序序列，可以通过正向或反向的整数索引访问其中的元素。但是有一点需要注意，因为字符串是不可变类型，所以不能通过索引运算修改字符串中的字符。"
   ]
  },
  {
   "cell_type": "code",
   "execution_count": null,
   "metadata": {},
   "outputs": [],
   "source": [
    "s = 'abc123456'\n",
    "n = len(s)\n",
    "print(s[0], s[-n])    # a a\n",
    "print(s[n-1], s[-1])  # 6 6\n",
    "print(s[2], s[-7])    # c c\n",
    "print(s[5], s[-4])    # 3 3\n",
    "print(s[2:5])         # c12\n",
    "print(s[-7:-4])       # c12\n",
    "print(s[2:])          # c123456\n",
    "print(s[:2])          # ab\n",
    "print(s[::2])         # ac246\n",
    "print(s[::-1])        # 654321cba"
   ]
  },
  {
   "cell_type": "markdown",
   "metadata": {},
   "source": [
    "需要再次提醒大家注意的是，在进行索引运算时，如果索引越界，会引发IndexError异常，错误提示信息为：string index out of range（字符串索引超出范围）。"
   ]
  },
  {
   "cell_type": "markdown",
   "metadata": {},
   "source": [
    "### 字符的遍历"
   ]
  },
  {
   "cell_type": "markdown",
   "metadata": {},
   "source": [
    "如果希望遍历字符串中的每个字符，可以使用for-in循环，有如下所示的两种方式。"
   ]
  },
  {
   "cell_type": "markdown",
   "metadata": {},
   "source": [
    "方式一："
   ]
  },
  {
   "cell_type": "code",
   "execution_count": null,
   "metadata": {},
   "outputs": [],
   "source": [
    "s = 'hello'\n",
    "for i in range(len(s)):\n",
    "    print(s[i])"
   ]
  },
  {
   "cell_type": "markdown",
   "metadata": {},
   "source": [
    "方式二："
   ]
  },
  {
   "cell_type": "code",
   "execution_count": null,
   "metadata": {},
   "outputs": [],
   "source": [
    "s = 'hello'\n",
    "for elem in s:\n",
    "    print(elem)"
   ]
  },
  {
   "cell_type": "markdown",
   "metadata": {},
   "source": [
    "## 字符串的方法"
   ]
  },
  {
   "cell_type": "markdown",
   "metadata": {},
   "source": [
    "在 Python 中，我们可以通过字符串类型自带的方法对字符串进行操作和处理，假设我们有名为foo的字符串，字符串有名为bar的方法，那么使用字符串方法的语法是：foo.bar()，这是一种通过对象引用调用对象方法的语法，跟前面使用列表方法的语法是一样的。"
   ]
  },
  {
   "cell_type": "markdown",
   "metadata": {},
   "source": [
    "### 大小写的相关操作"
   ]
  },
  {
   "cell_type": "markdown",
   "metadata": {},
   "source": [
    "下面的代码演示了和字符串大小写变换相关的方法。"
   ]
  },
  {
   "cell_type": "code",
   "execution_count": 20,
   "metadata": {},
   "outputs": [
    {
     "name": "stdout",
     "output_type": "stream",
     "text": [
      "Hello, world!\n",
      "Hello, World!\n",
      "HELLO, WORLD!\n",
      "goodbye\n",
      "hello, world!\n",
      "GOODBYE\n"
     ]
    }
   ],
   "source": [
    "s1 = 'hello, world!'\n",
    "# 字符串首字母大写\n",
    "print(s1.capitalize())  # Hello, world!\n",
    "# 字符串每个单词首字母大写\n",
    "print(s1.title())       # Hello, World!\n",
    "# 字符串变大写\n",
    "print(s1.upper())       # HELLO, WORLD!\n",
    "s2 = 'GOODBYE'\n",
    "# 字符串变小写\n",
    "print(s2.lower())       # goodbye\n",
    "# 检查s1和s2的值\n",
    "print(s1)               # hello, world\n",
    "print(s2)               # GOODBYE"
   ]
  },
  {
   "cell_type": "markdown",
   "metadata": {},
   "source": [
    "说明：由于字符串是不可变类型，使用字符串的方法对字符串进行操作会产生新的字符串，但是原来变量的值并没有发生变化。所以上面的代码中，当我们最后检查s1和s2两个变量的值时，s1和s2 的值并没有发生变化。"
   ]
  },
  {
   "cell_type": "markdown",
   "metadata": {},
   "source": [
    "### 查找操作"
   ]
  },
  {
   "cell_type": "markdown",
   "metadata": {},
   "source": [
    "如果想在一个字符串中从前向后查找有没有另外一个字符串，可以使用字符串的find或index方法。在使用find和index方法时还可以通过方法的参数来指定查找的范围，也就是查找不必从索引为0的位置开始。"
   ]
  },
  {
   "cell_type": "code",
   "execution_count": null,
   "metadata": {},
   "outputs": [],
   "source": [
    "s = 'hello, world!'\n",
    "print(s.find('or'))      # 8\n",
    "print(s.find('or', 9))   # -1\n",
    "print(s.find('of'))      # -1\n",
    "print(s.index('or'))     # 8\n",
    "print(s.index('or', 9))  # ValueError: substring not found"
   ]
  },
  {
   "cell_type": "markdown",
   "metadata": {},
   "source": [
    "说明：find方法找不到指定的字符串会返回-1，index方法找不到指定的字符串会引发ValueError错误。"
   ]
  },
  {
   "cell_type": "markdown",
   "metadata": {},
   "source": [
    "find和index方法还有逆向查找（从后向前查找）的版本，分别是rfind和rindex，代码如下所示。"
   ]
  },
  {
   "cell_type": "code",
   "execution_count": null,
   "metadata": {},
   "outputs": [],
   "source": [
    "s = 'hello world!'\n",
    "print(s.find('o'))       # 4\n",
    "print(s.rfind('o'))      # 7\n",
    "print(s.rindex('o'))     # 7\n",
    "# print(s.rindex('o', 8))  # ValueError: substring not found"
   ]
  },
  {
   "cell_type": "markdown",
   "metadata": {},
   "source": [
    "### 性质判断"
   ]
  },
  {
   "cell_type": "markdown",
   "metadata": {},
   "source": [
    "可以通过字符串的startswith、endswith来判断字符串是否以某个字符串开头和结尾；还可以用is开头的方法判断字符串的特征，这些方法都返回布尔值，代码如下所示。"
   ]
  },
  {
   "cell_type": "code",
   "execution_count": null,
   "metadata": {},
   "outputs": [],
   "source": [
    "s1 = 'hello, world!'\n",
    "print(s1.startswith('He'))   # False\n",
    "print(s1.startswith('hel'))  # True\n",
    "print(s1.endswith('!'))      # True\n",
    "s2 = 'abc123456'\n",
    "print(s2.isdigit())  # False\n",
    "print(s2.isalpha())  # False\n",
    "print(s2.isalnum())  # True"
   ]
  },
  {
   "cell_type": "markdown",
   "metadata": {},
   "source": [
    "\n",
    "说明：上面的isdigit用来判断字符串是不是完全由数字构成的，isalpha用来判断字符串是不是完全由字母构成的，这里的字母指的是 Unicode 字符但不包含 Emoji 字符，isalnum用来判断字符串是不是由字母和数字构成的。"
   ]
  },
  {
   "cell_type": "markdown",
   "metadata": {},
   "source": [
    "### 格式化"
   ]
  },
  {
   "cell_type": "markdown",
   "metadata": {},
   "source": [
    "在 Python 中，字符串类型可以通过center、ljust、rjust方法做居中、左对齐和右对齐的处理。如果要在字符串的左侧补零，也可以使用zfill方法。"
   ]
  },
  {
   "cell_type": "code",
   "execution_count": 23,
   "metadata": {},
   "outputs": [
    {
     "name": "stdout",
     "output_type": "stream",
     "text": [
      "****hello, world****\n",
      "        hello, world\n",
      "hello, world~~~~~~~~\n",
      "00033\n",
      "-0033\n"
     ]
    }
   ],
   "source": [
    "s = 'hello, world'\n",
    "print(s.center(20, '*'))  # ****hello, world****\n",
    "print(s.rjust(20))        #         hello, world\n",
    "print(s.ljust(20, '~'))   # hello, world~~~~~~~~\n",
    "print('33'.zfill(5))      # 00033\n",
    "print('-33'.zfill(5))     # -0033"
   ]
  },
  {
   "cell_type": "markdown",
   "metadata": {},
   "source": [
    "\n",
    "我们之前讲过，在用print函数输出字符串时，可以用下面的方式对字符串进行格式化。"
   ]
  },
  {
   "cell_type": "code",
   "execution_count": 24,
   "metadata": {},
   "outputs": [
    {
     "name": "stdout",
     "output_type": "stream",
     "text": [
      "321 * 123 = 39483\n"
     ]
    }
   ],
   "source": [
    "a = 321\n",
    "b = 123\n",
    "print('%d * %d = %d' % (a, b, a * b))"
   ]
  },
  {
   "cell_type": "markdown",
   "metadata": {},
   "source": [
    "当然，我们也可以用字符串的format方法来完成字符串的格式，代码如下所示。"
   ]
  },
  {
   "cell_type": "code",
   "execution_count": 25,
   "metadata": {},
   "outputs": [
    {
     "name": "stdout",
     "output_type": "stream",
     "text": [
      "321 * 123 = 39483\n"
     ]
    }
   ],
   "source": [
    "a = 321\n",
    "b = 123\n",
    "print('{0} * {1} = {2}'.format(a, b, a * b))"
   ]
  },
  {
   "cell_type": "markdown",
   "metadata": {},
   "source": [
    "从 Python 3.6 开始，格式化字符串还有更为简洁的书写方式，就是在字符串前加上f来格式化字符串，在这种以f打头的字符串中，{变量名}是一个占位符，会被变量对应的值将其替换掉，代码如下所示。"
   ]
  },
  {
   "cell_type": "code",
   "execution_count": 26,
   "metadata": {},
   "outputs": [
    {
     "name": "stdout",
     "output_type": "stream",
     "text": [
      "321 * 123 = 39483\n"
     ]
    }
   ],
   "source": [
    "a = 321\n",
    "b = 123\n",
    "print(f'{a} * {b} = {a * b}')"
   ]
  },
  {
   "cell_type": "markdown",
   "metadata": {},
   "source": [
    "如果需要进一步控制格式化语法中变量值的形式，可以参照下面的表格来进行字符串格式化操作。"
   ]
  },
  {
   "cell_type": "markdown",
   "metadata": {},
   "source": [
    "| 变量值      | 占位符     | 格式化结果    | 说明 |\n",
    "| ----------- | ---------- | ------------- | ---- |\n",
    "| `3.1415926` | `{:.2f}`   | `'3.14'`      | 保留小数点后两位 |\n",
    "| `3.1415926` | `{:+.2f}`  | `'+3.14'`       | 带符号保留小数点后两位 |\n",
    "| `-1`        | `{:+.2f}`  | `'-1.00'` | 带符号保留小数点后两位 |\n",
    "| `3.1415926` | `{:.0f}`   | `'3'` | 不带小数 |\n",
    "| `123`       | `{:0>10d}` | `'0000000123'` | 左边补`0`，补够10位 |\n",
    "| `123`       | `{:x<10d}` | `'123xxxxxxx'` | 右边补`x` ，补够10位 |\n",
    "| `123`       | `{:>10d}`  | `'       123'` | 左边补空格，补够10位 |\n",
    "| `123`       | `{:<10d}` | `'123       '` | 右边补空格，补够10位 |\n",
    "| `123456789` | `{:,}`     | `'123,456,789'` | 逗号分隔格式 |\n",
    "| `0.123`     | `{:.2%}`   | `'12.30%'`    | 百分比格式 |\n",
    "| `123456789` | `{:.2e}`   | `'1.23e+08'`  | 科学计数法格式 |"
   ]
  },
  {
   "cell_type": "markdown",
   "metadata": {},
   "source": [
    "### 修剪操作"
   ]
  },
  {
   "cell_type": "markdown",
   "metadata": {},
   "source": [
    "字符串的strip方法可以帮我们获得将原字符串修剪掉左右两端指定字符之后的字符串，默认是修剪空格字符。这个方法非常有实用价值，可以用来将用户输入时不小心键入的头尾空格等去掉，strip方法还有lstrip和rstrip两个版本，相信从名字大家已经猜出来这两个方法是做什么用的。"
   ]
  },
  {
   "cell_type": "code",
   "execution_count": null,
   "metadata": {},
   "outputs": [],
   "source": [
    "s1 = '   jackfrued@126.com  '\n",
    "print(s1.strip())      # jackfrued@126.com\n",
    "s2 = '~你好，世界~'\n",
    "print(s2.lstrip('~'))  # 你好，世界~\n",
    "print(s2.rstrip('~'))  # ~你好，世界"
   ]
  },
  {
   "cell_type": "markdown",
   "metadata": {},
   "source": [
    "### 替代操作"
   ]
  },
  {
   "cell_type": "markdown",
   "metadata": {},
   "source": [
    "如果希望用新的内容替换字符串中指定的内容，可以使用replace方法，代码如下所示。replace方法的第一个参数是被替换的内容，第二个参数是替换后的内容，还可以通过第三个参数指定替换的次数。"
   ]
  },
  {
   "cell_type": "code",
   "execution_count": null,
   "metadata": {},
   "outputs": [],
   "source": [
    "s = 'hello, good world'\n",
    "print(s.replace('o', '@'))     # hell@, g@@d w@rld\n",
    "print(s.replace('o', '@', 1))  # hell@, good world"
   ]
  },
  {
   "cell_type": "markdown",
   "metadata": {},
   "source": [
    "### 拆分与合并"
   ]
  },
  {
   "cell_type": "markdown",
   "metadata": {},
   "source": [
    "可以使用字符串的split方法将一个字符串拆分为多个字符串（放在一个列表中），也可以使用字符串的join方法将列表中的多个字符串连接成一个字符串，代码如下所示。"
   ]
  },
  {
   "cell_type": "code",
   "execution_count": null,
   "metadata": {},
   "outputs": [],
   "source": [
    "s = 'I love you'\n",
    "words = s.split()\n",
    "print(words)            # ['I', 'love', 'you']\n",
    "print('~'.join(words))  # I~love~you"
   ]
  },
  {
   "cell_type": "markdown",
   "metadata": {},
   "source": [
    "需要说明的是，split方法默认使用空格进行拆分，我们也可以指定其他的字符来拆分字符串，而且还可以指定最大拆分次数来控制拆分的效果，代码如下所示。"
   ]
  },
  {
   "cell_type": "code",
   "execution_count": null,
   "metadata": {},
   "outputs": [],
   "source": [
    "s = 'I#love#you#so#much'\n",
    "words = s.split('#')\n",
    "print(words)  # ['I', 'love', 'you', 'so', 'much']\n",
    "words = s.split('#', 2)\n",
    "print(words)  # ['I', 'love', 'you#so#much']"
   ]
  },
  {
   "cell_type": "markdown",
   "metadata": {},
   "source": [
    "### 编码和解码"
   ]
  },
  {
   "cell_type": "markdown",
   "metadata": {},
   "source": [
    "Python 中除了字符串str类型外，还有一种表示二进制数据的字节串类型（bytes）。所谓字节串，就是由零个或多个字节组成的有限序列。通过字符串的encode方法，我们可以按照某种编码方式将字符串编码为字节串，我们也可以使用字节串的decode方法，将字节串解码为字符串，代码如下所示。"
   ]
  },
  {
   "cell_type": "code",
   "execution_count": null,
   "metadata": {},
   "outputs": [],
   "source": [
    "a = '骆昊'\n",
    "b = a.encode('utf-8')\n",
    "c = a.encode('gbk')\n",
    "print(b)                  # b'\\xe9\\xaa\\x86\\xe6\\x98\\x8a'\n",
    "print(c)                  # b'\\xc2\\xe6\\xea\\xbb'\n",
    "print(b.decode('utf-8'))  # 骆昊\n",
    "print(c.decode('gbk'))    # 骆昊"
   ]
  },
  {
   "cell_type": "markdown",
   "metadata": {},
   "source": [
    "注意，如果编码和解码的方式不一致，会导致乱码问题（无法再现原始的内容）或引发UnicodeDecodeError错误，导致程序崩溃。"
   ]
  }
 ],
 "metadata": {
  "kernelspec": {
   "display_name": "base",
   "language": "python",
   "name": "python3"
  },
  "language_info": {
   "codemirror_mode": {
    "name": "ipython",
    "version": 3
   },
   "file_extension": ".py",
   "mimetype": "text/x-python",
   "name": "python",
   "nbconvert_exporter": "python",
   "pygments_lexer": "ipython3",
   "version": "3.12.4"
  }
 },
 "nbformat": 4,
 "nbformat_minor": 2
}
